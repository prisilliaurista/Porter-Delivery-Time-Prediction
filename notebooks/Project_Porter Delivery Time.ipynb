{
  "cells": [
    {
      "cell_type": "markdown",
      "metadata": {
        "id": "KQBSX32KNoF0"
      },
      "source": [
        "# **PORTER DELIVERY TIME ESTIMATION**\n",
        "\n",
        "## **Regression Problem**"
      ]
    },
    {
      "cell_type": "markdown",
      "metadata": {
        "id": "z7qDvTTDcm7D"
      },
      "source": [
        "---\n",
        "---\n",
        "---"
      ]
    },
    {
      "cell_type": "markdown",
      "metadata": {
        "id": "x7b1sRTicVr3"
      },
      "source": [
        "Prisiqilia Aurista Juwita\n"
      ]
    },
    {
      "cell_type": "markdown",
      "metadata": {
        "id": "4t7qNX2S3w0_"
      },
      "source": [
        "---\n",
        "---\n",
        "---\n"
      ]
    },
    {
      "cell_type": "markdown",
      "metadata": {
        "id": "WRV42psnORzB"
      },
      "source": [
        "## **Permasalahan**\n",
        "\n",
        "Dalam industri pengiriman dan e-commerce, durasi pengiriman adalah faktor kritis yang mempengaruhi kepuasan pelanggan. Optimalisasi waktu pengiriman sangat penting untuk meningkatkan efisiensi operasional dan memenuhi harapan pelanggan. Salah satu jasa yang sangat relevan dalam hal ini adalah pengiriman makanan cepat saji. Durasi pengiriman ini dipengaruhi oleh permintaan yang tinggi, faktor cuaca, lalu lintas, persiapan makanan serta pengiriman yang jauh. Untuk itu diasumsikan dalam penelitian ini bahwa durasi pengiriman untuk usaha makanan cepat saji tidak boleh melampaui 120 menit.\n"
      ]
    },
    {
      "cell_type": "markdown",
      "metadata": {
        "id": "LzorX55N4t8a"
      },
      "source": [
        "## **Tujuan Utama**\n",
        "Optimalisasi waktu pengiriman makanan cepat saji. Terkait prediksi durasi pengiriman."
      ]
    },
    {
      "cell_type": "markdown",
      "metadata": {
        "id": "OYNsKAQk6OF2"
      },
      "source": [
        "---"
      ]
    },
    {
      "cell_type": "markdown",
      "metadata": {
        "id": "bwNmHaLm6U-v"
      },
      "source": [
        "# Import Library"
      ]
    },
    {
      "cell_type": "code",
      "execution_count": 3,
      "metadata": {
        "id": "vgqUut5B1exC"
      },
      "outputs": [],
      "source": [
        "import pandas as pd\n",
        "import matplotlib.pyplot as plt\n",
        "import seaborn as sns\n",
        "\n",
        "# Membuat DataFrame\n",
        "df = pd.read_csv('dataset.csv')"
      ]
    },
    {
      "cell_type": "markdown",
      "metadata": {
        "id": "jdh-cQ-6Csay"
      },
      "source": [
        "# **I. Exploratory Data Analysis**"
      ]
    },
    {
      "cell_type": "code",
      "execution_count": null,
      "metadata": {
        "colab": {
          "base_uri": "https://localhost:8080/"
        },
        "id": "TsuuSooWK1As",
        "outputId": "33117ef1-65e1-4000-c2dd-5587ee0c9d4d"
      },
      "outputs": [
        {
          "data": {
            "text/plain": [
              "(197428, 14)"
            ]
          },
          "execution_count": 2,
          "metadata": {},
          "output_type": "execute_result"
        }
      ],
      "source": [
        "df.shape"
      ]
    },
    {
      "cell_type": "code",
      "execution_count": 4,
      "metadata": {
        "colab": {
          "base_uri": "https://localhost:8080/"
        },
        "id": "MnxK-4pY-u8F",
        "outputId": "6c7b6eb2-07f3-492e-c5d2-8be3473d4780"
      },
      "outputs": [
        {
          "data": {
            "text/plain": [
              "Index(['market_id', 'created_at', 'actual_delivery_time', 'store_id',\n",
              "       'store_primary_category', 'order_protocol', 'total_items', 'subtotal',\n",
              "       'num_distinct_items', 'min_item_price', 'max_item_price',\n",
              "       'total_onshift_partners', 'total_busy_partners',\n",
              "       'total_outstanding_orders'],\n",
              "      dtype='object')"
            ]
          },
          "execution_count": 4,
          "metadata": {},
          "output_type": "execute_result"
        }
      ],
      "source": [
        "df.columns"
      ]
    },
    {
      "cell_type": "code",
      "execution_count": 5,
      "metadata": {
        "colab": {
          "base_uri": "https://localhost:8080/",
          "height": 215
        },
        "id": "s87GZu_z9GQa",
        "outputId": "5fe530d3-f6c4-4352-d761-4066da038c84"
      },
      "outputs": [
        {
          "data": {
            "application/vnd.google.colaboratory.intrinsic+json": {
              "repr_error": "0",
              "type": "dataframe"
            },
            "text/html": [
              "\n",
              "  <div id=\"df-bfbd66fd-03c8-47d7-b8e7-5a28f4e66b6f\" class=\"colab-df-container\">\n",
              "    <div>\n",
              "<style scoped>\n",
              "    .dataframe tbody tr th:only-of-type {\n",
              "        vertical-align: middle;\n",
              "    }\n",
              "\n",
              "    .dataframe tbody tr th {\n",
              "        vertical-align: top;\n",
              "    }\n",
              "\n",
              "    .dataframe thead th {\n",
              "        text-align: right;\n",
              "    }\n",
              "</style>\n",
              "<table border=\"1\" class=\"dataframe\">\n",
              "  <thead>\n",
              "    <tr style=\"text-align: right;\">\n",
              "      <th></th>\n",
              "      <th>market_id</th>\n",
              "      <th>created_at</th>\n",
              "      <th>actual_delivery_time</th>\n",
              "      <th>store_id</th>\n",
              "      <th>store_primary_category</th>\n",
              "      <th>order_protocol</th>\n",
              "      <th>total_items</th>\n",
              "      <th>subtotal</th>\n",
              "      <th>num_distinct_items</th>\n",
              "      <th>min_item_price</th>\n",
              "      <th>max_item_price</th>\n",
              "      <th>total_onshift_partners</th>\n",
              "      <th>total_busy_partners</th>\n",
              "      <th>total_outstanding_orders</th>\n",
              "    </tr>\n",
              "  </thead>\n",
              "  <tbody>\n",
              "    <tr>\n",
              "      <th>197425</th>\n",
              "      <td>1.0</td>\n",
              "      <td>2015-01-24 04:46:08</td>\n",
              "      <td>2015-01-24 05:36:16</td>\n",
              "      <td>a914ecef9c12ffdb9bede64bb703d877</td>\n",
              "      <td>fast</td>\n",
              "      <td>4.0</td>\n",
              "      <td>5</td>\n",
              "      <td>1836</td>\n",
              "      <td>3</td>\n",
              "      <td>300</td>\n",
              "      <td>399</td>\n",
              "      <td>39.0</td>\n",
              "      <td>41.0</td>\n",
              "      <td>40.0</td>\n",
              "    </tr>\n",
              "    <tr>\n",
              "      <th>197426</th>\n",
              "      <td>1.0</td>\n",
              "      <td>2015-02-01 18:18:15</td>\n",
              "      <td>2015-02-01 19:23:22</td>\n",
              "      <td>c81e155d85dae5430a8cee6f2242e82c</td>\n",
              "      <td>sandwich</td>\n",
              "      <td>1.0</td>\n",
              "      <td>1</td>\n",
              "      <td>1175</td>\n",
              "      <td>1</td>\n",
              "      <td>535</td>\n",
              "      <td>535</td>\n",
              "      <td>7.0</td>\n",
              "      <td>7.0</td>\n",
              "      <td>12.0</td>\n",
              "    </tr>\n",
              "    <tr>\n",
              "      <th>197427</th>\n",
              "      <td>1.0</td>\n",
              "      <td>2015-02-08 19:24:33</td>\n",
              "      <td>2015-02-08 20:01:41</td>\n",
              "      <td>c81e155d85dae5430a8cee6f2242e82c</td>\n",
              "      <td>sandwich</td>\n",
              "      <td>1.0</td>\n",
              "      <td>4</td>\n",
              "      <td>2605</td>\n",
              "      <td>4</td>\n",
              "      <td>425</td>\n",
              "      <td>750</td>\n",
              "      <td>20.0</td>\n",
              "      <td>20.0</td>\n",
              "      <td>23.0</td>\n",
              "    </tr>\n",
              "  </tbody>\n",
              "</table>\n",
              "</div>\n",
              "    <div class=\"colab-df-buttons\">\n",
              "\n",
              "  <div class=\"colab-df-container\">\n",
              "    <button class=\"colab-df-convert\" onclick=\"convertToInteractive('df-bfbd66fd-03c8-47d7-b8e7-5a28f4e66b6f')\"\n",
              "            title=\"Convert this dataframe to an interactive table.\"\n",
              "            style=\"display:none;\">\n",
              "\n",
              "  <svg xmlns=\"http://www.w3.org/2000/svg\" height=\"24px\" viewBox=\"0 -960 960 960\">\n",
              "    <path d=\"M120-120v-720h720v720H120Zm60-500h600v-160H180v160Zm220 220h160v-160H400v160Zm0 220h160v-160H400v160ZM180-400h160v-160H180v160Zm440 0h160v-160H620v160ZM180-180h160v-160H180v160Zm440 0h160v-160H620v160Z\"/>\n",
              "  </svg>\n",
              "    </button>\n",
              "\n",
              "  <style>\n",
              "    .colab-df-container {\n",
              "      display:flex;\n",
              "      gap: 12px;\n",
              "    }\n",
              "\n",
              "    .colab-df-convert {\n",
              "      background-color: #E8F0FE;\n",
              "      border: none;\n",
              "      border-radius: 50%;\n",
              "      cursor: pointer;\n",
              "      display: none;\n",
              "      fill: #1967D2;\n",
              "      height: 32px;\n",
              "      padding: 0 0 0 0;\n",
              "      width: 32px;\n",
              "    }\n",
              "\n",
              "    .colab-df-convert:hover {\n",
              "      background-color: #E2EBFA;\n",
              "      box-shadow: 0px 1px 2px rgba(60, 64, 67, 0.3), 0px 1px 3px 1px rgba(60, 64, 67, 0.15);\n",
              "      fill: #174EA6;\n",
              "    }\n",
              "\n",
              "    .colab-df-buttons div {\n",
              "      margin-bottom: 4px;\n",
              "    }\n",
              "\n",
              "    [theme=dark] .colab-df-convert {\n",
              "      background-color: #3B4455;\n",
              "      fill: #D2E3FC;\n",
              "    }\n",
              "\n",
              "    [theme=dark] .colab-df-convert:hover {\n",
              "      background-color: #434B5C;\n",
              "      box-shadow: 0px 1px 3px 1px rgba(0, 0, 0, 0.15);\n",
              "      filter: drop-shadow(0px 1px 2px rgba(0, 0, 0, 0.3));\n",
              "      fill: #FFFFFF;\n",
              "    }\n",
              "  </style>\n",
              "\n",
              "    <script>\n",
              "      const buttonEl =\n",
              "        document.querySelector('#df-bfbd66fd-03c8-47d7-b8e7-5a28f4e66b6f button.colab-df-convert');\n",
              "      buttonEl.style.display =\n",
              "        google.colab.kernel.accessAllowed ? 'block' : 'none';\n",
              "\n",
              "      async function convertToInteractive(key) {\n",
              "        const element = document.querySelector('#df-bfbd66fd-03c8-47d7-b8e7-5a28f4e66b6f');\n",
              "        const dataTable =\n",
              "          await google.colab.kernel.invokeFunction('convertToInteractive',\n",
              "                                                    [key], {});\n",
              "        if (!dataTable) return;\n",
              "\n",
              "        const docLinkHtml = 'Like what you see? Visit the ' +\n",
              "          '<a target=\"_blank\" href=https://colab.research.google.com/notebooks/data_table.ipynb>data table notebook</a>'\n",
              "          + ' to learn more about interactive tables.';\n",
              "        element.innerHTML = '';\n",
              "        dataTable['output_type'] = 'display_data';\n",
              "        await google.colab.output.renderOutput(dataTable, element);\n",
              "        const docLink = document.createElement('div');\n",
              "        docLink.innerHTML = docLinkHtml;\n",
              "        element.appendChild(docLink);\n",
              "      }\n",
              "    </script>\n",
              "  </div>\n",
              "\n",
              "\n",
              "<div id=\"df-4df8723b-a1be-474e-9151-5a93c6aa08dc\">\n",
              "  <button class=\"colab-df-quickchart\" onclick=\"quickchart('df-4df8723b-a1be-474e-9151-5a93c6aa08dc')\"\n",
              "            title=\"Suggest charts\"\n",
              "            style=\"display:none;\">\n",
              "\n",
              "<svg xmlns=\"http://www.w3.org/2000/svg\" height=\"24px\"viewBox=\"0 0 24 24\"\n",
              "     width=\"24px\">\n",
              "    <g>\n",
              "        <path d=\"M19 3H5c-1.1 0-2 .9-2 2v14c0 1.1.9 2 2 2h14c1.1 0 2-.9 2-2V5c0-1.1-.9-2-2-2zM9 17H7v-7h2v7zm4 0h-2V7h2v10zm4 0h-2v-4h2v4z\"/>\n",
              "    </g>\n",
              "</svg>\n",
              "  </button>\n",
              "\n",
              "<style>\n",
              "  .colab-df-quickchart {\n",
              "      --bg-color: #E8F0FE;\n",
              "      --fill-color: #1967D2;\n",
              "      --hover-bg-color: #E2EBFA;\n",
              "      --hover-fill-color: #174EA6;\n",
              "      --disabled-fill-color: #AAA;\n",
              "      --disabled-bg-color: #DDD;\n",
              "  }\n",
              "\n",
              "  [theme=dark] .colab-df-quickchart {\n",
              "      --bg-color: #3B4455;\n",
              "      --fill-color: #D2E3FC;\n",
              "      --hover-bg-color: #434B5C;\n",
              "      --hover-fill-color: #FFFFFF;\n",
              "      --disabled-bg-color: #3B4455;\n",
              "      --disabled-fill-color: #666;\n",
              "  }\n",
              "\n",
              "  .colab-df-quickchart {\n",
              "    background-color: var(--bg-color);\n",
              "    border: none;\n",
              "    border-radius: 50%;\n",
              "    cursor: pointer;\n",
              "    display: none;\n",
              "    fill: var(--fill-color);\n",
              "    height: 32px;\n",
              "    padding: 0;\n",
              "    width: 32px;\n",
              "  }\n",
              "\n",
              "  .colab-df-quickchart:hover {\n",
              "    background-color: var(--hover-bg-color);\n",
              "    box-shadow: 0 1px 2px rgba(60, 64, 67, 0.3), 0 1px 3px 1px rgba(60, 64, 67, 0.15);\n",
              "    fill: var(--button-hover-fill-color);\n",
              "  }\n",
              "\n",
              "  .colab-df-quickchart-complete:disabled,\n",
              "  .colab-df-quickchart-complete:disabled:hover {\n",
              "    background-color: var(--disabled-bg-color);\n",
              "    fill: var(--disabled-fill-color);\n",
              "    box-shadow: none;\n",
              "  }\n",
              "\n",
              "  .colab-df-spinner {\n",
              "    border: 2px solid var(--fill-color);\n",
              "    border-color: transparent;\n",
              "    border-bottom-color: var(--fill-color);\n",
              "    animation:\n",
              "      spin 1s steps(1) infinite;\n",
              "  }\n",
              "\n",
              "  @keyframes spin {\n",
              "    0% {\n",
              "      border-color: transparent;\n",
              "      border-bottom-color: var(--fill-color);\n",
              "      border-left-color: var(--fill-color);\n",
              "    }\n",
              "    20% {\n",
              "      border-color: transparent;\n",
              "      border-left-color: var(--fill-color);\n",
              "      border-top-color: var(--fill-color);\n",
              "    }\n",
              "    30% {\n",
              "      border-color: transparent;\n",
              "      border-left-color: var(--fill-color);\n",
              "      border-top-color: var(--fill-color);\n",
              "      border-right-color: var(--fill-color);\n",
              "    }\n",
              "    40% {\n",
              "      border-color: transparent;\n",
              "      border-right-color: var(--fill-color);\n",
              "      border-top-color: var(--fill-color);\n",
              "    }\n",
              "    60% {\n",
              "      border-color: transparent;\n",
              "      border-right-color: var(--fill-color);\n",
              "    }\n",
              "    80% {\n",
              "      border-color: transparent;\n",
              "      border-right-color: var(--fill-color);\n",
              "      border-bottom-color: var(--fill-color);\n",
              "    }\n",
              "    90% {\n",
              "      border-color: transparent;\n",
              "      border-bottom-color: var(--fill-color);\n",
              "    }\n",
              "  }\n",
              "</style>\n",
              "\n",
              "  <script>\n",
              "    async function quickchart(key) {\n",
              "      const quickchartButtonEl =\n",
              "        document.querySelector('#' + key + ' button');\n",
              "      quickchartButtonEl.disabled = true;  // To prevent multiple clicks.\n",
              "      quickchartButtonEl.classList.add('colab-df-spinner');\n",
              "      try {\n",
              "        const charts = await google.colab.kernel.invokeFunction(\n",
              "            'suggestCharts', [key], {});\n",
              "      } catch (error) {\n",
              "        console.error('Error during call to suggestCharts:', error);\n",
              "      }\n",
              "      quickchartButtonEl.classList.remove('colab-df-spinner');\n",
              "      quickchartButtonEl.classList.add('colab-df-quickchart-complete');\n",
              "    }\n",
              "    (() => {\n",
              "      let quickchartButtonEl =\n",
              "        document.querySelector('#df-4df8723b-a1be-474e-9151-5a93c6aa08dc button');\n",
              "      quickchartButtonEl.style.display =\n",
              "        google.colab.kernel.accessAllowed ? 'block' : 'none';\n",
              "    })();\n",
              "  </script>\n",
              "</div>\n",
              "\n",
              "    </div>\n",
              "  </div>\n"
            ],
            "text/plain": [
              "        market_id           created_at actual_delivery_time  \\\n",
              "197425        1.0  2015-01-24 04:46:08  2015-01-24 05:36:16   \n",
              "197426        1.0  2015-02-01 18:18:15  2015-02-01 19:23:22   \n",
              "197427        1.0  2015-02-08 19:24:33  2015-02-08 20:01:41   \n",
              "\n",
              "                                store_id store_primary_category  \\\n",
              "197425  a914ecef9c12ffdb9bede64bb703d877                   fast   \n",
              "197426  c81e155d85dae5430a8cee6f2242e82c               sandwich   \n",
              "197427  c81e155d85dae5430a8cee6f2242e82c               sandwich   \n",
              "\n",
              "        order_protocol  total_items  subtotal  num_distinct_items  \\\n",
              "197425             4.0            5      1836                   3   \n",
              "197426             1.0            1      1175                   1   \n",
              "197427             1.0            4      2605                   4   \n",
              "\n",
              "        min_item_price  max_item_price  total_onshift_partners  \\\n",
              "197425             300             399                    39.0   \n",
              "197426             535             535                     7.0   \n",
              "197427             425             750                    20.0   \n",
              "\n",
              "        total_busy_partners  total_outstanding_orders  \n",
              "197425                 41.0                      40.0  \n",
              "197426                  7.0                      12.0  \n",
              "197427                 20.0                      23.0  "
            ]
          },
          "execution_count": 5,
          "metadata": {},
          "output_type": "execute_result"
        }
      ],
      "source": [
        "df.tail(3)"
      ]
    },
    {
      "cell_type": "markdown",
      "metadata": {
        "id": "HqoUtEh_92Ib"
      },
      "source": [
        "## Analisis Fitur\n",
        "\n",
        "**market_id:**\n",
        "\n",
        "Menunjukkan pasar tempat pesanan dibuat. Fitur ini bisa membantu dalam memahami variasi waktu pengiriman berdasarkan lokasi.\n",
        "\n",
        "**created_at dan actual_delivery_time:**\n",
        "\n",
        "Dua kolom waktu ini penting untuk menghitung durasi pengiriman. Dengan menghitung selisih antara keduanya, dapat diperoleh waktu pengiriman yang sebenarnya.\n",
        "\n",
        "**store_id:**\n",
        "\n",
        "Mengidentifikasi toko tertentu. Analisis berdasarkan toko dapat mengungkap pola pengiriman, seperti kecepatan pengiriman dari berbagai restoran atau penyedia layanan.\n",
        "\n",
        "**store_primary_category:**\n",
        "\n",
        "Menunjukkan kategori toko, yang dapat dianalisis untuk melihat apakah jenis masakan atau kategori produk mempengaruhi waktu pengiriman.\n",
        "\n",
        "**order_protocol:**\n",
        "\n",
        "Metode pemesanan yang digunakan. Ini bisa jadi relevan jika ada perbedaan dalam waktu pengiriman berdasarkan cara pelanggan memesan (aplikasi, website, dll.).\n",
        "\n",
        "**total_items, subtotal, dan num_distinct_items:**\n",
        "\n",
        "Jumlah total item, total harga, dan jumlah item berbeda. Fitur-fitur ini bisa mempengaruhi waktu pengiriman dan biaya, karena pesanan yang lebih besar mungkin memerlukan lebih banyak waktu untuk diproses dan dikirim.\n",
        "\n",
        "**min_item_price dan max_item_price:**\n",
        "\n",
        "Harga item terendah dan tertinggi dalam pesanan. Ini dapat membantu dalam memahami variasi biaya berdasarkan jenis produk.\n",
        "\n",
        "**total_onshift_partners, total_busy_partners, dan total_outstanding_orders:**\n",
        "\n",
        "Statistik tentang mitra pengiriman. Data ini penting untuk mengukur kapasitas pengiriman dan bagaimana hal ini mempengaruhi waktu pengiriman. Misalnya, jika banyak mitra sedang sibuk, waktu pengiriman mungkin lebih lama."
      ]
    },
    {
      "cell_type": "code",
      "execution_count": 6,
      "metadata": {
        "colab": {
          "base_uri": "https://localhost:8080/"
        },
        "id": "G9m6v49V9K-f",
        "outputId": "90099dab-a641-431f-977a-bad232cf6ebe"
      },
      "outputs": [
        {
          "name": "stdout",
          "output_type": "stream",
          "text": [
            "<class 'pandas.core.frame.DataFrame'>\n",
            "RangeIndex: 197428 entries, 0 to 197427\n",
            "Data columns (total 14 columns):\n",
            " #   Column                    Non-Null Count   Dtype  \n",
            "---  ------                    --------------   -----  \n",
            " 0   market_id                 196441 non-null  float64\n",
            " 1   created_at                197428 non-null  object \n",
            " 2   actual_delivery_time      197421 non-null  object \n",
            " 3   store_id                  197428 non-null  object \n",
            " 4   store_primary_category    192668 non-null  object \n",
            " 5   order_protocol            196433 non-null  float64\n",
            " 6   total_items               197428 non-null  int64  \n",
            " 7   subtotal                  197428 non-null  int64  \n",
            " 8   num_distinct_items        197428 non-null  int64  \n",
            " 9   min_item_price            197428 non-null  int64  \n",
            " 10  max_item_price            197428 non-null  int64  \n",
            " 11  total_onshift_partners    181166 non-null  float64\n",
            " 12  total_busy_partners       181166 non-null  float64\n",
            " 13  total_outstanding_orders  181166 non-null  float64\n",
            "dtypes: float64(5), int64(5), object(4)\n",
            "memory usage: 21.1+ MB\n",
            "None\n"
          ]
        }
      ],
      "source": [
        "print(df.info())  # Menampilkan informasi tipe data dan jumlah non-null"
      ]
    },
    {
      "cell_type": "code",
      "execution_count": 7,
      "metadata": {
        "id": "Ayqbk4KheJ6H"
      },
      "outputs": [],
      "source": [
        "# Konversi kolom ke tipe datetime\n",
        "df['created_at'] = pd.to_datetime(df['created_at'])  # Mengganti tipe data\n",
        "df['actual_delivery_time'] = pd.to_datetime(df['actual_delivery_time'])  # Mengganti tipe data"
      ]
    },
    {
      "cell_type": "code",
      "execution_count": 8,
      "metadata": {
        "id": "MggE_MgOsfIH"
      },
      "outputs": [],
      "source": [
        "df['store_id'] = df['store_id'].astype('category').cat.codes"
      ]
    },
    {
      "cell_type": "code",
      "execution_count": 9,
      "metadata": {
        "colab": {
          "base_uri": "https://localhost:8080/",
          "height": 118
        },
        "id": "3pbVQo9fNoij",
        "outputId": "7ca729a8-cba0-4bbd-ef4b-91e3c963547b"
      },
      "outputs": [
        {
          "data": {
            "application/vnd.google.colaboratory.intrinsic+json": {
              "type": "dataframe",
              "variable_name": "df"
            },
            "text/html": [
              "\n",
              "  <div id=\"df-a7e08dbb-a4e4-497a-ba79-29fba6b022ff\" class=\"colab-df-container\">\n",
              "    <div>\n",
              "<style scoped>\n",
              "    .dataframe tbody tr th:only-of-type {\n",
              "        vertical-align: middle;\n",
              "    }\n",
              "\n",
              "    .dataframe tbody tr th {\n",
              "        vertical-align: top;\n",
              "    }\n",
              "\n",
              "    .dataframe thead th {\n",
              "        text-align: right;\n",
              "    }\n",
              "</style>\n",
              "<table border=\"1\" class=\"dataframe\">\n",
              "  <thead>\n",
              "    <tr style=\"text-align: right;\">\n",
              "      <th></th>\n",
              "      <th>market_id</th>\n",
              "      <th>created_at</th>\n",
              "      <th>actual_delivery_time</th>\n",
              "      <th>store_id</th>\n",
              "      <th>store_primary_category</th>\n",
              "      <th>order_protocol</th>\n",
              "      <th>total_items</th>\n",
              "      <th>subtotal</th>\n",
              "      <th>num_distinct_items</th>\n",
              "      <th>min_item_price</th>\n",
              "      <th>max_item_price</th>\n",
              "      <th>total_onshift_partners</th>\n",
              "      <th>total_busy_partners</th>\n",
              "      <th>total_outstanding_orders</th>\n",
              "    </tr>\n",
              "  </thead>\n",
              "  <tbody>\n",
              "    <tr>\n",
              "      <th>0</th>\n",
              "      <td>1.0</td>\n",
              "      <td>2015-02-06 22:24:17</td>\n",
              "      <td>2015-02-06 23:27:16</td>\n",
              "      <td>5913</td>\n",
              "      <td>american</td>\n",
              "      <td>1.0</td>\n",
              "      <td>4</td>\n",
              "      <td>3441</td>\n",
              "      <td>4</td>\n",
              "      <td>557</td>\n",
              "      <td>1239</td>\n",
              "      <td>33.0</td>\n",
              "      <td>14.0</td>\n",
              "      <td>21.0</td>\n",
              "    </tr>\n",
              "  </tbody>\n",
              "</table>\n",
              "</div>\n",
              "    <div class=\"colab-df-buttons\">\n",
              "\n",
              "  <div class=\"colab-df-container\">\n",
              "    <button class=\"colab-df-convert\" onclick=\"convertToInteractive('df-a7e08dbb-a4e4-497a-ba79-29fba6b022ff')\"\n",
              "            title=\"Convert this dataframe to an interactive table.\"\n",
              "            style=\"display:none;\">\n",
              "\n",
              "  <svg xmlns=\"http://www.w3.org/2000/svg\" height=\"24px\" viewBox=\"0 -960 960 960\">\n",
              "    <path d=\"M120-120v-720h720v720H120Zm60-500h600v-160H180v160Zm220 220h160v-160H400v160Zm0 220h160v-160H400v160ZM180-400h160v-160H180v160Zm440 0h160v-160H620v160ZM180-180h160v-160H180v160Zm440 0h160v-160H620v160Z\"/>\n",
              "  </svg>\n",
              "    </button>\n",
              "\n",
              "  <style>\n",
              "    .colab-df-container {\n",
              "      display:flex;\n",
              "      gap: 12px;\n",
              "    }\n",
              "\n",
              "    .colab-df-convert {\n",
              "      background-color: #E8F0FE;\n",
              "      border: none;\n",
              "      border-radius: 50%;\n",
              "      cursor: pointer;\n",
              "      display: none;\n",
              "      fill: #1967D2;\n",
              "      height: 32px;\n",
              "      padding: 0 0 0 0;\n",
              "      width: 32px;\n",
              "    }\n",
              "\n",
              "    .colab-df-convert:hover {\n",
              "      background-color: #E2EBFA;\n",
              "      box-shadow: 0px 1px 2px rgba(60, 64, 67, 0.3), 0px 1px 3px 1px rgba(60, 64, 67, 0.15);\n",
              "      fill: #174EA6;\n",
              "    }\n",
              "\n",
              "    .colab-df-buttons div {\n",
              "      margin-bottom: 4px;\n",
              "    }\n",
              "\n",
              "    [theme=dark] .colab-df-convert {\n",
              "      background-color: #3B4455;\n",
              "      fill: #D2E3FC;\n",
              "    }\n",
              "\n",
              "    [theme=dark] .colab-df-convert:hover {\n",
              "      background-color: #434B5C;\n",
              "      box-shadow: 0px 1px 3px 1px rgba(0, 0, 0, 0.15);\n",
              "      filter: drop-shadow(0px 1px 2px rgba(0, 0, 0, 0.3));\n",
              "      fill: #FFFFFF;\n",
              "    }\n",
              "  </style>\n",
              "\n",
              "    <script>\n",
              "      const buttonEl =\n",
              "        document.querySelector('#df-a7e08dbb-a4e4-497a-ba79-29fba6b022ff button.colab-df-convert');\n",
              "      buttonEl.style.display =\n",
              "        google.colab.kernel.accessAllowed ? 'block' : 'none';\n",
              "\n",
              "      async function convertToInteractive(key) {\n",
              "        const element = document.querySelector('#df-a7e08dbb-a4e4-497a-ba79-29fba6b022ff');\n",
              "        const dataTable =\n",
              "          await google.colab.kernel.invokeFunction('convertToInteractive',\n",
              "                                                    [key], {});\n",
              "        if (!dataTable) return;\n",
              "\n",
              "        const docLinkHtml = 'Like what you see? Visit the ' +\n",
              "          '<a target=\"_blank\" href=https://colab.research.google.com/notebooks/data_table.ipynb>data table notebook</a>'\n",
              "          + ' to learn more about interactive tables.';\n",
              "        element.innerHTML = '';\n",
              "        dataTable['output_type'] = 'display_data';\n",
              "        await google.colab.output.renderOutput(dataTable, element);\n",
              "        const docLink = document.createElement('div');\n",
              "        docLink.innerHTML = docLinkHtml;\n",
              "        element.appendChild(docLink);\n",
              "      }\n",
              "    </script>\n",
              "  </div>\n",
              "\n",
              "\n",
              "    </div>\n",
              "  </div>\n"
            ],
            "text/plain": [
              "   market_id          created_at actual_delivery_time  store_id  \\\n",
              "0        1.0 2015-02-06 22:24:17  2015-02-06 23:27:16      5913   \n",
              "\n",
              "  store_primary_category  order_protocol  total_items  subtotal  \\\n",
              "0               american             1.0            4      3441   \n",
              "\n",
              "   num_distinct_items  min_item_price  max_item_price  total_onshift_partners  \\\n",
              "0                   4             557            1239                    33.0   \n",
              "\n",
              "   total_busy_partners  total_outstanding_orders  \n",
              "0                 14.0                      21.0  "
            ]
          },
          "execution_count": 9,
          "metadata": {},
          "output_type": "execute_result"
        }
      ],
      "source": [
        "df.head(1)"
      ]
    },
    {
      "cell_type": "markdown",
      "metadata": {
        "id": "oqlsQcv-6vuV"
      },
      "source": [
        "# **II. Data Preprocessing**"
      ]
    },
    {
      "cell_type": "code",
      "execution_count": 10,
      "metadata": {
        "colab": {
          "base_uri": "https://localhost:8080/"
        },
        "id": "qxvt5IV1B7fJ",
        "outputId": "31b59599-6852-41f4-8ad9-17828246d1f4"
      },
      "outputs": [
        {
          "name": "stdout",
          "output_type": "stream",
          "text": [
            "                          Missing Values  Percentage (%)\n",
            "market_id                            987        0.499929\n",
            "created_at                             0        0.000000\n",
            "actual_delivery_time                   7        0.003546\n",
            "store_id                               0        0.000000\n",
            "store_primary_category              4760        2.411006\n",
            "order_protocol                       995        0.503981\n",
            "total_items                            0        0.000000\n",
            "subtotal                               0        0.000000\n",
            "num_distinct_items                     0        0.000000\n",
            "min_item_price                         0        0.000000\n",
            "max_item_price                         0        0.000000\n",
            "total_onshift_partners             16262        8.236927\n",
            "total_busy_partners                16262        8.236927\n",
            "total_outstanding_orders           16262        8.236927\n",
            "Total missing values: 55535\n",
            "Total percentage of missing values: 28.13%\n"
          ]
        }
      ],
      "source": [
        "# Menghitung jumlah missing values\n",
        "missing_values = df.isnull().sum()\n",
        "\n",
        "# Menghitung total baris dalam DataFrame\n",
        "total_rows = df.shape[0]\n",
        "\n",
        "# Menghitung persentase missing values\n",
        "missing_percentage = (missing_values / total_rows) * 100\n",
        "\n",
        "# Membuat DataFrame untuk menampilkan hasil\n",
        "missing_summary = pd.DataFrame({\n",
        "    'Missing Values': missing_values,\n",
        "    'Percentage (%)': missing_percentage\n",
        "})\n",
        "\n",
        "# Menambahkan total missing values dan persentase\n",
        "total_missing = missing_values.sum()\n",
        "total_percentage = (total_missing / total_rows) * 100\n",
        "\n",
        "# Menampilkan ringkasan\n",
        "print(missing_summary)\n",
        "print(\"Total missing values:\", total_missing)\n",
        "print(\"Total percentage of missing values: {:.2f}%\".format(total_percentage))"
      ]
    },
    {
      "cell_type": "markdown",
      "metadata": {
        "id": "-E8WIjhxuv3A"
      },
      "source": [
        "## Keterangan\n",
        "Terdapat total 28,13% missing values dan cukup signifikan bila dihapus"
      ]
    },
    {
      "cell_type": "markdown",
      "metadata": {
        "id": "qt6ETTbt8cS6"
      },
      "source": [
        "## Tindakan"
      ]
    },
    {
      "cell_type": "markdown",
      "metadata": {
        "id": "wrD3dR7qSZ20"
      },
      "source": [
        "## Penggantian data yang hilang dengan modus dan median\n",
        "\n",
        "1. Modus sangat tepat untuk kolom kategori (seperti market_id, actual_delivery_time, store_primary_category, dan order_protocol) karena modus adalah nilai yang paling sering muncul. Ini memastikan bahwa imputasi tidak mengubah distribusi data secara signifikan.\n",
        "\n",
        "2. Dengan mengganti nilai yang hilang dengan modus, stabilitas dalam kategori tetap terjaga dan ini juga menghindari pengenalan bias yang mungkin terjadi jika digunakan nilai acak atau rata-rata.\n",
        "\n",
        "3. Median adalah nilai tengah dari dataset dan lebih tahan terhadap pencilan (outliers) dibandingkan dengan rata-rata. Jika kolom seperti total_onshift_partners, total_busy_partners, dan total_outstanding_orders memiliki nilai yang sangat tinggi atau rendah, median memberikan estimasi yang lebih akurat untuk nilai yang hilang.\n",
        "\n",
        "4. Jika data tidak terdistribusi normal, menggunakan median membantu menghindari distorsi yang dapat terjadi dengan rata-rata. Ini penting untuk memastikan bahwa nilai yang dihasilkan lebih representatif dari data yang ada."
      ]
    },
    {
      "cell_type": "code",
      "execution_count": 11,
      "metadata": {
        "id": "_KN6685ULy9C"
      },
      "outputs": [],
      "source": [
        "# Imputasi untuk kolom yang terdapat missing values\n",
        "df['market_id'] = df['market_id'].fillna(df['market_id'].mode()[0])  # Mengganti dengan modus\n",
        "df['actual_delivery_time']= df['actual_delivery_time'].fillna(df['actual_delivery_time'].mode()[0])  # Mengganti dengan modus\n",
        "df['store_primary_category'] = df['store_primary_category'].fillna(df['store_primary_category'].mode()[0])  # Mengganti dengan modus\n",
        "df['order_protocol'] = df['order_protocol'].fillna(df['order_protocol'].mode()[0])  # Mengganti dengan modus\n",
        "df['total_onshift_partners'] = df['total_onshift_partners'].fillna(df['total_onshift_partners'].median())  # Mengganti dengan median\n",
        "df['total_busy_partners'] = df['total_busy_partners'].fillna(df['total_busy_partners'].median())  # Mengganti dengan median\n",
        "df['total_outstanding_orders'] = df['total_outstanding_orders'].fillna(df['total_outstanding_orders'].median())  # Mengganti dengan median"
      ]
    },
    {
      "cell_type": "code",
      "execution_count": 12,
      "metadata": {
        "colab": {
          "base_uri": "https://localhost:8080/"
        },
        "id": "VxajqlKjCfAX",
        "outputId": "d315c727-580c-4332-9eb8-72ed28108045"
      },
      "outputs": [
        {
          "name": "stdout",
          "output_type": "stream",
          "text": [
            "market_id                   0\n",
            "created_at                  0\n",
            "actual_delivery_time        0\n",
            "store_id                    0\n",
            "store_primary_category      0\n",
            "order_protocol              0\n",
            "total_items                 0\n",
            "subtotal                    0\n",
            "num_distinct_items          0\n",
            "min_item_price              0\n",
            "max_item_price              0\n",
            "total_onshift_partners      0\n",
            "total_busy_partners         0\n",
            "total_outstanding_orders    0\n",
            "dtype: int64\n"
          ]
        }
      ],
      "source": [
        "# Verifikasi apakah nilai hilang sudah teratasi\n",
        "print(df.isnull().sum())"
      ]
    },
    {
      "cell_type": "code",
      "execution_count": 13,
      "metadata": {
        "colab": {
          "base_uri": "https://localhost:8080/"
        },
        "id": "8gwP7ej1O1JK",
        "outputId": "0afb7810-89e1-4ff6-a638-85647b779a67"
      },
      "outputs": [
        {
          "name": "stdout",
          "output_type": "stream",
          "text": [
            "<class 'pandas.core.frame.DataFrame'>\n",
            "RangeIndex: 197428 entries, 0 to 197427\n",
            "Data columns (total 14 columns):\n",
            " #   Column                    Non-Null Count   Dtype         \n",
            "---  ------                    --------------   -----         \n",
            " 0   market_id                 197428 non-null  float64       \n",
            " 1   created_at                197428 non-null  datetime64[ns]\n",
            " 2   actual_delivery_time      197428 non-null  datetime64[ns]\n",
            " 3   store_id                  197428 non-null  int16         \n",
            " 4   store_primary_category    197428 non-null  object        \n",
            " 5   order_protocol            197428 non-null  float64       \n",
            " 6   total_items               197428 non-null  int64         \n",
            " 7   subtotal                  197428 non-null  int64         \n",
            " 8   num_distinct_items        197428 non-null  int64         \n",
            " 9   min_item_price            197428 non-null  int64         \n",
            " 10  max_item_price            197428 non-null  int64         \n",
            " 11  total_onshift_partners    197428 non-null  float64       \n",
            " 12  total_busy_partners       197428 non-null  float64       \n",
            " 13  total_outstanding_orders  197428 non-null  float64       \n",
            "dtypes: datetime64[ns](2), float64(5), int16(1), int64(5), object(1)\n",
            "memory usage: 20.0+ MB\n",
            "None\n"
          ]
        }
      ],
      "source": [
        "print(df.info())"
      ]
    },
    {
      "cell_type": "markdown",
      "metadata": {
        "id": "b8h1PVe5vydl"
      },
      "source": [
        "## Semua data sudah terisi dilanjutkan dengan permbersihan data"
      ]
    },
    {
      "cell_type": "code",
      "execution_count": 14,
      "metadata": {
        "colab": {
          "base_uri": "https://localhost:8080/"
        },
        "id": "arws1lnhDCUB",
        "outputId": "254ca800-4a36-4e3a-c2aa-c6726c8e2512"
      },
      "outputs": [
        {
          "name": "stdout",
          "output_type": "stream",
          "text": [
            "Index(['market_id', 'created_at', 'actual_delivery_time', 'store_id',\n",
            "       'store_primary_category', 'order_protocol', 'total_items', 'subtotal',\n",
            "       'num_distinct_items', 'min_item_price', 'max_item_price',\n",
            "       'total_onshift_partners', 'total_busy_partners',\n",
            "       'total_outstanding_orders'],\n",
            "      dtype='object')\n",
            "market_id                          float64\n",
            "created_at                  datetime64[ns]\n",
            "actual_delivery_time        datetime64[ns]\n",
            "store_id                             int16\n",
            "store_primary_category              object\n",
            "order_protocol                     float64\n",
            "total_items                          int64\n",
            "subtotal                             int64\n",
            "num_distinct_items                   int64\n",
            "min_item_price                       int64\n",
            "max_item_price                       int64\n",
            "total_onshift_partners             float64\n",
            "total_busy_partners                float64\n",
            "total_outstanding_orders           float64\n",
            "dtype: object\n"
          ]
        }
      ],
      "source": [
        "# Memeriksa tipe data kolom\n",
        "print(df.columns)\n",
        "print(df.dtypes)"
      ]
    },
    {
      "cell_type": "code",
      "execution_count": 15,
      "metadata": {
        "colab": {
          "base_uri": "https://localhost:8080/"
        },
        "id": "YXfTzKE9D_b3",
        "outputId": "76991812-2192-4b84-a147-a21707313459"
      },
      "outputs": [
        {
          "name": "stdout",
          "output_type": "stream",
          "text": [
            "['american' 'mexican' 'indian' 'italian' 'sandwich' 'thai' 'cafe' 'salad'\n",
            " 'pizza' 'chinese' 'singaporean' 'burger' 'breakfast' 'mediterranean'\n",
            " 'japanese' 'greek' 'catering' 'filipino' 'convenience-store' 'other'\n",
            " 'korean' 'vegan' 'asian' 'barbecue' 'fast' 'dessert' 'smoothie' 'seafood'\n",
            " 'vietnamese' 'cajun' 'steak' 'middle-eastern' 'soup' 'vegetarian'\n",
            " 'persian' 'nepalese' 'sushi' 'latin-american' 'hawaiian' 'chocolate'\n",
            " 'burmese' 'british' 'pasta' 'alcohol' 'dim-sum' 'peruvian' 'turkish'\n",
            " 'malaysian' 'ethiopian' 'afghan' 'bubble-tea' 'german' 'french'\n",
            " 'caribbean' 'gluten-free' 'comfort-food' 'gastropub' 'pakistani'\n",
            " 'moroccan' 'spanish' 'southern' 'tapas' 'russian' 'brazilian' 'european'\n",
            " 'cheese' 'african' 'argentine' 'kosher' 'irish' 'lebanese' 'belgian'\n",
            " 'indonesian' 'alcohol-plus-food']\n"
          ]
        }
      ],
      "source": [
        "print(df['store_primary_category'].unique())"
      ]
    },
    {
      "cell_type": "code",
      "execution_count": 16,
      "metadata": {
        "colab": {
          "base_uri": "https://localhost:8080/"
        },
        "id": "-37TRI5zHgLC",
        "outputId": "a2e3e937-5d41-4676-bc87-5a3926a5f911"
      },
      "outputs": [
        {
          "name": "stdout",
          "output_type": "stream",
          "text": [
            "74\n"
          ]
        }
      ],
      "source": [
        "categories = ['american', 'mexican', 'indian', 'italian', 'sandwich', 'thai', 'cafe',\n",
        "              'salad', 'pizza', 'chinese', 'singaporean', 'burger', 'breakfast',\n",
        "              'mediterranean', 'japanese', 'greek', 'catering', 'filipino',\n",
        "              'convenience-store', 'other', 'korean', 'vegan', 'asian', 'barbecue',\n",
        "              'fast', 'dessert', 'smoothie', 'seafood', 'vietnamese', 'cajun', 'steak',\n",
        "              'middle-eastern', 'soup', 'vegetarian', 'persian', 'nepalese', 'sushi',\n",
        "              'latin-american', 'hawaiian', 'chocolate', 'burmese', 'british', 'pasta',\n",
        "              'alcohol', 'dim-sum', 'peruvian', 'turkish', 'malaysian', 'ethiopian',\n",
        "              'afghan', 'bubble-tea', 'german', 'french', 'caribbean', 'gluten-free',\n",
        "              'comfort-food', 'gastropub', 'pakistani', 'moroccan', 'spanish', 'southern',\n",
        "              'tapas', 'russian', 'brazilian', 'european', 'cheese', 'african', 'argentine',\n",
        "              'kosher', 'irish', 'lebanese', 'belgian', 'indonesian', 'alcohol-plus-food']\n",
        "\n",
        "# Menghitung jumlah kategori unik\n",
        "unique_count = len(set(categories))\n",
        "print(unique_count)"
      ]
    },
    {
      "cell_type": "code",
      "execution_count": 17,
      "metadata": {
        "colab": {
          "base_uri": "https://localhost:8080/"
        },
        "id": "FcjJYvsvQOoo",
        "outputId": "6c65104a-36d4-4d50-da81-5264234824dc"
      },
      "outputs": [
        {
          "name": "stdout",
          "output_type": "stream",
          "text": [
            "float64\n",
            "[1. 2. 3. 4. 5. 6.]\n"
          ]
        }
      ],
      "source": [
        "# Memeriksa tipe data\n",
        "print(df['market_id'].dtype)\n",
        "\n",
        "# Memeriksa nilai unik\n",
        "print(df['market_id'].unique())"
      ]
    },
    {
      "cell_type": "code",
      "execution_count": 18,
      "metadata": {
        "colab": {
          "base_uri": "https://localhost:8080/"
        },
        "id": "93xExBjUdDFC",
        "outputId": "5e9e3cbe-f7ee-44dc-ae29-1e5f4a553751"
      },
      "outputs": [
        {
          "name": "stdout",
          "output_type": "stream",
          "text": [
            "0\n"
          ]
        }
      ],
      "source": [
        "print(df['market_id'].isnull().sum())"
      ]
    },
    {
      "cell_type": "code",
      "execution_count": 19,
      "metadata": {
        "colab": {
          "base_uri": "https://localhost:8080/"
        },
        "id": "QACGAOLMUCk-",
        "outputId": "dad1f752-863f-4592-c50c-04ebfa465a22"
      },
      "outputs": [
        {
          "name": "stdout",
          "output_type": "stream",
          "text": [
            "Jumlah baris duplikat: 0\n"
          ]
        }
      ],
      "source": [
        "# Mengidentifikasi baris duplikat\n",
        "duplicates = df.duplicated()\n",
        "\n",
        "# Menghitung jumlah baris duplikat\n",
        "num_duplicates = duplicates.sum()\n",
        "\n",
        "# Menampilkan jumlah baris duplikat\n",
        "print(f'Jumlah baris duplikat: {duplicates.sum()}')\n"
      ]
    },
    {
      "cell_type": "code",
      "execution_count": 20,
      "metadata": {
        "id": "XCey9O_fdMIL"
      },
      "outputs": [],
      "source": [
        "# menerapkan one-hot encoding pada kolom market_id\n",
        "df = pd.get_dummies(df, columns=['market_id'], prefix='market')"
      ]
    },
    {
      "cell_type": "code",
      "execution_count": 21,
      "metadata": {
        "colab": {
          "base_uri": "https://localhost:8080/",
          "height": 118
        },
        "id": "qXh8hVxadnGg",
        "outputId": "176510f4-3571-4916-bc4f-19bd58b1cdb3"
      },
      "outputs": [
        {
          "data": {
            "application/vnd.google.colaboratory.intrinsic+json": {
              "type": "dataframe",
              "variable_name": "df"
            },
            "text/html": [
              "\n",
              "  <div id=\"df-faba6846-6c0b-421d-9b81-730b72dce873\" class=\"colab-df-container\">\n",
              "    <div>\n",
              "<style scoped>\n",
              "    .dataframe tbody tr th:only-of-type {\n",
              "        vertical-align: middle;\n",
              "    }\n",
              "\n",
              "    .dataframe tbody tr th {\n",
              "        vertical-align: top;\n",
              "    }\n",
              "\n",
              "    .dataframe thead th {\n",
              "        text-align: right;\n",
              "    }\n",
              "</style>\n",
              "<table border=\"1\" class=\"dataframe\">\n",
              "  <thead>\n",
              "    <tr style=\"text-align: right;\">\n",
              "      <th></th>\n",
              "      <th>created_at</th>\n",
              "      <th>actual_delivery_time</th>\n",
              "      <th>store_id</th>\n",
              "      <th>store_primary_category</th>\n",
              "      <th>order_protocol</th>\n",
              "      <th>total_items</th>\n",
              "      <th>subtotal</th>\n",
              "      <th>num_distinct_items</th>\n",
              "      <th>min_item_price</th>\n",
              "      <th>max_item_price</th>\n",
              "      <th>total_onshift_partners</th>\n",
              "      <th>total_busy_partners</th>\n",
              "      <th>total_outstanding_orders</th>\n",
              "      <th>market_1.0</th>\n",
              "      <th>market_2.0</th>\n",
              "      <th>market_3.0</th>\n",
              "      <th>market_4.0</th>\n",
              "      <th>market_5.0</th>\n",
              "      <th>market_6.0</th>\n",
              "    </tr>\n",
              "  </thead>\n",
              "  <tbody>\n",
              "    <tr>\n",
              "      <th>0</th>\n",
              "      <td>2015-02-06 22:24:17</td>\n",
              "      <td>2015-02-06 23:27:16</td>\n",
              "      <td>5913</td>\n",
              "      <td>american</td>\n",
              "      <td>1.0</td>\n",
              "      <td>4</td>\n",
              "      <td>3441</td>\n",
              "      <td>4</td>\n",
              "      <td>557</td>\n",
              "      <td>1239</td>\n",
              "      <td>33.0</td>\n",
              "      <td>14.0</td>\n",
              "      <td>21.0</td>\n",
              "      <td>True</td>\n",
              "      <td>False</td>\n",
              "      <td>False</td>\n",
              "      <td>False</td>\n",
              "      <td>False</td>\n",
              "      <td>False</td>\n",
              "    </tr>\n",
              "  </tbody>\n",
              "</table>\n",
              "</div>\n",
              "    <div class=\"colab-df-buttons\">\n",
              "\n",
              "  <div class=\"colab-df-container\">\n",
              "    <button class=\"colab-df-convert\" onclick=\"convertToInteractive('df-faba6846-6c0b-421d-9b81-730b72dce873')\"\n",
              "            title=\"Convert this dataframe to an interactive table.\"\n",
              "            style=\"display:none;\">\n",
              "\n",
              "  <svg xmlns=\"http://www.w3.org/2000/svg\" height=\"24px\" viewBox=\"0 -960 960 960\">\n",
              "    <path d=\"M120-120v-720h720v720H120Zm60-500h600v-160H180v160Zm220 220h160v-160H400v160Zm0 220h160v-160H400v160ZM180-400h160v-160H180v160Zm440 0h160v-160H620v160ZM180-180h160v-160H180v160Zm440 0h160v-160H620v160Z\"/>\n",
              "  </svg>\n",
              "    </button>\n",
              "\n",
              "  <style>\n",
              "    .colab-df-container {\n",
              "      display:flex;\n",
              "      gap: 12px;\n",
              "    }\n",
              "\n",
              "    .colab-df-convert {\n",
              "      background-color: #E8F0FE;\n",
              "      border: none;\n",
              "      border-radius: 50%;\n",
              "      cursor: pointer;\n",
              "      display: none;\n",
              "      fill: #1967D2;\n",
              "      height: 32px;\n",
              "      padding: 0 0 0 0;\n",
              "      width: 32px;\n",
              "    }\n",
              "\n",
              "    .colab-df-convert:hover {\n",
              "      background-color: #E2EBFA;\n",
              "      box-shadow: 0px 1px 2px rgba(60, 64, 67, 0.3), 0px 1px 3px 1px rgba(60, 64, 67, 0.15);\n",
              "      fill: #174EA6;\n",
              "    }\n",
              "\n",
              "    .colab-df-buttons div {\n",
              "      margin-bottom: 4px;\n",
              "    }\n",
              "\n",
              "    [theme=dark] .colab-df-convert {\n",
              "      background-color: #3B4455;\n",
              "      fill: #D2E3FC;\n",
              "    }\n",
              "\n",
              "    [theme=dark] .colab-df-convert:hover {\n",
              "      background-color: #434B5C;\n",
              "      box-shadow: 0px 1px 3px 1px rgba(0, 0, 0, 0.15);\n",
              "      filter: drop-shadow(0px 1px 2px rgba(0, 0, 0, 0.3));\n",
              "      fill: #FFFFFF;\n",
              "    }\n",
              "  </style>\n",
              "\n",
              "    <script>\n",
              "      const buttonEl =\n",
              "        document.querySelector('#df-faba6846-6c0b-421d-9b81-730b72dce873 button.colab-df-convert');\n",
              "      buttonEl.style.display =\n",
              "        google.colab.kernel.accessAllowed ? 'block' : 'none';\n",
              "\n",
              "      async function convertToInteractive(key) {\n",
              "        const element = document.querySelector('#df-faba6846-6c0b-421d-9b81-730b72dce873');\n",
              "        const dataTable =\n",
              "          await google.colab.kernel.invokeFunction('convertToInteractive',\n",
              "                                                    [key], {});\n",
              "        if (!dataTable) return;\n",
              "\n",
              "        const docLinkHtml = 'Like what you see? Visit the ' +\n",
              "          '<a target=\"_blank\" href=https://colab.research.google.com/notebooks/data_table.ipynb>data table notebook</a>'\n",
              "          + ' to learn more about interactive tables.';\n",
              "        element.innerHTML = '';\n",
              "        dataTable['output_type'] = 'display_data';\n",
              "        await google.colab.output.renderOutput(dataTable, element);\n",
              "        const docLink = document.createElement('div');\n",
              "        docLink.innerHTML = docLinkHtml;\n",
              "        element.appendChild(docLink);\n",
              "      }\n",
              "    </script>\n",
              "  </div>\n",
              "\n",
              "\n",
              "    </div>\n",
              "  </div>\n"
            ],
            "text/plain": [
              "           created_at actual_delivery_time  store_id store_primary_category  \\\n",
              "0 2015-02-06 22:24:17  2015-02-06 23:27:16      5913               american   \n",
              "\n",
              "   order_protocol  total_items  subtotal  num_distinct_items  min_item_price  \\\n",
              "0             1.0            4      3441                   4             557   \n",
              "\n",
              "   max_item_price  total_onshift_partners  total_busy_partners  \\\n",
              "0            1239                    33.0                 14.0   \n",
              "\n",
              "   total_outstanding_orders  market_1.0  market_2.0  market_3.0  market_4.0  \\\n",
              "0                      21.0        True       False       False       False   \n",
              "\n",
              "   market_5.0  market_6.0  \n",
              "0       False       False  "
            ]
          },
          "execution_count": 21,
          "metadata": {},
          "output_type": "execute_result"
        }
      ],
      "source": [
        "df.head(1)"
      ]
    },
    {
      "cell_type": "code",
      "execution_count": 22,
      "metadata": {
        "id": "Mzs6bYk9DEFv"
      },
      "outputs": [],
      "source": [
        "# menerapkan one-hot encoding pada kolom store_primary_category\n",
        "df_encoded = pd.get_dummies(df, columns=['store_primary_category'], prefix='category')"
      ]
    },
    {
      "cell_type": "code",
      "execution_count": 23,
      "metadata": {
        "colab": {
          "base_uri": "https://localhost:8080/"
        },
        "id": "TdzuVQj6fh7v",
        "outputId": "d0a20fa8-bf1c-417c-8ae4-29e7e9873f39"
      },
      "outputs": [
        {
          "name": "stdout",
          "output_type": "stream",
          "text": [
            "0    american\n",
            "1     mexican\n",
            "Name: store_primary_category, dtype: object\n"
          ]
        }
      ],
      "source": [
        "print(df['store_primary_category'].head(2))"
      ]
    },
    {
      "cell_type": "code",
      "execution_count": 24,
      "metadata": {
        "colab": {
          "base_uri": "https://localhost:8080/"
        },
        "id": "_3lSP1oxxL8J",
        "outputId": "43ede0fb-0519-425a-d6cb-713e97d88299"
      },
      "outputs": [
        {
          "name": "stdout",
          "output_type": "stream",
          "text": [
            "           created_at actual_delivery_time  store_id  order_protocol  \\\n",
            "0 2015-02-06 22:24:17  2015-02-06 23:27:16      5913             1.0   \n",
            "1 2015-02-10 21:49:25  2015-02-10 22:56:29      6346             2.0   \n",
            "2 2015-01-22 20:39:28  2015-01-22 21:09:09      6346             1.0   \n",
            "\n",
            "   total_items  subtotal  num_distinct_items  min_item_price  max_item_price  \\\n",
            "0            4      3441                   4             557            1239   \n",
            "1            1      1900                   1            1400            1400   \n",
            "2            1      1900                   1            1900            1900   \n",
            "\n",
            "   total_onshift_partners  ...  category_southern  category_spanish  \\\n",
            "0                    33.0  ...              False             False   \n",
            "1                     1.0  ...              False             False   \n",
            "2                     1.0  ...              False             False   \n",
            "\n",
            "   category_steak  category_sushi  category_tapas  category_thai  \\\n",
            "0           False           False           False          False   \n",
            "1           False           False           False          False   \n",
            "2           False           False           False          False   \n",
            "\n",
            "   category_turkish  category_vegan  category_vegetarian  category_vietnamese  \n",
            "0             False           False                False                False  \n",
            "1             False           False                False                False  \n",
            "2             False           False                False                False  \n",
            "\n",
            "[3 rows x 92 columns]\n"
          ]
        }
      ],
      "source": [
        "print(df_encoded.head(3))"
      ]
    },
    {
      "cell_type": "markdown",
      "metadata": {
        "id": "X06rT-8xekv2"
      },
      "source": [
        "## Variabel Penting: Durasi Pengiriman"
      ]
    },
    {
      "cell_type": "code",
      "execution_count": 25,
      "metadata": {
        "id": "FA08RP8Bef_f"
      },
      "outputs": [],
      "source": [
        "# Menambah kolom dan menghitung durasi pengiriman dalam menit\n",
        "df['delivery_duration'] = (df['actual_delivery_time'] - df['created_at']).dt.total_seconds() / 60  # dalam menit\n",
        "df['order_hour'] = df['created_at'].dt.hour  # Jam dalam hari (0-23)\n",
        "df['order_day_of_week'] = df['created_at'].dt.dayofweek  # 0 = Senin, 6 = Minggu"
      ]
    },
    {
      "cell_type": "code",
      "execution_count": 26,
      "metadata": {
        "colab": {
          "base_uri": "https://localhost:8080/"
        },
        "id": "NoCxDigPPCy6",
        "outputId": "991c1140-1d54-4551-8654-4354bcdec7d4"
      },
      "outputs": [
        {
          "name": "stdout",
          "output_type": "stream",
          "text": [
            "created_at                  0\n",
            "actual_delivery_time        0\n",
            "store_id                    0\n",
            "store_primary_category      0\n",
            "order_protocol              0\n",
            "total_items                 0\n",
            "subtotal                    0\n",
            "num_distinct_items          0\n",
            "min_item_price              0\n",
            "max_item_price              0\n",
            "total_onshift_partners      0\n",
            "total_busy_partners         0\n",
            "total_outstanding_orders    0\n",
            "market_1.0                  0\n",
            "market_2.0                  0\n",
            "market_3.0                  0\n",
            "market_4.0                  0\n",
            "market_5.0                  0\n",
            "market_6.0                  0\n",
            "delivery_duration           0\n",
            "order_hour                  0\n",
            "order_day_of_week           0\n",
            "dtype: int64\n"
          ]
        }
      ],
      "source": [
        "# Cek missing values\n",
        "print(df.isnull().sum())"
      ]
    },
    {
      "cell_type": "code",
      "execution_count": 27,
      "metadata": {
        "colab": {
          "base_uri": "https://localhost:8080/"
        },
        "id": "8_NbrRKUOrB_",
        "outputId": "43b18737-47d1-4fed-dc9c-148389ecb464"
      },
      "outputs": [
        {
          "name": "stdout",
          "output_type": "stream",
          "text": [
            "<class 'pandas.core.frame.DataFrame'>\n",
            "RangeIndex: 197428 entries, 0 to 197427\n",
            "Data columns (total 22 columns):\n",
            " #   Column                    Non-Null Count   Dtype         \n",
            "---  ------                    --------------   -----         \n",
            " 0   created_at                197428 non-null  datetime64[ns]\n",
            " 1   actual_delivery_time      197428 non-null  datetime64[ns]\n",
            " 2   store_id                  197428 non-null  int16         \n",
            " 3   store_primary_category    197428 non-null  object        \n",
            " 4   order_protocol            197428 non-null  float64       \n",
            " 5   total_items               197428 non-null  int64         \n",
            " 6   subtotal                  197428 non-null  int64         \n",
            " 7   num_distinct_items        197428 non-null  int64         \n",
            " 8   min_item_price            197428 non-null  int64         \n",
            " 9   max_item_price            197428 non-null  int64         \n",
            " 10  total_onshift_partners    197428 non-null  float64       \n",
            " 11  total_busy_partners       197428 non-null  float64       \n",
            " 12  total_outstanding_orders  197428 non-null  float64       \n",
            " 13  market_1.0                197428 non-null  bool          \n",
            " 14  market_2.0                197428 non-null  bool          \n",
            " 15  market_3.0                197428 non-null  bool          \n",
            " 16  market_4.0                197428 non-null  bool          \n",
            " 17  market_5.0                197428 non-null  bool          \n",
            " 18  market_6.0                197428 non-null  bool          \n",
            " 19  delivery_duration         197428 non-null  float64       \n",
            " 20  order_hour                197428 non-null  int32         \n",
            " 21  order_day_of_week         197428 non-null  int32         \n",
            "dtypes: bool(6), datetime64[ns](2), float64(5), int16(1), int32(2), int64(5), object(1)\n",
            "memory usage: 22.6+ MB\n",
            "None\n"
          ]
        }
      ],
      "source": [
        "print(df.info())  # Menampilkan informasi tipe data dan jumlah non-null"
      ]
    },
    {
      "cell_type": "code",
      "execution_count": 28,
      "metadata": {
        "colab": {
          "base_uri": "https://localhost:8080/"
        },
        "id": "eM3h5KkICNMv",
        "outputId": "918cf821-55a1-4146-d3ad-b81f93fb9896"
      },
      "outputs": [
        {
          "name": "stdout",
          "output_type": "stream",
          "text": [
            "                          created_at           actual_delivery_time  \\\n",
            "count                         197428                         197428   \n",
            "mean   2015-02-04 22:00:09.537962752  2015-02-04 22:47:47.210765824   \n",
            "min              2014-10-19 05:24:15            2015-01-21 15:58:11   \n",
            "25%              2015-01-29 02:32:42            2015-01-29 03:22:14   \n",
            "50%       2015-02-05 03:29:09.500000     2015-02-05 04:40:28.500000   \n",
            "75%       2015-02-12 01:39:18.500000  2015-02-12 02:25:17.750000128   \n",
            "max              2015-02-18 06:00:44            2015-02-19 22:45:31   \n",
            "std                              NaN                            NaN   \n",
            "\n",
            "            store_id  order_protocol    total_items       subtotal  \\\n",
            "count  197428.000000   197428.000000  197428.000000  197428.000000   \n",
            "mean     3463.458035        2.872865       3.196391    2682.331402   \n",
            "min         0.000000        1.000000       1.000000       0.000000   \n",
            "25%      1701.000000        1.000000       2.000000    1400.000000   \n",
            "50%      3513.000000        3.000000       3.000000    2200.000000   \n",
            "75%      5285.000000        4.000000       4.000000    3395.000000   \n",
            "max      6742.000000        7.000000     411.000000   27100.000000   \n",
            "std      1987.183543        1.505888       2.666546    1823.093688   \n",
            "\n",
            "       num_distinct_items  min_item_price  max_item_price  \\\n",
            "count       197428.000000   197428.000000   197428.000000   \n",
            "mean             2.670791      686.218470     1159.588630   \n",
            "min              1.000000      -86.000000        0.000000   \n",
            "25%              1.000000      299.000000      800.000000   \n",
            "50%              2.000000      595.000000     1095.000000   \n",
            "75%              3.000000      949.000000     1395.000000   \n",
            "max             20.000000    14700.000000    14700.000000   \n",
            "std              1.630255      522.038648      558.411377   \n",
            "\n",
            "       total_onshift_partners  total_busy_partners  total_outstanding_orders  \\\n",
            "count           197428.000000        197428.000000             197428.000000   \n",
            "mean                44.164946            41.102230                 56.645663   \n",
            "min                 -4.000000            -5.000000                 -6.000000   \n",
            "25%                 19.000000            17.000000                 19.000000   \n",
            "50%                 37.000000            34.000000                 41.000000   \n",
            "75%                 62.000000            59.000000                 80.000000   \n",
            "max                171.000000           154.000000                285.000000   \n",
            "std                 33.143840            30.866801                 50.663676   \n",
            "\n",
            "       delivery_duration     order_hour  order_day_of_week  \n",
            "count      197428.000000  197428.000000      197428.000000  \n",
            "mean           47.627880       8.467213           3.218966  \n",
            "min        -33011.766667       0.000000           0.000000  \n",
            "25%            35.066667       2.000000           1.000000  \n",
            "50%            44.333333       3.000000           3.000000  \n",
            "75%            56.350000      19.000000           5.000000  \n",
            "max        141947.650000      23.000000           6.000000  \n",
            "std           354.127513       8.658759           2.045789  \n"
          ]
        }
      ],
      "source": [
        "# Analisis awal\n",
        "print(df.describe())"
      ]
    },
    {
      "cell_type": "markdown",
      "metadata": {
        "id": "iKeIGoFPgQhh"
      },
      "source": [
        "## Analisis awal dari 197428 baris:\n",
        "\n",
        "Dari statistik deskriptif, ada beberapa hal yang perlu diperhatikan mengenai data pengiriman makanan cepat saji. Berikut adalah beberapa poin kunci:\n",
        "1. **Durasi Pengiriman (delivery_duration)**\n",
        "\n",
        "    Rata-rata (mean): 47.63 menit, menunjukkan bahwa sebagian besar pengiriman selesai dalam waktu yang relatif cepat, sesuai dengan harapan layanan makanan cepat saji.\n",
        "    Minimum: -33011.77 menit. Ini tampaknya menunjukkan adanya kesalahan data, karena durasi pengiriman tidak seharusnya bernilai negatif.\n",
        "    Maksimum: 141947.65 menit, yang juga tampaknya merupakan outlier ekstrem dan perlu ditangani.\n",
        "\n",
        "2. **Kolom Lain yang Perlu Diperhatikan**\n",
        "\n",
        "    total_items: Rata-rata adalah 3.20, dengan maksimum 411 item. Mungkin perlu diperiksa apakah ada kesalahan dalam pencatatan ini, terutama jika ini adalah layanan makanan cepat saji.\n",
        "    min_item_price dan max_item_price: Terdapat nilai negatif dalam min_item_price (-86). Ini juga menunjukkan adanya kesalahan dalam data yang perlu diperbaiki.\n",
        "    total_onshift_partners, total_busy_partners, dan total_outstanding_orders: Ada nilai negatif dalam kolom-kolom ini. Ini menunjukkan masalah dengan data yang mungkin perlu diperbaiki atau dihapus.\n",
        "\n",
        "3. **Pengelolaan Outliers**\n",
        "\n",
        "    Pertimbangkan untuk menggunakan metode seperti IQR atau Z-score untuk mendeteksi dan menangani outliers dengan lebih sistematis.\n",
        "    Misalnya, jika menetapkan batas 120 menit untuk durasi pengiriman, maka pengiriman yang melebihi batas tersebut dianggap sebagai outlier.\n",
        "\n",
        "4. **Statistik Hari Dalam Minggu (order_day_of_week)**\n",
        "\n",
        "    Rata-rata adalah 3.22, yang menunjukkan bahwa banyak pengiriman terjadi pada hari Rabu (0=Senin, 6=Minggu).\n",
        "    Mungkin perlu dianalisis pola pengiriman berdasarkan hari dalam seminggu untuk memahami apakah ada tren tertentu.\n",
        "\n"
      ]
    },
    {
      "cell_type": "markdown",
      "metadata": {
        "id": "VcrvWKz1-Jbn"
      },
      "source": [
        "# Batas ambang durasi 120 menit\n",
        "\n",
        "Membuat batas ambang pengiriman makanan cepat saji hingga 2 jam dengan beberapa alasan berikut:\n",
        "\n",
        "1. Batas ambang 2 jam memberikan fleksibilitas untuk menangani lonjakan permintaan tanpa mengecewakan pelanggan.\n",
        "\n",
        "2. Faktor eksternal seperti cuaca buruk atau kemacetan lalu lintas dapat memengaruhi durasi pengiriman. Dengan batas 2 jam, pelanggan diharapkan memahami bahwa keadaan di luar kendali pengemudi dapat mempengaruhi waktu pengiriman.\n",
        "\n",
        "3. Dalam beberapa kasus, makanan mungkin perlu dipersiapkan dengan lebih teliti atau dimasak sesuai pesanan. Waktu tambahan dapat memberikan ruang untuk memastikan kualitas dan kesegaran makanan.\n",
        "\n",
        "4. Jika restoran melayani area yang lebih luas, pengiriman mungkin memerlukan waktu lebih lama. Batas ambang yang lebih tinggi mengakomodasi jarak tempuh yang lebih jauh."
      ]
    },
    {
      "cell_type": "code",
      "execution_count": 29,
      "metadata": {
        "colab": {
          "base_uri": "https://localhost:8080/"
        },
        "id": "NGt32KOqiIYv",
        "outputId": "08aa5435-4424-4d4b-e0b6-52dc47b217bf"
      },
      "outputs": [
        {
          "name": "stdout",
          "output_type": "stream",
          "text": [
            "Jumlah pengiriman yang dianggap outlier: 1090\n"
          ]
        }
      ],
      "source": [
        "# Menandai outliers\n",
        "df['is_outlier'] = df['delivery_duration'] > 120  # 120 menit\n",
        "\n",
        "# Menghitung jumlah pengiriman yang merupakan outlier\n",
        "num_outliers = df['is_outlier'].sum()\n",
        "print(f\"Jumlah pengiriman yang dianggap outlier: {num_outliers}\")\n"
      ]
    },
    {
      "cell_type": "code",
      "execution_count": 30,
      "metadata": {
        "colab": {
          "base_uri": "https://localhost:8080/"
        },
        "id": "WxkRTk7gi9_m",
        "outputId": "e4ba45c5-2c8b-415a-e2b1-364feb95b628"
      },
      "outputs": [
        {
          "name": "stdout",
          "output_type": "stream",
          "text": [
            "Jumlah pengiriman yang dianggap outlier: 6285\n"
          ]
        }
      ],
      "source": [
        "# Menghitung Q1 dan Q3\n",
        "Q1 = df['delivery_duration'].quantile(0.25)\n",
        "Q3 = df['delivery_duration'].quantile(0.75)\n",
        "IQR = Q3 - Q1\n",
        "\n",
        "# Menentukan batas bawah dan batas atas\n",
        "lower_bound = Q1 - 1.5 * IQR\n",
        "upper_bound = Q3 + 1.5 * IQR\n",
        "\n",
        "# Menandai outlier\n",
        "df['is_outlier'] = (df['delivery_duration'] < lower_bound) | (df['delivery_duration'] > upper_bound)  # Tanda kurung ditutup\n",
        "\n",
        "# Menghitung jumlah outlier\n",
        "num_outliers = df['is_outlier'].sum()\n",
        "print(f\"Jumlah pengiriman yang dianggap outlier: {num_outliers}\")\n"
      ]
    },
    {
      "cell_type": "code",
      "execution_count": 31,
      "metadata": {
        "colab": {
          "base_uri": "https://localhost:8080/"
        },
        "id": "vkdmLDjgjapk",
        "outputId": "a7586f83-12b0-47d8-c125-c45f7819b043"
      },
      "outputs": [
        {
          "name": "stdout",
          "output_type": "stream",
          "text": [
            "Jumlah outlier positif: 1090\n",
            "Jumlah outlier negatif: 7\n",
            "Total jumlah pengiriman yang dianggap outlier: 1097\n"
          ]
        }
      ],
      "source": [
        "# Ambang untuk outlier positif dan negatif\n",
        "positive_threshold = 120\n",
        "negative_threshold = 0\n",
        "\n",
        "# Menghitung jumlah outlier positif\n",
        "outlier_positive_count = df[df['delivery_duration'] > positive_threshold].shape[0]\n",
        "\n",
        "# Menghitung jumlah outlier negatif\n",
        "outlier_negative_count = df[df['delivery_duration'] < negative_threshold].shape[0]\n",
        "\n",
        "# Total outlier\n",
        "total_outliers = outlier_positive_count + outlier_negative_count\n",
        "\n",
        "print(f'Jumlah outlier positif: {outlier_positive_count}')\n",
        "print(f'Jumlah outlier negatif: {outlier_negative_count}')\n",
        "print(f'Total jumlah pengiriman yang dianggap outlier: {total_outliers}')"
      ]
    },
    {
      "cell_type": "code",
      "execution_count": 32,
      "metadata": {
        "colab": {
          "base_uri": "https://localhost:8080/",
          "height": 564
        },
        "id": "VfBCMKP_NI6d",
        "outputId": "4e4b9cfc-65fe-4b06-be6b-a0434491e275"
      },
      "outputs": [
        {
          "data": {
            "image/png": "[encoded data removed]",
            "text/plain": [
              "<Figure size 1000x600 with 1 Axes>"
            ]
          },
          "metadata": {},
          "output_type": "display_data"
        }
      ],
      "source": [
        "# Box plot untuk visualisasi outlier\n",
        "plt.figure(figsize=(10, 6))\n",
        "sns.boxplot(x=df['delivery_duration'])\n",
        "plt.title('Box Plot Delivery Duration')\n",
        "plt.show()"
      ]
    },
    {
      "cell_type": "code",
      "execution_count": 33,
      "metadata": {
        "colab": {
          "base_uri": "https://localhost:8080/"
        },
        "id": "95j1D2X7lkpC",
        "outputId": "bd47bf59-7340-4f84-8335-4dd37fe64cf4"
      },
      "outputs": [
        {
          "name": "stdout",
          "output_type": "stream",
          "text": [
            "                          created_at           actual_delivery_time  \\\n",
            "count                         197428                         197428   \n",
            "mean   2015-02-04 22:00:09.537962752  2015-02-04 22:47:47.210765824   \n",
            "min              2014-10-19 05:24:15            2015-01-21 15:58:11   \n",
            "25%              2015-01-29 02:32:42            2015-01-29 03:22:14   \n",
            "50%       2015-02-05 03:29:09.500000     2015-02-05 04:40:28.500000   \n",
            "75%       2015-02-12 01:39:18.500000  2015-02-12 02:25:17.750000128   \n",
            "max              2015-02-18 06:00:44            2015-02-19 22:45:31   \n",
            "std                              NaN                            NaN   \n",
            "\n",
            "            store_id  order_protocol    total_items       subtotal  \\\n",
            "count  197428.000000   197428.000000  197428.000000  197428.000000   \n",
            "mean     3463.458035        2.872865       3.196391    2682.331402   \n",
            "min         0.000000        1.000000       1.000000       0.000000   \n",
            "25%      1701.000000        1.000000       2.000000    1400.000000   \n",
            "50%      3513.000000        3.000000       3.000000    2200.000000   \n",
            "75%      5285.000000        4.000000       4.000000    3395.000000   \n",
            "max      6742.000000        7.000000     411.000000   27100.000000   \n",
            "std      1987.183543        1.505888       2.666546    1823.093688   \n",
            "\n",
            "       num_distinct_items  min_item_price  max_item_price  \\\n",
            "count       197428.000000   197428.000000   197428.000000   \n",
            "mean             2.670791      686.218470     1159.588630   \n",
            "min              1.000000      -86.000000        0.000000   \n",
            "25%              1.000000      299.000000      800.000000   \n",
            "50%              2.000000      595.000000     1095.000000   \n",
            "75%              3.000000      949.000000     1395.000000   \n",
            "max             20.000000    14700.000000    14700.000000   \n",
            "std              1.630255      522.038648      558.411377   \n",
            "\n",
            "       total_onshift_partners  total_busy_partners  total_outstanding_orders  \\\n",
            "count           197428.000000        197428.000000             197428.000000   \n",
            "mean                44.164946            41.102230                 56.645663   \n",
            "min                 -4.000000            -5.000000                 -6.000000   \n",
            "25%                 19.000000            17.000000                 19.000000   \n",
            "50%                 37.000000            34.000000                 41.000000   \n",
            "75%                 62.000000            59.000000                 80.000000   \n",
            "max                171.000000           154.000000                285.000000   \n",
            "std                 33.143840            30.866801                 50.663676   \n",
            "\n",
            "       delivery_duration     order_hour  order_day_of_week  \n",
            "count      197428.000000  197428.000000      197428.000000  \n",
            "mean           47.627880       8.467213           3.218966  \n",
            "min        -33011.766667       0.000000           0.000000  \n",
            "25%            35.066667       2.000000           1.000000  \n",
            "50%            44.333333       3.000000           3.000000  \n",
            "75%            56.350000      19.000000           5.000000  \n",
            "max        141947.650000      23.000000           6.000000  \n",
            "std           354.127513       8.658759           2.045789  \n"
          ]
        }
      ],
      "source": [
        "# statistik deskriptif dari fitur-fitur baru yang ditambahkan untuk memahami sebaran datanya.\n",
        "print(df.describe())"
      ]
    },
    {
      "cell_type": "markdown",
      "metadata": {
        "id": "ldMEZynQmJfk"
      },
      "source": [
        "# Analisis Statistik\n",
        "\n",
        " Dari ringkasan statistik yang diberikan, ada beberapa nilai yang terlihat mencurigakan, terutama nilai minimum untuk beberapa kolom, seperti:\n",
        "1. min_item_price: -86\n",
        "2. total_onshift_partners: -4\n",
        "3. total_busy_partners: -5\n",
        "4. total_outstanding_orders: -6\n",
        "5. delivery_duration: -33011.77 yang negatif ekstrim dan 141947 yang positif ekstrim, dalam konteks ini tidak logis.\n",
        "\n",
        "Untuk memperbaiki masalah ini, perlu sekali lagi dilakukan pembersihan data."
      ]
    },
    {
      "cell_type": "code",
      "execution_count": 34,
      "metadata": {
        "colab": {
          "base_uri": "https://localhost:8080/"
        },
        "id": "eBceoPffVIm9",
        "outputId": "d79501a7-3251-4aa0-cd47-29540eb684d5"
      },
      "outputs": [
        {
          "name": "stdout",
          "output_type": "stream",
          "text": [
            "Data Setelah Mengganti Nilai Negatif dengan 0:\n",
            "       total_onshift_partners  total_busy_partners  total_outstanding_orders\n",
            "count           197428.000000        197428.000000             197428.000000\n",
            "mean                44.165144            41.102422                 56.646291\n",
            "std                 33.143570            30.866536                 50.662949\n",
            "min                  0.000000             0.000000                  0.000000\n",
            "25%                 19.000000            17.000000                 19.000000\n",
            "50%                 37.000000            34.000000                 41.000000\n",
            "75%                 62.000000            59.000000                 80.000000\n",
            "max                171.000000           154.000000                285.000000\n"
          ]
        }
      ],
      "source": [
        "# Mengganti nilai negatif dengan 0 untuk kolom partners\n",
        "df['total_onshift_partners'] = df['total_onshift_partners'].where(df['total_onshift_partners'] >= 0, 0)\n",
        "df['total_busy_partners'] = df['total_busy_partners'].where(df['total_busy_partners'] >= 0, 0)\n",
        "df['total_outstanding_orders'] = df['total_outstanding_orders'].where(df['total_outstanding_orders'] >= 0, 0)\n",
        "\n",
        "# Menampilkan hasil untuk memastikan perubahan\n",
        "print(\"Data Setelah Mengganti Nilai Negatif dengan 0:\")\n",
        "print(df[['total_onshift_partners', 'total_busy_partners', 'total_outstanding_orders']].describe())"
      ]
    },
    {
      "cell_type": "markdown",
      "metadata": {
        "id": "hxUlRmvhVV0q"
      },
      "source": [
        "## *Mengganti nilai negatif pada min_item_price dengan 0 (karena dianggap potongan harga yang lebih masuk akal)*"
      ]
    },
    {
      "cell_type": "code",
      "execution_count": 35,
      "metadata": {
        "colab": {
          "base_uri": "https://localhost:8080/"
        },
        "id": "k0jpfCkJVdrQ",
        "outputId": "a58dc1a1-7413-4153-de1b-27a87013da49"
      },
      "outputs": [
        {
          "name": "stdout",
          "output_type": "stream",
          "text": [
            "Data Setelah Mengganti Nilai Negatif pada min_item_price dengan 0:\n",
            "         total_items  min_item_price\n",
            "count  197428.000000   197428.000000\n",
            "mean        3.196391      686.220404\n",
            "std         2.666546      522.036014\n",
            "min         1.000000        0.000000\n",
            "25%         2.000000      299.000000\n",
            "50%         3.000000      595.000000\n",
            "75%         4.000000      949.000000\n",
            "max       411.000000    14700.000000\n"
          ]
        }
      ],
      "source": [
        "# Mengganti nilai negatif pada min_item_price dengan 0\n",
        "df['min_item_price'] = df['min_item_price'].where(df['min_item_price'] >= 0, 0)\n",
        "\n",
        "# Menampilkan hasil untuk memastikan perubahan\n",
        "print(\"Data Setelah Mengganti Nilai Negatif pada min_item_price dengan 0:\")\n",
        "print(df[['total_items','min_item_price']].describe())"
      ]
    },
    {
      "cell_type": "markdown",
      "metadata": {
        "id": "RzSaQnvBygaI"
      },
      "source": [
        "min item price ada nilai maks 14700 dan hal ini mungkin terjadi karena jumlah total item yang besar"
      ]
    },
    {
      "cell_type": "markdown",
      "metadata": {
        "id": "LvOLdhtzR6BA"
      },
      "source": [
        "# Identifikasi Outlier"
      ]
    },
    {
      "cell_type": "code",
      "execution_count": 36,
      "metadata": {
        "colab": {
          "base_uri": "https://localhost:8080/"
        },
        "id": "gzTruHUDST7l",
        "outputId": "087c36d7-55e0-49db-9ad4-62e4971d3be3"
      },
      "outputs": [
        {
          "name": "stdout",
          "output_type": "stream",
          "text": [
            "                created_at actual_delivery_time  store_id  \\\n",
            "109    2015-02-10 21:51:54  2015-01-24 03:41:03      5770   \n",
            "2690   2014-10-19 05:24:15  2015-01-25 19:11:54      2781   \n",
            "7670   2015-02-08 02:54:42  2015-01-24 03:41:03       598   \n",
            "27189  2015-02-16 02:24:09  2015-02-19 22:45:31      5617   \n",
            "78511  2015-02-15 02:15:45  2015-01-24 03:41:03       900   \n",
            "115982 2015-02-16 01:52:49  2015-01-24 03:41:03      4943   \n",
            "140635 2015-02-15 02:21:42  2015-01-24 03:41:03       405   \n",
            "158967 2015-02-01 01:21:29  2015-01-24 03:41:03      6595   \n",
            "170416 2015-02-01 01:36:33  2015-01-24 03:41:03      2911   \n",
            "185550 2015-01-28 08:34:06  2015-02-01 16:25:25       669   \n",
            "\n",
            "       store_primary_category  order_protocol  total_items  subtotal  \\\n",
            "109                  sandwich             3.0            1      1125   \n",
            "2690                  italian             1.0            1      1695   \n",
            "7670                 japanese             2.0            4      2860   \n",
            "27189                  indian             3.0            4      4980   \n",
            "78511                catering             1.0            9      5050   \n",
            "115982                  pizza             3.0            2      2094   \n",
            "140635                dessert             1.0            3      4210   \n",
            "158967                mexican             5.0            5      3447   \n",
            "170416                   fast             4.0            3       982   \n",
            "185550                dessert             5.0            3      1520   \n",
            "\n",
            "        num_distinct_items  min_item_price  max_item_price  ...  market_1.0  \\\n",
            "109                      1             975             975  ...       False   \n",
            "2690                     1            1595            1595  ...        True   \n",
            "7670                     3             390             690  ...       False   \n",
            "27189                    4             995            1795  ...        True   \n",
            "78511                    6             375            1125  ...       False   \n",
            "115982                   2             599            1195  ...       False   \n",
            "140635                   3             865            1850  ...       False   \n",
            "158967                   3             225            1349  ...       False   \n",
            "170416                   3             165             575  ...       False   \n",
            "185550                   3             220             750  ...       False   \n",
            "\n",
            "        market_2.0  market_3.0  market_4.0  market_5.0  market_6.0  \\\n",
            "109          False        True       False       False       False   \n",
            "2690         False       False       False       False       False   \n",
            "7670          True       False       False       False       False   \n",
            "27189        False       False       False       False       False   \n",
            "78511        False       False        True       False       False   \n",
            "115982       False       False        True       False       False   \n",
            "140635        True       False       False       False       False   \n",
            "158967        True       False       False       False       False   \n",
            "170416       False       False       False        True       False   \n",
            "185550       False       False        True       False       False   \n",
            "\n",
            "        delivery_duration  order_hour  order_day_of_week  is_outlier  \n",
            "109         -25570.850000          21                  1        True  \n",
            "2690        141947.650000           5                  6        True  \n",
            "7670        -21553.650000           2                  6        True  \n",
            "27189         5541.366667           2                  0        True  \n",
            "78511       -31594.700000           2                  6        True  \n",
            "115982      -33011.766667           1                  0        True  \n",
            "140635      -31600.650000           2                  6        True  \n",
            "158967      -11380.433333           1                  6        True  \n",
            "170416      -11395.500000           1                  6        True  \n",
            "185550        6231.316667           8                  2        True  \n",
            "\n",
            "[10 rows x 23 columns]\n"
          ]
        }
      ],
      "source": [
        "from scipy import stats\n",
        "\n",
        "# identifikasi outlier di kolom delivery_duration\n",
        "\n",
        "# Menghitung Z-score\n",
        "z_scores = stats.zscore(df['delivery_duration'])  # Ganti dengan kolom yang ingin dianalisis\n",
        "\n",
        "# Mengidentifikasi outlier\n",
        "outliers_z = df[(z_scores < -3) | (z_scores > 3)]\n",
        "\n",
        "# Menampilkan outlier\n",
        "print(outliers_z)"
      ]
    },
    {
      "cell_type": "code",
      "execution_count": 37,
      "metadata": {
        "colab": {
          "base_uri": "https://localhost:8080/"
        },
        "id": "iH3Qedi6WTS8",
        "outputId": "959f23e2-aa5b-446b-87ba-a16aa12484a7"
      },
      "outputs": [
        {
          "name": "stdout",
          "output_type": "stream",
          "text": [
            "                created_at actual_delivery_time  store_id  \\\n",
            "11     2015-02-16 04:19:33  2015-02-16 06:34:00      6346   \n",
            "23     2015-02-02 05:27:49  2015-02-02 07:05:09      6127   \n",
            "24     2015-02-16 02:21:20  2015-02-16 03:54:14      6127   \n",
            "88     2015-02-05 20:05:59  2015-02-05 21:39:16      4496   \n",
            "109    2015-02-10 21:51:54  2015-01-24 03:41:03      5770   \n",
            "...                    ...                  ...       ...   \n",
            "197371 2015-02-02 21:54:04  2015-02-02 23:41:51      4512   \n",
            "197382 2015-02-11 22:47:15  2015-02-12 00:32:29      4512   \n",
            "197386 2015-02-02 21:23:44  2015-02-02 23:08:50      4512   \n",
            "197414 2015-02-03 02:07:26  2015-02-03 04:22:00      4512   \n",
            "197418 2015-01-30 20:50:23  2015-01-30 22:24:38      4512   \n",
            "\n",
            "       store_primary_category  order_protocol  total_items  subtotal  \\\n",
            "11                   american             1.0            2      2200   \n",
            "23                    italian             1.0            7     14900   \n",
            "24                    italian             1.0            3      3400   \n",
            "88                    mexican             1.0            2      1706   \n",
            "109                  sandwich             3.0            1      1125   \n",
            "...                       ...             ...          ...       ...   \n",
            "197371                   fast             4.0            4      2682   \n",
            "197382                   fast             4.0            1       699   \n",
            "197386                   fast             4.0            2       703   \n",
            "197414                   fast             4.0            5      2325   \n",
            "197418                   fast             4.0            2      1528   \n",
            "\n",
            "        num_distinct_items  min_item_price  max_item_price  ...  market_1.0  \\\n",
            "11                       2             600            1600  ...       False   \n",
            "23                       5            1200            3900  ...        True   \n",
            "24                       3            1400            2100  ...        True   \n",
            "88                       2             749             789  ...       False   \n",
            "109                      1             975             975  ...       False   \n",
            "...                    ...             ...             ...  ...         ...   \n",
            "197371                   4             357             876  ...        True   \n",
            "197382                   1             649             649  ...        True   \n",
            "197386                   2             145             339  ...        True   \n",
            "197414                   5             307             610  ...        True   \n",
            "197418                   2             639             729  ...        True   \n",
            "\n",
            "        market_2.0  market_3.0  market_4.0  market_5.0  market_6.0  \\\n",
            "11           False        True       False       False       False   \n",
            "23           False       False       False       False       False   \n",
            "24           False       False       False       False       False   \n",
            "88           False        True       False       False       False   \n",
            "109          False        True       False       False       False   \n",
            "...            ...         ...         ...         ...         ...   \n",
            "197371       False       False       False       False       False   \n",
            "197382       False       False       False       False       False   \n",
            "197386       False       False       False       False       False   \n",
            "197414       False       False       False       False       False   \n",
            "197418       False       False       False       False       False   \n",
            "\n",
            "        delivery_duration  order_hour  order_day_of_week  is_outlier  \n",
            "11             134.450000           4                  0        True  \n",
            "23              97.333333           5                  0        True  \n",
            "24              92.900000           2                  0        True  \n",
            "88              93.283333          20                  3        True  \n",
            "109         -25570.850000          21                  1        True  \n",
            "...                   ...         ...                ...         ...  \n",
            "197371         107.783333          21                  0        True  \n",
            "197382         105.233333          22                  2        True  \n",
            "197386         105.100000          21                  0        True  \n",
            "197414         134.566667           2                  1        True  \n",
            "197418          94.250000          20                  4        True  \n",
            "\n",
            "[6285 rows x 23 columns]\n"
          ]
        }
      ],
      "source": [
        "# Menghitung Q1 dan Q3\n",
        "Q1 = df['delivery_duration'].quantile(0.25)\n",
        "Q3 = df['delivery_duration'].quantile(0.75)\n",
        "IQR = Q3 - Q1\n",
        "\n",
        "# Mengidentifikasi outlier\n",
        "outliers_iqr = df[(df['delivery_duration'] < (Q1 - 1.5 * IQR)) | (df['delivery_duration'] > (Q3 + 1.5 * IQR))]\n",
        "\n",
        "# Menampilkan outlier\n",
        "print(outliers_iqr)"
      ]
    },
    {
      "cell_type": "code",
      "execution_count": 38,
      "metadata": {
        "colab": {
          "base_uri": "https://localhost:8080/",
          "height": 564
        },
        "id": "bUfRGiDaW3Yz",
        "outputId": "af638b23-573f-47e5-a052-8ca8d4f79942"
      },
      "outputs": [
        {
          "data": {
            "image/png": "[encoded data removed]",
            "text/plain": [
              "<Figure size 1000x600 with 1 Axes>"
            ]
          },
          "metadata": {},
          "output_type": "display_data"
        }
      ],
      "source": [
        "# Box plot untuk visualisasi outlier\n",
        "plt.figure(figsize=(10, 6))\n",
        "sns.boxplot(x=df['delivery_duration'])\n",
        "plt.title('Box Plot Delivery Duration')\n",
        "plt.show()"
      ]
    },
    {
      "cell_type": "markdown",
      "metadata": {
        "id": "Q6heg0fhy77V"
      },
      "source": [
        "### Asumsi bahwa untuk durasi pengiriman makanan cepat saji tidak boleh melampaui 120 menit dan tidak boleh negatif"
      ]
    },
    {
      "cell_type": "code",
      "execution_count": 39,
      "metadata": {
        "colab": {
          "base_uri": "https://localhost:8080/"
        },
        "id": "bBVIovGgn_FS",
        "outputId": "5d9ac770-e368-42e2-cac4-4175093e42de"
      },
      "outputs": [
        {
          "name": "stdout",
          "output_type": "stream",
          "text": [
            "count    197428.000000\n",
            "mean         47.097709\n",
            "std          16.884139\n",
            "min           1.683333\n",
            "25%          35.066667\n",
            "50%          44.333333\n",
            "75%          56.000000\n",
            "max         119.933333\n",
            "Name: delivery_duration, dtype: float64\n"
          ]
        }
      ],
      "source": [
        "# Hitung rata-rata durasi pengiriman yang tidak dianggap outlier dan tidak negatif\n",
        "mean_delivery_duration = df[(df['delivery_duration'] <= 120) & (df['delivery_duration'] >= 0)]['delivery_duration'].mean()\n",
        "\n",
        "# Ganti nilai outlier (lebih dari 120) dan nilai negatif dengan rata-rata\n",
        "df.loc[(df['delivery_duration'] > 120) | (df['delivery_duration'] < 0), 'delivery_duration'] = mean_delivery_duration\n",
        "\n",
        "# Cek hasil\n",
        "print(df['delivery_duration'].describe())"
      ]
    },
    {
      "cell_type": "markdown",
      "metadata": {
        "id": "5dK8cmDwzU7C"
      },
      "source": [
        "### Durasi pengiriman sudah terlihat masuk akal"
      ]
    },
    {
      "cell_type": "code",
      "execution_count": 40,
      "metadata": {
        "colab": {
          "base_uri": "https://localhost:8080/",
          "height": 564
        },
        "id": "1hsz6nllo43z",
        "outputId": "96a81c38-8a3a-4814-b846-36204e6b3517"
      },
      "outputs": [
        {
          "data": {
            "image/png": "[encoded data removed]",
            "text/plain": [
              "<Figure size 1000x600 with 1 Axes>"
            ]
          },
          "metadata": {},
          "output_type": "display_data"
        }
      ],
      "source": [
        "# Visualisasi setelah menangani outlier\n",
        "plt.figure(figsize=(10, 6))\n",
        "sns.boxplot(x=df['delivery_duration'])\n",
        "plt.title('Box Plot Delivery Duration')\n",
        "plt.show()"
      ]
    },
    {
      "cell_type": "code",
      "execution_count": 41,
      "metadata": {
        "colab": {
          "base_uri": "https://localhost:8080/",
          "height": 475
        },
        "id": "raJujT1qodlu",
        "outputId": "58c27878-7818-41d0-fa58-86f9a2e8f3de"
      },
      "outputs": [
        {
          "data": {
            "image/png": "[encoded data removed]",
            "text/plain": [
              "<Figure size 1200x600 with 1 Axes>"
            ]
          },
          "metadata": {},
          "output_type": "display_data"
        }
      ],
      "source": [
        "plt.figure(figsize=(12, 6))\n",
        "sns.histplot(df['delivery_duration'], bins=50, kde=True)\n",
        "plt.title('Distribusi Durasi Pengiriman Setelah Penanganan Outlier')\n",
        "plt.xlabel('Durasi Pengiriman (Menit)')\n",
        "plt.ylabel('Frekuensi')\n",
        "plt.show()"
      ]
    },
    {
      "cell_type": "code",
      "execution_count": 42,
      "metadata": {
        "colab": {
          "base_uri": "https://localhost:8080/"
        },
        "id": "GfCs_UrSYjeH",
        "outputId": "c8433b63-6661-4c5c-9dcf-bb75f7782443"
      },
      "outputs": [
        {
          "name": "stdout",
          "output_type": "stream",
          "text": [
            "count    197428.000000\n",
            "mean         47.097709\n",
            "std          16.884139\n",
            "min           1.683333\n",
            "25%          35.066667\n",
            "50%          44.333333\n",
            "75%          56.000000\n",
            "max         119.933333\n",
            "Name: delivery_duration, dtype: float64\n"
          ]
        }
      ],
      "source": [
        "# Statistik deskriptif setelah penanganan outlier\n",
        "print(df['delivery_duration'].describe())"
      ]
    },
    {
      "cell_type": "code",
      "execution_count": 43,
      "metadata": {
        "colab": {
          "base_uri": "https://localhost:8080/"
        },
        "id": "nk5O6dk-GNvp",
        "outputId": "3e55d8d9-429f-401a-ea49-7094b2d2f408"
      },
      "outputs": [
        {
          "name": "stdout",
          "output_type": "stream",
          "text": [
            "Jumlah outlier tambahan yang ditemukan: 5541\n"
          ]
        }
      ],
      "source": [
        "# Deteksi outlier tambahan\n",
        "Q1 = df['delivery_duration'].quantile(0.25)\n",
        "Q3 = df['delivery_duration'].quantile(0.75)\n",
        "IQR = Q3 - Q1\n",
        "\n",
        "lower_bound = Q1 - 1.5 * IQR\n",
        "upper_bound = Q3 + 1.5 * IQR\n",
        "\n",
        "outliers = df[(df['delivery_duration'] < lower_bound) | (df['delivery_duration'] > upper_bound)]\n",
        "print(f'Jumlah outlier tambahan yang ditemukan: {len(outliers)}')"
      ]
    },
    {
      "cell_type": "markdown",
      "metadata": {
        "id": "nC1C6TE80uYv"
      },
      "source": [
        "### Outlier tambahan masih di bawah harga ambang (tidak mengapa) dan jumlahnya hanya  (=5541/197428) = 2.8%"
      ]
    },
    {
      "cell_type": "code",
      "execution_count": 44,
      "metadata": {
        "colab": {
          "base_uri": "https://localhost:8080/"
        },
        "id": "ntst7yH1IiS8",
        "outputId": "6fb43bf6-ca1b-4401-9e2f-3e576ea1a3f6"
      },
      "outputs": [
        {
          "name": "stdout",
          "output_type": "stream",
          "text": [
            "             created_at  delivery_duration\n",
            "16  2015-02-06 00:42:42          87.783333\n",
            "23  2015-02-02 05:27:49          97.333333\n",
            "24  2015-02-16 02:21:20          92.900000\n",
            "88  2015-02-05 20:05:59          93.283333\n",
            "117 2015-01-26 20:18:34          96.166667\n"
          ]
        }
      ],
      "source": [
        "# Tinjau outlier tambahan apakah ada pola tertentu? Apakah mereka terjadi pada waktu tertentu, kategori tertentu, atau kondisi lainnya?\n",
        "outliers_additional = df[(df['delivery_duration'] < lower_bound) | (df['delivery_duration'] > upper_bound)]\n",
        "print(outliers_additional[['created_at', 'delivery_duration']].head(5))"
      ]
    },
    {
      "cell_type": "code",
      "execution_count": 45,
      "metadata": {
        "colab": {
          "base_uri": "https://localhost:8080/",
          "height": 564
        },
        "id": "O650BJMY5l89",
        "outputId": "280f0c8e-aba6-4541-ba59-0be359f556f2"
      },
      "outputs": [
        {
          "data": {
            "image/png": "[encoded data removed]",
            "text/plain": [
              "<Figure size 1000x600 with 1 Axes>"
            ]
          },
          "metadata": {},
          "output_type": "display_data"
        }
      ],
      "source": [
        "# Box plot untuk visualisasi outlier\n",
        "plt.figure(figsize=(10, 6))\n",
        "sns.boxplot(x=df['delivery_duration'])\n",
        "plt.title('Box Plot Delivery Duration')\n",
        "plt.show()"
      ]
    },
    {
      "cell_type": "code",
      "execution_count": 46,
      "metadata": {
        "colab": {
          "base_uri": "https://localhost:8080/",
          "height": 557
        },
        "id": "AyTQp-shJYgS",
        "outputId": "3f484a07-8776-43da-fbd5-8d4d0fa2ded2"
      },
      "outputs": [
        {
          "data": {
            "image/png": "[encoded data removed]",
            "text/plain": [
              "<Figure size 1000x600 with 1 Axes>"
            ]
          },
          "metadata": {},
          "output_type": "display_data"
        }
      ],
      "source": [
        "plt.figure(figsize=(10, 6))\n",
        "plt.hist(df['delivery_duration'], bins=30, edgecolor='k', alpha=0.7)\n",
        "plt.title('Histogram of Delivery Duration')\n",
        "plt.xlabel('Delivery Duration')\n",
        "plt.ylabel('Frequency')\n",
        "plt.show()"
      ]
    },
    {
      "cell_type": "code",
      "execution_count": 47,
      "metadata": {
        "colab": {
          "base_uri": "https://localhost:8080/"
        },
        "id": "A-sqjko6o9ED",
        "outputId": "7a5782af-ea30-428c-c6a6-3da2107cf5c3"
      },
      "outputs": [
        {
          "name": "stdout",
          "output_type": "stream",
          "text": [
            "created_at                  datetime64[ns]\n",
            "actual_delivery_time        datetime64[ns]\n",
            "store_id                             int16\n",
            "store_primary_category              object\n",
            "order_protocol                     float64\n",
            "total_items                          int64\n",
            "subtotal                             int64\n",
            "num_distinct_items                   int64\n",
            "min_item_price                       int64\n",
            "max_item_price                       int64\n",
            "total_onshift_partners             float64\n",
            "total_busy_partners                float64\n",
            "total_outstanding_orders           float64\n",
            "market_1.0                            bool\n",
            "market_2.0                            bool\n",
            "market_3.0                            bool\n",
            "market_4.0                            bool\n",
            "market_5.0                            bool\n",
            "market_6.0                            bool\n",
            "delivery_duration                  float64\n",
            "order_hour                           int32\n",
            "order_day_of_week                    int32\n",
            "is_outlier                            bool\n",
            "dtype: object\n"
          ]
        }
      ],
      "source": [
        "print(df.dtypes)\n"
      ]
    },
    {
      "cell_type": "code",
      "execution_count": 48,
      "metadata": {
        "colab": {
          "base_uri": "https://localhost:8080/"
        },
        "id": "uoNiPrV3WXK8",
        "outputId": "bba81470-1b97-41e3-a5cf-b75e39fee79d"
      },
      "outputs": [
        {
          "name": "stdout",
          "output_type": "stream",
          "text": [
            "                          created_at           actual_delivery_time  \\\n",
            "count                         197428                         197428   \n",
            "mean   2015-02-04 22:00:09.537962752  2015-02-04 22:47:47.210765824   \n",
            "min              2014-10-19 05:24:15            2015-01-21 15:58:11   \n",
            "25%              2015-01-29 02:32:42            2015-01-29 03:22:14   \n",
            "50%       2015-02-05 03:29:09.500000     2015-02-05 04:40:28.500000   \n",
            "75%       2015-02-12 01:39:18.500000  2015-02-12 02:25:17.750000128   \n",
            "max              2015-02-18 06:00:44            2015-02-19 22:45:31   \n",
            "std                              NaN                            NaN   \n",
            "\n",
            "            store_id  order_protocol    total_items       subtotal  \\\n",
            "count  197428.000000   197428.000000  197428.000000  197428.000000   \n",
            "mean     3463.458035        2.872865       3.196391    2682.331402   \n",
            "min         0.000000        1.000000       1.000000       0.000000   \n",
            "25%      1701.000000        1.000000       2.000000    1400.000000   \n",
            "50%      3513.000000        3.000000       3.000000    2200.000000   \n",
            "75%      5285.000000        4.000000       4.000000    3395.000000   \n",
            "max      6742.000000        7.000000     411.000000   27100.000000   \n",
            "std      1987.183543        1.505888       2.666546    1823.093688   \n",
            "\n",
            "       num_distinct_items  min_item_price  max_item_price  \\\n",
            "count       197428.000000   197428.000000   197428.000000   \n",
            "mean             2.670791      686.220404     1159.588630   \n",
            "min              1.000000        0.000000        0.000000   \n",
            "25%              1.000000      299.000000      800.000000   \n",
            "50%              2.000000      595.000000     1095.000000   \n",
            "75%              3.000000      949.000000     1395.000000   \n",
            "max             20.000000    14700.000000    14700.000000   \n",
            "std              1.630255      522.036014      558.411377   \n",
            "\n",
            "       total_onshift_partners  total_busy_partners  total_outstanding_orders  \\\n",
            "count           197428.000000        197428.000000             197428.000000   \n",
            "mean                44.165144            41.102422                 56.646291   \n",
            "min                  0.000000             0.000000                  0.000000   \n",
            "25%                 19.000000            17.000000                 19.000000   \n",
            "50%                 37.000000            34.000000                 41.000000   \n",
            "75%                 62.000000            59.000000                 80.000000   \n",
            "max                171.000000           154.000000                285.000000   \n",
            "std                 33.143570            30.866536                 50.662949   \n",
            "\n",
            "       delivery_duration     order_hour  order_day_of_week  \n",
            "count      197428.000000  197428.000000      197428.000000  \n",
            "mean           47.097709       8.467213           3.218966  \n",
            "min             1.683333       0.000000           0.000000  \n",
            "25%            35.066667       2.000000           1.000000  \n",
            "50%            44.333333       3.000000           3.000000  \n",
            "75%            56.000000      19.000000           5.000000  \n",
            "max           119.933333      23.000000           6.000000  \n",
            "std            16.884139       8.658759           2.045789  \n"
          ]
        }
      ],
      "source": [
        "print(df.describe())"
      ]
    },
    {
      "cell_type": "markdown",
      "metadata": {
        "id": "dP8KxTGZ2y5E"
      },
      "source": [
        "# Cek pada jam berapa saja pesanan terjadi."
      ]
    },
    {
      "cell_type": "code",
      "execution_count": null,
      "metadata": {
        "colab": {
          "base_uri": "https://localhost:8080/"
        },
        "id": "OFW3m-e32wJE",
        "outputId": "b9440535-243c-40e7-e205-9f44a8e498bc"
      },
      "outputs": [
        {
          "name": "stdout",
          "output_type": "stream",
          "text": [
            "order_hour\n",
            "0     12669\n",
            "1     28190\n",
            "2     36976\n",
            "3     27068\n",
            "4     15250\n",
            "5      7096\n",
            "6      1416\n",
            "7        11\n",
            "8         2\n",
            "14       40\n",
            "15      538\n",
            "16     2109\n",
            "17     3413\n",
            "18     5100\n",
            "19    13541\n",
            "20    15560\n",
            "21    11465\n",
            "22     8821\n",
            "23     8163\n",
            "Name: count, dtype: int64\n"
          ]
        }
      ],
      "source": [
        "order_hour_counts = df['order_hour'].value_counts().sort_index()\n",
        "print(order_hour_counts)"
      ]
    },
    {
      "cell_type": "code",
      "execution_count": null,
      "metadata": {
        "colab": {
          "base_uri": "https://localhost:8080/"
        },
        "id": "lSm2b7In3E_4",
        "outputId": "028570d0-416d-4780-e504-49ecba8fff55"
      },
      "outputs": [
        {
          "name": "stdout",
          "output_type": "stream",
          "text": [
            "order_hour\n",
            "0      6.417023\n",
            "1     14.278623\n",
            "2     18.728853\n",
            "3     13.710315\n",
            "4      7.724335\n",
            "5      3.594222\n",
            "6      0.717223\n",
            "7      0.005572\n",
            "8      0.001013\n",
            "14     0.020261\n",
            "15     0.272504\n",
            "16     1.068238\n",
            "17     1.728731\n",
            "18     2.583220\n",
            "19     6.858703\n",
            "20     7.881354\n",
            "21     5.807180\n",
            "22     4.467958\n",
            "23     4.134672\n",
            "Name: proportion, dtype: float64\n"
          ]
        }
      ],
      "source": [
        "order_hour_percentage = df['order_hour'].value_counts(normalize=True).sort_index() * 100\n",
        "print(order_hour_percentage)"
      ]
    },
    {
      "cell_type": "code",
      "execution_count": null,
      "metadata": {
        "colab": {
          "base_uri": "https://localhost:8080/",
          "height": 564
        },
        "id": "vrWqRCoZ3Ltk",
        "outputId": "3875c469-f49f-4e5a-9eca-01e649beb026"
      },
      "outputs": [
        {
          "data": {
            "image/png": "[encoded data removed]",
            "text/plain": [
              "<Figure size 1000x600 with 1 Axes>"
            ]
          },
          "metadata": {},
          "output_type": "display_data"
        }
      ],
      "source": [
        "plt.figure(figsize=(10, 6))\n",
        "order_hour_counts.plot(kind='bar')\n",
        "plt.title('Jumlah Pesanan per Jam')\n",
        "plt.xlabel('Jam')\n",
        "plt.ylabel('Jumlah Pesanan')\n",
        "plt.xticks(rotation=0)\n",
        "plt.show()"
      ]
    },
    {
      "cell_type": "code",
      "execution_count": null,
      "metadata": {
        "colab": {
          "base_uri": "https://localhost:8080/"
        },
        "id": "Tr3ymKBk3WFs",
        "outputId": "f331df91-8720-44f1-d309-480074c13cf1"
      },
      "outputs": [
        {
          "name": "stdout",
          "output_type": "stream",
          "text": [
            "[0, 1, 2, 3, 4, 5, 6, 7, 8, 14, 15, 16, 17, 18, 19, 20, 21, 22, 23]\n"
          ]
        }
      ],
      "source": [
        "unique_hours = df['order_hour'].unique()\n",
        "print(sorted(unique_hours))"
      ]
    },
    {
      "cell_type": "markdown",
      "metadata": {
        "id": "l4shWkd53ai9"
      },
      "source": [
        "## *Tidak ada pesanan antara jam 08.00 sampai 14.00*"
      ]
    },
    {
      "cell_type": "code",
      "execution_count": 49,
      "metadata": {
        "colab": {
          "base_uri": "https://localhost:8080/"
        },
        "id": "w_VqO86Q5yaz",
        "outputId": "aeea73e9-69b6-4ce7-d6d6-e0e6c1eb5032"
      },
      "outputs": [
        {
          "name": "stdout",
          "output_type": "stream",
          "text": [
            "order_day_of_week\n",
            "0    27403\n",
            "1    24062\n",
            "2    24254\n",
            "3    25673\n",
            "4    27875\n",
            "5    34541\n",
            "6    33620\n",
            "Name: count, dtype: int64\n"
          ]
        }
      ],
      "source": [
        "# Cek pesanan pada hari-hari tertentu\n",
        "order_day_counts = df['order_day_of_week'].value_counts().sort_index()\n",
        "print(order_day_counts)"
      ]
    },
    {
      "cell_type": "code",
      "execution_count": 50,
      "metadata": {
        "colab": {
          "base_uri": "https://localhost:8080/"
        },
        "id": "YYITakvK6BiJ",
        "outputId": "d615c05e-bf13-4b5f-c6f1-9863fc12e85a"
      },
      "outputs": [
        {
          "name": "stdout",
          "output_type": "stream",
          "text": [
            "order_day_of_week\n",
            "0    13.879997\n",
            "1    12.187734\n",
            "2    12.284985\n",
            "3    13.003728\n",
            "4    14.119071\n",
            "5    17.495492\n",
            "6    17.028993\n",
            "Name: proportion, dtype: float64\n"
          ]
        }
      ],
      "source": [
        "order_day_percentage = df['order_day_of_week'].value_counts(normalize=True).sort_index() * 100\n",
        "print(order_day_percentage)"
      ]
    },
    {
      "cell_type": "code",
      "execution_count": 51,
      "metadata": {
        "colab": {
          "base_uri": "https://localhost:8080/",
          "height": 557
        },
        "id": "9Y4L48lY6ODZ",
        "outputId": "c359c1e5-3c5c-435b-c356-75657cd2d82a"
      },
      "outputs": [
        {
          "data": {
            "image/png": "[encoded data removed]",
            "text/plain": [
              "<Figure size 1000x600 with 1 Axes>"
            ]
          },
          "metadata": {},
          "output_type": "display_data"
        }
      ],
      "source": [
        "plt.figure(figsize=(10, 6))\n",
        "order_day_counts.plot(kind='bar')\n",
        "plt.title('Jumlah Pesanan per Hari')\n",
        "plt.xlabel('Hari (0 = Minggu, 6 = Sabtu)')\n",
        "plt.ylabel('Jumlah Pesanan')\n",
        "plt.xticks(rotation=0)\n",
        "plt.show()\n"
      ]
    },
    {
      "cell_type": "markdown",
      "metadata": {
        "id": "ESi30Y8HeRtx"
      },
      "source": [
        "## Cek jumlah pesanan pada bulan Oktober, Januari, dan Februari"
      ]
    },
    {
      "cell_type": "code",
      "execution_count": 52,
      "metadata": {
        "id": "_qHyclvq8oGq"
      },
      "outputs": [],
      "source": [
        "# Ekstrak bulan dan tahun\n",
        "df['month'] = df['created_at'].dt.to_period('M')"
      ]
    },
    {
      "cell_type": "code",
      "execution_count": 53,
      "metadata": {
        "colab": {
          "base_uri": "https://localhost:8080/"
        },
        "id": "uQQDIJtp8uXp",
        "outputId": "efa2e4d1-d1ae-48c0-d542-e138217755ff"
      },
      "outputs": [
        {
          "name": "stdout",
          "output_type": "stream",
          "text": [
            "month\n",
            "2014-10         1\n",
            "2015-01     68482\n",
            "2015-02    128945\n",
            "Freq: M, Name: count, dtype: int64\n"
          ]
        }
      ],
      "source": [
        "monthly_orders = df['month'].value_counts().sort_index()\n",
        "print(monthly_orders)"
      ]
    },
    {
      "cell_type": "markdown",
      "metadata": {
        "id": "pJ__QDn09qbQ"
      },
      "source": [
        "*## Sebagian besar pesanan dilakukan pada bulan Januari dan Februari. Karena data pada bulan Oktober hanya 1, maka dihapus karena dianggap sebagai outlier.*"
      ]
    },
    {
      "cell_type": "code",
      "execution_count": 54,
      "metadata": {
        "id": "V0QplMaN9oR1"
      },
      "outputs": [],
      "source": [
        "df = df[df['month'] != '2014-10'] # Menghapus satu data di bulan Oktober"
      ]
    },
    {
      "cell_type": "code",
      "execution_count": 55,
      "metadata": {
        "id": "QVc0cxmh-Jm1"
      },
      "outputs": [],
      "source": [
        "df['month'] = df['created_at'].dt.to_period('M')"
      ]
    },
    {
      "cell_type": "code",
      "execution_count": 56,
      "metadata": {
        "colab": {
          "base_uri": "https://localhost:8080/"
        },
        "id": "jT1s0Pr7Q7-4",
        "outputId": "36c1ace4-3046-4584-d455-febf5f67921e"
      },
      "outputs": [
        {
          "name": "stdout",
          "output_type": "stream",
          "text": [
            "       delivery_duration     order_hour  order_day_of_week    order_month\n",
            "count      197427.000000  197427.000000      197427.000000  197427.000000\n",
            "mean           47.097709       8.467231           3.218952       1.653127\n",
            "std            16.884181       8.658777           2.045785       0.475976\n",
            "min             1.683333       0.000000           0.000000       1.000000\n",
            "25%            35.066667       2.000000           1.000000       1.000000\n",
            "50%            44.333333       3.000000           3.000000       2.000000\n",
            "75%            56.000000      19.000000           5.000000       2.000000\n",
            "max           119.933333      23.000000           6.000000       2.000000\n"
          ]
        }
      ],
      "source": [
        "# Ekstrak bulan dari 'created_at'\n",
        "df['order_month'] = df['created_at'].dt.month\n",
        "\n",
        "# Menampilkan ringkasan statistik dari kolom yang baru ditambahkan\n",
        "print(df[['delivery_duration', 'order_hour', 'order_day_of_week', 'order_month']].describe())"
      ]
    },
    {
      "cell_type": "code",
      "execution_count": 57,
      "metadata": {
        "colab": {
          "base_uri": "https://localhost:8080/"
        },
        "id": "Vj9bOd---YuX",
        "outputId": "700c77bf-9a1a-4599-ddf8-4473a2f62235"
      },
      "outputs": [
        {
          "name": "stdout",
          "output_type": "stream",
          "text": [
            "                          created_at           actual_delivery_time  \\\n",
            "count                         197427                         197427   \n",
            "mean   2015-02-04 22:00:57.104681728  2015-02-04 22:47:51.652677120   \n",
            "min              2015-01-21 15:22:03            2015-01-21 15:58:11   \n",
            "25%       2015-01-29 02:32:44.500000     2015-01-29 03:22:16.500000   \n",
            "50%              2015-02-05 03:29:12            2015-02-05 04:40:29   \n",
            "75%              2015-02-12 01:39:19     2015-02-12 02:25:18.500000   \n",
            "max              2015-02-18 06:00:44            2015-02-19 22:45:31   \n",
            "std                              NaN                            NaN   \n",
            "\n",
            "            store_id  order_protocol    total_items       subtotal  \\\n",
            "count  197427.000000   197427.000000  197427.000000  197427.000000   \n",
            "mean     3463.461492        2.872875       3.196402    2682.336403   \n",
            "min         0.000000        1.000000       1.000000       0.000000   \n",
            "25%      1701.000000        1.000000       2.000000    1400.000000   \n",
            "50%      3513.000000        3.000000       3.000000    2200.000000   \n",
            "75%      5285.000000        4.000000       4.000000    3395.000000   \n",
            "max      6742.000000        7.000000     411.000000   27100.000000   \n",
            "std      1987.187983        1.505886       2.666548    1823.096951   \n",
            "\n",
            "       num_distinct_items  min_item_price  max_item_price  \\\n",
            "count       197427.000000   197427.000000   197427.000000   \n",
            "mean             2.670800      686.215801     1159.586424   \n",
            "min              1.000000        0.000000        0.000000   \n",
            "25%              1.000000      299.000000      800.000000   \n",
            "50%              2.000000      595.000000     1095.000000   \n",
            "75%              3.000000      949.000000     1395.000000   \n",
            "max             20.000000    14700.000000    14700.000000   \n",
            "std              1.630255      522.033329      558.411931   \n",
            "\n",
            "       total_onshift_partners  total_busy_partners  total_outstanding_orders  \\\n",
            "count            197427.00000        197427.000000             197427.000000   \n",
            "mean                 44.16518            41.102458                 56.646371   \n",
            "min                   0.00000             0.000000                  0.000000   \n",
            "25%                  19.00000            17.000000                 19.000000   \n",
            "50%                  37.00000            34.000000                 41.000000   \n",
            "75%                  62.00000            59.000000                 80.000000   \n",
            "max                 171.00000           154.000000                285.000000   \n",
            "std                  33.14365            30.866610                 50.663065   \n",
            "\n",
            "       delivery_duration     order_hour  order_day_of_week    order_month  \n",
            "count      197427.000000  197427.000000      197427.000000  197427.000000  \n",
            "mean           47.097709       8.467231           3.218952       1.653127  \n",
            "min             1.683333       0.000000           0.000000       1.000000  \n",
            "25%            35.066667       2.000000           1.000000       1.000000  \n",
            "50%            44.333333       3.000000           3.000000       2.000000  \n",
            "75%            56.000000      19.000000           5.000000       2.000000  \n",
            "max           119.933333      23.000000           6.000000       2.000000  \n",
            "std            16.884181       8.658777           2.045785       0.475976  \n"
          ]
        }
      ],
      "source": [
        "print(df.describe())"
      ]
    },
    {
      "cell_type": "markdown",
      "metadata": {
        "id": "TmSG1hE0W0xP"
      },
      "source": [
        "# Ringkasan Statistik\n",
        "Berdasarkan ringkasan statistik, khususnya untuk durasi pengiriman dan fitur-fitur lainnya:\n",
        "\n",
        "1. **Durasi Pengiriman (delivery_duration)**\n",
        "Rata-rata: 47.10 menit; Minimum: 1.68 menit; Maksimum: 120 menit; Standar Deviasi: 16.88 menit;\n",
        "Distribusi durasi pengiriman menunjukkan bahwa sebagian besar pesanan berada di kisaran sekitar 35-56 menit.\n",
        "\n",
        "2. **Subtotal**\n",
        "Rata-rata: 2682.34; Minimum: 0; Maksimum: 27100;\n",
        "Variasi besar dalam subtotal menunjukkan ada pesanan dengan nilai yang sangat tinggi, yang mungkin merupakan faktor penting dalam durasi pengiriman.\n",
        "\n",
        "3. **Jumlah Item (total_items)**\n",
        "Rata-rata: 3.20 item per pesanan, dengan maksimum 411 item.\n",
        "Ini mungkin menunjukkan beberapa pesanan besar yang memerlukan lebih banyak waktu untuk diproses.\n",
        "\n",
        "4. **Waktu Pesanan (order_hour)**\n",
        "Rata-rata: 8.47 (berarti rata-rata pemesanan terjadi sekitar jam 8 pagi).\n",
        "Jam Terkecil: 0 (midnight) dan Maksimum: 23 (11 malam).\n",
        "Ini bisa memberikan wawasan mengenai waktu pemesanan yang sibuk.\n",
        "\n",
        "5. **Hari Dalam Seminggu (order_day_of_week)** Rata-rata: 3.22 (kemungkinan hari Rabu jika menggunakan 0 untuk Senin).\n",
        "Ini menunjukkan bahwa sebagian besar pemesanan terjadi di tengah minggu.\n",
        "\n",
        "# Analisis Regresi\n",
        "\n",
        "Dengan fokus pada prediksi durasi pengiriman, beberapa fitur yang dapat dipertimbangkan untuk model regresi meliputi:\n",
        "\n",
        "1. Subtotal: Ada kemungkinan bahwa subtotal yang lebih tinggi berhubungan dengan durasi pengiriman yang lebih lama.\n",
        "2. Jumlah item: Lebih banyak item mungkin mempengaruhi waktu pengemasan dan pengiriman.\n",
        "Waktu dan hari pemesanan: Mungkin ada tren dalam durasi pengiriman berdasarkan waktu dan hari tertentu.\n",
        "\n",
        "# Rekomendasi untuk Model:\n",
        "Penggunaan Metode Regresi yang Berbeda: regresi linier, regresi non linier, dan metode lain untuk melihat mana yang memberikan hasil terbaik.\n",
        "\n",
        "\n",
        "\n",
        "\n"
      ]
    },
    {
      "cell_type": "markdown",
      "metadata": {
        "id": "G6wAKD51762k"
      },
      "source": [
        "## Uji Statistik:\n",
        "### Apakah ada perbedaan durasi pengiriman pada bulan Januari dan Februari"
      ]
    },
    {
      "cell_type": "code",
      "execution_count": 58,
      "metadata": {
        "colab": {
          "base_uri": "https://localhost:8080/"
        },
        "id": "eUGwH2cZ7nWe",
        "outputId": "f9caa9f4-17e1-4be0-bfa5-94eb95e361c6"
      },
      "outputs": [
        {
          "name": "stdout",
          "output_type": "stream",
          "text": [
            "Januari - Rata-rata: 45.65925564413033, Std Dev: 16.162652724591535\n",
            "Februari - Rata-rata: 47.861664361160116, Std Dev: 17.2063564804234\n",
            "T-statistic: -27.64029589727447, P-value: 7.645246550641694e-168\n"
          ]
        }
      ],
      "source": [
        "# Memisahkan DataFrame untuk pesanan bulan Januari dan Februari\n",
        "january_data = df[df['order_month'] == 1]['delivery_duration']\n",
        "february_data = df[df['order_month'] == 2]['delivery_duration']\n",
        "\n",
        "# Hitung rata-rata dan deviasi standar\n",
        "january_mean = january_data.mean()\n",
        "february_mean = february_data.mean()\n",
        "january_std = january_data.std()\n",
        "february_std = february_data.std()\n",
        "\n",
        "print(f'Januari - Rata-rata: {january_mean}, Std Dev: {january_std}')\n",
        "print(f'Februari - Rata-rata: {february_mean}, Std Dev: {february_std}')\n",
        "\n",
        "# Uji t untuk dua sampel independen\n",
        "t_stat, p_value = stats.ttest_ind(january_data, february_data)\n",
        "\n",
        "print(f'T-statistic: {t_stat}, P-value: {p_value}')"
      ]
    },
    {
      "cell_type": "markdown",
      "metadata": {
        "id": "_a0tl1rc8LeF"
      },
      "source": [
        "## Hasil analisis uji statistik :\n",
        "\n",
        "Rata-rata dan Standar Deviasi\n",
        "Januari: Rata-rata durasi pengiriman adalah sekitar 45.66 menit dengan deviasi standar 16.16 menit.\n",
        "\n",
        "Februari: Rata-rata durasi pengiriman adalah sekitar 47.86 menit dengan deviasi standar 17.21 menit.\n",
        "\n",
        "Uji Hipotesis\n",
        "T-statistic: -27.64 menunjukkan bahwa ada perbedaan yang cukup besar antara kedua kelompok.\n",
        "P-value: 7.65e-168, yang jauh di bawah 0.05, menunjukkan bahwa perbedaan antara durasi pengiriman di bulan Januari dan Februari sangat signifikan secara statistik.\n",
        "\n",
        "Kesimpulan:\n",
        "Ada perbedaan yang signifikan dalam durasi pengiriman cepat saji antara bulan Januari dan Februari. Rata-rata durasi pengiriman di bulan Februari lebih tinggi dibandingkan dengan bulan Januari. Ini mungkin menunjukkan perubahan dalam efisiensi pengiriman, permintaan, atau faktor lainnya yang mempengaruhi durasi pengiriman selama bulan tersebut.\n",
        "\n",
        "Analisis regresi dilakukan secara terpisah pada masing-masing bulan."
      ]
    },
    {
      "cell_type": "markdown",
      "metadata": {
        "id": "qzMr73tLHlQf"
      },
      "source": [
        "# **III. Pemodelan**"
      ]
    },
    {
      "cell_type": "code",
      "execution_count": 59,
      "metadata": {
        "id": "IfuVOHLc_nx6"
      },
      "outputs": [],
      "source": [
        "# Memisahkan data berdasarkan bulan\n",
        "januari_data = df[df['month'] == '2015-01']\n",
        "februari_data = df[df['month'] == '2015-02']"
      ]
    },
    {
      "cell_type": "code",
      "execution_count": 60,
      "metadata": {
        "colab": {
          "base_uri": "https://localhost:8080/",
          "height": 1000
        },
        "id": "wvA0M2kXRXOx",
        "outputId": "c360e039-895e-4906-dc8a-1fdb60baec98"
      },
      "outputs": [
        {
          "name": "stderr",
          "output_type": "stream",
          "text": [
            "<ipython-input-60-6570432b7e75>:13: FutureWarning: \n",
            "\n",
            "Passing `palette` without assigning `hue` is deprecated and will be removed in v0.14.0. Assign the `x` variable to `hue` and set `legend=False` for the same effect.\n",
            "\n",
            "  sns.barplot(x=january_categories_above_5_percent.index,\n"
          ]
        },
        {
          "data": {
            "image/png": "[encoded data removed]",
            "text/plain": [
              "<Figure size 1000x600 with 1 Axes>"
            ]
          },
          "metadata": {},
          "output_type": "display_data"
        },
        {
          "name": "stderr",
          "output_type": "stream",
          "text": [
            "<ipython-input-60-6570432b7e75>:25: FutureWarning: \n",
            "\n",
            "Passing `palette` without assigning `hue` is deprecated and will be removed in v0.14.0. Assign the `x` variable to `hue` and set `legend=False` for the same effect.\n",
            "\n",
            "  sns.barplot(x=february_categories_above_5_percent.index,\n"
          ]
        },
        {
          "data": {
            "image/png": "[encoded data removed]",
            "text/plain": [
              "<Figure size 1000x600 with 1 Axes>"
            ]
          },
          "metadata": {},
          "output_type": "display_data"
        }
      ],
      "source": [
        "# Menghitung persentase kategori di bulan Januari\n",
        "january_category_counts = januari_data['store_primary_category'].value_counts(normalize=True) * 100\n",
        "\n",
        "# Menghitung persentase kategori di bulan Februari\n",
        "february_category_counts = februari_data['store_primary_category'].value_counts(normalize=True) * 100\n",
        "\n",
        "# Memfilter kategori dengan persentase lebih dari 5% untuk Januari dan Februari\n",
        "january_categories_above_5_percent = january_category_counts[january_category_counts > 5]\n",
        "february_categories_above_5_percent = february_category_counts[february_category_counts > 5]\n",
        "\n",
        "# Visualisasi untuk bulan Januari\n",
        "plt.figure(figsize=(10, 6))\n",
        "sns.barplot(x=january_categories_above_5_percent.index,\n",
        "            y=january_categories_above_5_percent.values,\n",
        "            palette=\"Blues_d\")\n",
        "plt.title('Kategori dengan Persentase > 5% pada Januari 2015')\n",
        "plt.xlabel('Kategori')\n",
        "plt.ylabel('Persentase')\n",
        "plt.xticks(rotation=45, ha='right')\n",
        "plt.tight_layout()\n",
        "plt.show()\n",
        "\n",
        "# Visualisasi untuk bulan Februari\n",
        "plt.figure(figsize=(10, 6))\n",
        "sns.barplot(x=february_categories_above_5_percent.index,\n",
        "            y=february_categories_above_5_percent.values,\n",
        "            palette=\"Greens_d\")\n",
        "plt.title('Kategori dengan Persentase > 5% pada Februari 2015')\n",
        "plt.xlabel('Kategori')\n",
        "plt.ylabel('Persentase')\n",
        "plt.xticks(rotation=45, ha='right')\n",
        "plt.tight_layout()\n",
        "plt.show()"
      ]
    },
    {
      "cell_type": "code",
      "execution_count": 61,
      "metadata": {
        "colab": {
          "base_uri": "https://localhost:8080/",
          "height": 787
        },
        "id": "CwEgdWUcTjzI",
        "outputId": "6d214b88-4205-4a67-dd50-626992d62969"
      },
      "outputs": [
        {
          "data": {
            "image/png": "[encoded data removed]",
            "text/plain": [
              "<Figure size 1000x800 with 2 Axes>"
            ]
          },
          "metadata": {},
          "output_type": "display_data"
        }
      ],
      "source": [
        "# Memilih hanya kolom numerik untuk perhitungan korelasi di bulan Januari\n",
        "january_numeric = januari_data.select_dtypes(include=['float64', 'int64'])\n",
        "\n",
        "# Memilih hanya kolom numerik untuk perhitungan korelasi di bulan Februari\n",
        "february_numeric = februari_data.select_dtypes(include=['float64', 'int64'])\n",
        "\n",
        "# Membuat matriks korelasi untuk bulan Januari\n",
        "january_corr = january_numeric.corr()\n",
        "\n",
        "# Membuat matriks korelasi untuk bulan Februari\n",
        "february_corr = february_numeric.corr()\n",
        "\n",
        "# Visualisasi matriks korelasi untuk bulan Januari\n",
        "plt.figure(figsize=(10, 8))\n",
        "sns.heatmap(january_corr, annot=True, cmap='coolwarm', fmt=\".2f\", linewidths=0.5)\n",
        "plt.title('Matriks Korelasi untuk Bulan Januari 2015')\n",
        "plt.show()\n"
      ]
    },
    {
      "cell_type": "code",
      "execution_count": 62,
      "metadata": {
        "colab": {
          "base_uri": "https://localhost:8080/",
          "height": 787
        },
        "id": "q0IyIgykURL2",
        "outputId": "8d497eb0-18d4-46b9-86f8-0b7491f1d20f"
      },
      "outputs": [
        {
          "data": {
            "image/png": "[encoded data removed]",
            "text/plain": [
              "<Figure size 1000x800 with 2 Axes>"
            ]
          },
          "metadata": {},
          "output_type": "display_data"
        }
      ],
      "source": [
        "# Visualisasi matriks korelasi untuk bulan Februari\n",
        "plt.figure(figsize=(10, 8))\n",
        "sns.heatmap(february_corr, annot=True, cmap='coolwarm', fmt=\".2f\", linewidths=0.5)\n",
        "plt.title('Matriks Korelasi untuk Bulan Februari 2015')\n",
        "plt.show()"
      ]
    },
    {
      "cell_type": "code",
      "execution_count": 63,
      "metadata": {
        "id": "Vkh60xE2AC5J"
      },
      "outputs": [],
      "source": [
        "# Fitur dan target untuk Januari\n",
        "X_januari = januari_data[['order_protocol','total_items','subtotal', 'order_hour',\n",
        "                          'min_item_price', 'max_item_price',\n",
        "                          'total_onshift_partners', 'total_outstanding_orders',\n",
        "                           'num_distinct_items','total_busy_partners']]\n",
        "y_januari = januari_data['delivery_duration']\n",
        "\n",
        "# Fitur dan target untuk Februari\n",
        "X_februari = februari_data[['order_protocol','total_items','subtotal', 'order_hour',\n",
        "                          'min_item_price', 'max_item_price',\n",
        "                           'total_onshift_partners', 'total_outstanding_orders',\n",
        "                           'num_distinct_items','total_busy_partners']]\n",
        "y_februari = februari_data['delivery_duration']"
      ]
    },
    {
      "cell_type": "markdown",
      "metadata": {
        "id": "KGTUk9aeATSA"
      },
      "source": [
        "# Model Linear Regression untuk masing-masing bulan"
      ]
    },
    {
      "cell_type": "code",
      "execution_count": 64,
      "metadata": {
        "colab": {
          "base_uri": "https://localhost:8080/"
        },
        "id": "FyZh0RgfZMJO",
        "outputId": "6b3142c2-f4b7-4bb1-99cf-06dc0e8356ed"
      },
      "outputs": [
        {
          "name": "stdout",
          "output_type": "stream",
          "text": [
            "Januari - MSE: 213.57646562964464, R-squared: 0.18241210312565637\n",
            "Februari - MSE: 243.09192093100825, R-squared: 0.1788999835252687\n"
          ]
        }
      ],
      "source": [
        "from sklearn.linear_model import LinearRegression\n",
        "from sklearn.metrics import mean_squared_error, r2_score\n",
        "\n",
        "# Model untuk Januari\n",
        "model_januari = LinearRegression()\n",
        "model_januari.fit(X_januari, y_januari)\n",
        "\n",
        "# Prediksi dan evaluasi untuk Januari\n",
        "y_pred_januari = model_januari.predict(X_januari)\n",
        "mse_januari = mean_squared_error(y_januari, y_pred_januari)\n",
        "r2_januari = r2_score(y_januari, y_pred_januari)\n",
        "\n",
        "# Model untuk Februari\n",
        "model_februari = LinearRegression()\n",
        "model_februari.fit(X_februari, y_februari)\n",
        "\n",
        "# Prediksi dan evaluasi untuk Februari\n",
        "y_pred_februari = model_februari.predict(X_februari)\n",
        "mse_februari = mean_squared_error(y_februari, y_pred_februari)\n",
        "r2_februari = r2_score(y_februari, y_pred_februari)\n",
        "\n",
        "# Menampilkan hasil\n",
        "print(f'Januari - MSE: {mse_januari}, R-squared: {r2_januari}')\n",
        "print(f'Februari - MSE: {mse_februari}, R-squared: {r2_februari}')"
      ]
    },
    {
      "cell_type": "markdown",
      "metadata": {
        "id": "xslqJF8aA9nQ"
      },
      "source": [
        "## Uji Signifikansi Koefisien\n",
        "Mendapatkan p-value untuk setiap koefisien"
      ]
    },
    {
      "cell_type": "code",
      "execution_count": 65,
      "metadata": {
        "colab": {
          "base_uri": "https://localhost:8080/"
        },
        "id": "Xm-D660PA4yU",
        "outputId": "a91fb836-f50e-4b39-feb9-332e2397ea88"
      },
      "outputs": [
        {
          "name": "stdout",
          "output_type": "stream",
          "text": [
            "                            OLS Regression Results                            \n",
            "==============================================================================\n",
            "Dep. Variable:      delivery_duration   R-squared:                       0.182\n",
            "Model:                            OLS   Adj. R-squared:                  0.182\n",
            "Method:                 Least Squares   F-statistic:                     1528.\n",
            "Date:                Fri, 18 Oct 2024   Prob (F-statistic):               0.00\n",
            "Time:                        14:56:40   Log-Likelihood:            -2.8084e+05\n",
            "No. Observations:               68482   AIC:                         5.617e+05\n",
            "Df Residuals:                   68471   BIC:                         5.618e+05\n",
            "Df Model:                          10                                         \n",
            "Covariance Type:            nonrobust                                         \n",
            "============================================================================================\n",
            "                               coef    std err          t      P>|t|      [0.025      0.975]\n",
            "--------------------------------------------------------------------------------------------\n",
            "const                       44.2267      0.253    174.610      0.000      43.730      44.723\n",
            "order_protocol              -0.5477      0.038    -14.463      0.000      -0.622      -0.473\n",
            "total_items                  0.0119      0.040      0.301      0.763      -0.066       0.090\n",
            "subtotal                     0.0015   5.76e-05     26.563      0.000       0.001       0.002\n",
            "order_hour                  -0.1682      0.007    -24.187      0.000      -0.182      -0.155\n",
            "min_item_price               0.0003      0.000      1.660      0.097   -4.74e-05       0.001\n",
            "max_item_price               0.0005      0.000      3.257      0.001       0.000       0.001\n",
            "total_onshift_partners      -0.3717      0.006    -60.043      0.000      -0.384      -0.360\n",
            "total_outstanding_orders     0.3083      0.003     91.782      0.000       0.302       0.315\n",
            "num_distinct_items           0.4012      0.071      5.650      0.000       0.262       0.540\n",
            "total_busy_partners         -0.0479      0.004    -10.719      0.000      -0.057      -0.039\n",
            "==============================================================================\n",
            "Omnibus:                    11612.033   Durbin-Watson:                   1.758\n",
            "Prob(Omnibus):                  0.000   Jarque-Bera (JB):            22476.560\n",
            "Skew:                           1.048   Prob(JB):                         0.00\n",
            "Kurtosis:                       4.867   Cond. No.                     1.61e+04\n",
            "==============================================================================\n",
            "\n",
            "Notes:\n",
            "[1] Standard Errors assume that the covariance matrix of the errors is correctly specified.\n",
            "[2] The condition number is large, 1.61e+04. This might indicate that there are\n",
            "strong multicollinearity or other numerical problems.\n",
            "                            OLS Regression Results                            \n",
            "==============================================================================\n",
            "Dep. Variable:      delivery_duration   R-squared:                       0.179\n",
            "Model:                            OLS   Adj. R-squared:                  0.179\n",
            "Method:                 Least Squares   F-statistic:                     2809.\n",
            "Date:                Fri, 18 Oct 2024   Prob (F-statistic):               0.00\n",
            "Time:                        14:56:41   Log-Likelihood:            -5.3714e+05\n",
            "No. Observations:              128945   AIC:                         1.074e+06\n",
            "Df Residuals:                  128934   BIC:                         1.074e+06\n",
            "Df Model:                          10                                         \n",
            "Covariance Type:            nonrobust                                         \n",
            "============================================================================================\n",
            "                               coef    std err          t      P>|t|      [0.025      0.975]\n",
            "--------------------------------------------------------------------------------------------\n",
            "const                       49.0596      0.198    248.212      0.000      48.672      49.447\n",
            "order_protocol              -0.7545      0.029    -25.672      0.000      -0.812      -0.697\n",
            "total_items                 -0.0379      0.024     -1.546      0.122      -0.086       0.010\n",
            "subtotal                     0.0014   4.53e-05     30.356      0.000       0.001       0.001\n",
            "order_hour                  -0.2638      0.006    -47.868      0.000      -0.275      -0.253\n",
            "min_item_price               0.0001      0.000      1.036      0.300      -0.000       0.000\n",
            "max_item_price               0.0008      0.000      6.731      0.000       0.001       0.001\n",
            "total_onshift_partners      -0.2973      0.005    -60.680      0.000      -0.307      -0.288\n",
            "total_outstanding_orders     0.3758      0.003    114.037      0.000       0.369       0.382\n",
            "num_distinct_items           0.4231      0.054      7.861      0.000       0.318       0.529\n",
            "total_busy_partners         -0.2773      0.008    -36.040      0.000      -0.292      -0.262\n",
            "==============================================================================\n",
            "Omnibus:                    20043.933   Durbin-Watson:                   1.760\n",
            "Prob(Omnibus):                  0.000   Jarque-Bera (JB):            35027.147\n",
            "Skew:                           1.017   Prob(JB):                         0.00\n",
            "Kurtosis:                       4.543   Cond. No.                     1.60e+04\n",
            "==============================================================================\n",
            "\n",
            "Notes:\n",
            "[1] Standard Errors assume that the covariance matrix of the errors is correctly specified.\n",
            "[2] The condition number is large, 1.6e+04. This might indicate that there are\n",
            "strong multicollinearity or other numerical problems.\n"
          ]
        }
      ],
      "source": [
        "import statsmodels.api as sm\n",
        "\n",
        "# Menambah konstanta untuk intercept\n",
        "X_januari_const = sm.add_constant(X_januari)\n",
        "X_februari_const = sm.add_constant(X_februari)\n",
        "\n",
        "# Model statsmodels untuk Januari\n",
        "model_januari_sm = sm.OLS(y_januari, X_januari_const).fit()\n",
        "print(model_januari_sm.summary())\n",
        "\n",
        "# Model statsmodels untuk Februari\n",
        "model_februari_sm = sm.OLS(y_februari, X_februari_const).fit()\n",
        "print(model_februari_sm.summary())"
      ]
    },
    {
      "cell_type": "markdown",
      "metadata": {
        "id": "G27gsR2MCOoO"
      },
      "source": [
        "### Penjelasan :\n",
        "Model regresi menunjukkan bahwa beberapa variabel seperti order_hour, subtotal, total_onshift_partners, dan total_outstanding_orders sangat signifikan dalam mempengaruhi durasi pengiriman. Namun, nilai R-squared yang rendah (sekitar 0.18) menunjukkan bahwa banyak variasi dalam delivery_duration yang belum dijelaskan oleh model ini.\n",
        "Ada tanda-tanda multikolinieritas (condition number besar), jadi perlu diperiksa apakah ada variabel yang saling berkorelasi kuat.\n",
        "\n",
        "Meskipun ada beberapa fitur yang signifikan, model memiliki R-squared yang relatif rendah, menunjukkan bahwa ada faktor lain yang tidak ditangkap oleh model ini yang juga mempengaruhi durasi pengiriman.\n",
        "Perlu analisis lebih lanjut atau menambah fitur lain yang mungkin relevan, serta mempertimbangkan teknik regularisasi untuk mengatasi masalah multikolinearitas."
      ]
    },
    {
      "cell_type": "markdown",
      "metadata": {
        "id": "XGDyIDSUgvbG"
      },
      "source": [
        "## Langkah-langkah Analisis Regresi\n",
        "Persiapan Data\n",
        "\n",
        "Mengatur Fitur:\n",
        "subtotal\n",
        "total_items\n",
        "order_hour\n",
        "total_onshift_partners\n",
        "total_busy_partners\n",
        "order_day_of_week"
      ]
    },
    {
      "cell_type": "markdown",
      "metadata": {
        "id": "vAHsZDddFAjd"
      },
      "source": [
        "## (1). Regresi OLS (multi variabel)"
      ]
    },
    {
      "cell_type": "code",
      "execution_count": 66,
      "metadata": {
        "colab": {
          "base_uri": "https://localhost:8080/"
        },
        "id": "PrUXVOYjGxx8",
        "outputId": "f93411a6-35a4-4d8f-e9c9-d9aed15625dc"
      },
      "outputs": [
        {
          "name": "stdout",
          "output_type": "stream",
          "text": [
            "Results for January:\n",
            "                            OLS Regression Results                            \n",
            "==============================================================================\n",
            "Dep. Variable:      delivery_duration   R-squared:                       0.184\n",
            "Model:                            OLS   Adj. R-squared:                  0.184\n",
            "Method:                 Least Squares   F-statistic:                     3089.\n",
            "Date:                Fri, 18 Oct 2024   Prob (F-statistic):               0.00\n",
            "Time:                        14:59:11   Log-Likelihood:            -2.8077e+05\n",
            "No. Observations:               68482   AIC:                         5.616e+05\n",
            "Df Residuals:                   68476   BIC:                         5.616e+05\n",
            "Df Model:                           5                                         \n",
            "Covariance Type:            nonrobust                                         \n",
            "============================================================================================\n",
            "                               coef    std err          t      P>|t|      [0.025      0.975]\n",
            "--------------------------------------------------------------------------------------------\n",
            "const                       41.3887      0.189    219.440      0.000      41.019      41.758\n",
            "subtotal                     0.0019   3.08e-05     60.207      0.000       0.002       0.002\n",
            "order_hour                  -0.1819      0.007    -26.361      0.000      -0.195      -0.168\n",
            "total_onshift_partners      -0.4070      0.005    -78.509      0.000      -0.417      -0.397\n",
            "total_outstanding_orders     0.2938      0.003     88.611      0.000       0.287       0.300\n",
            "order_day_of_week            0.7483      0.032     23.202      0.000       0.685       0.811\n",
            "==============================================================================\n",
            "Omnibus:                    11470.280   Durbin-Watson:                   1.749\n",
            "Prob(Omnibus):                  0.000   Jarque-Bera (JB):            22106.290\n",
            "Skew:                           1.038   Prob(JB):                         0.00\n",
            "Kurtosis:                       4.854   Cond. No.                     1.11e+04\n",
            "==============================================================================\n",
            "\n",
            "Notes:\n",
            "[1] Standard Errors assume that the covariance matrix of the errors is correctly specified.\n",
            "[2] The condition number is large, 1.11e+04. This might indicate that there are\n",
            "strong multicollinearity or other numerical problems.\n",
            "MSE: 213.148659252253\n",
            "RMSE: 14.599611613061938\n",
            "\n",
            "Results for February:\n",
            "                            OLS Regression Results                            \n",
            "==============================================================================\n",
            "Dep. Variable:      delivery_duration   R-squared:                       0.165\n",
            "Model:                            OLS   Adj. R-squared:                  0.165\n",
            "Method:                 Least Squares   F-statistic:                     5099.\n",
            "Date:                Fri, 18 Oct 2024   Prob (F-statistic):               0.00\n",
            "Time:                        14:59:11   Log-Likelihood:            -5.3822e+05\n",
            "No. Observations:              128945   AIC:                         1.076e+06\n",
            "Df Residuals:                  128939   BIC:                         1.077e+06\n",
            "Df Model:                           5                                         \n",
            "Covariance Type:            nonrobust                                         \n",
            "============================================================================================\n",
            "                               coef    std err          t      P>|t|      [0.025      0.975]\n",
            "--------------------------------------------------------------------------------------------\n",
            "const                       47.3270      0.131    361.482      0.000      47.070      47.584\n",
            "subtotal                     0.0018   2.47e-05     71.918      0.000       0.002       0.002\n",
            "order_hour                  -0.2811      0.006    -50.763      0.000      -0.292      -0.270\n",
            "total_onshift_partners      -0.4196      0.004   -114.024      0.000      -0.427      -0.412\n",
            "total_outstanding_orders     0.2929      0.002    121.292      0.000       0.288       0.298\n",
            "order_day_of_week           -0.0547      0.020     -2.681      0.007      -0.095      -0.015\n",
            "==============================================================================\n",
            "Omnibus:                    19840.445   Durbin-Watson:                   1.750\n",
            "Prob(Omnibus):                  0.000   Jarque-Bera (JB):            34200.224\n",
            "Skew:                           1.015   Prob(JB):                         0.00\n",
            "Kurtosis:                       4.497   Cond. No.                     9.68e+03\n",
            "==============================================================================\n",
            "\n",
            "Notes:\n",
            "[1] Standard Errors assume that the covariance matrix of the errors is correctly specified.\n",
            "[2] The condition number is large, 9.68e+03. This might indicate that there are\n",
            "strong multicollinearity or other numerical problems.\n",
            "MSE: 247.1846441660818\n",
            "RMSE: 15.722106861552678\n",
            "\n"
          ]
        }
      ],
      "source": [
        "import statsmodels.api as sm\n",
        "from sklearn.metrics import mean_squared_error\n",
        "import numpy as np\n",
        "\n",
        "# DataFrame yang sudah berisi kolom 'month'\n",
        "df['month'] = df['created_at'].dt.month  # Misalnya, 1 untuk Januari, 2 untuk Februari\n",
        "\n",
        "# Fitur yang ingin digunakan\n",
        "features = ['subtotal', 'order_hour', 'total_onshift_partners',\n",
        "            'total_outstanding_orders', 'order_day_of_week']\n",
        "\n",
        "# Pisahkan data untuk bulan Januari dan Februari\n",
        "df_january = df[df['month'] == 1]\n",
        "df_february = df[df['month'] == 2]\n",
        "\n",
        "# Fungsi untuk analisis regresi\n",
        "def run_regression(df, month_name):\n",
        "    X = df[features]\n",
        "    y = df['delivery_duration']\n",
        "\n",
        "    # Menambahkan konstanta untuk intercept\n",
        "    X = sm.add_constant(X)\n",
        "\n",
        "    # Melakukan analisis regresi OLS\n",
        "    model = sm.OLS(y, X).fit()\n",
        "\n",
        "    # Menampilkan hasil\n",
        "    print(f\"Results for {month_name}:\")\n",
        "    print(model.summary())\n",
        "\n",
        "    # Prediksi dan menghitung RMSE\n",
        "    y_pred = model.predict(X)\n",
        "    mse = mean_squared_error(y, y_pred)\n",
        "    rmse = np.sqrt(mse)\n",
        "\n",
        "    print(f'MSE: {mse}')\n",
        "    print(f'RMSE: {rmse}\\n')\n",
        "\n",
        "# Jalankan regresi untuk masing-masing bulan\n",
        "run_regression(df_january, \"January\")\n",
        "run_regression(df_february, \"February\")"
      ]
    },
    {
      "cell_type": "markdown",
      "metadata": {
        "id": "fPZ-2u9UFJbb"
      },
      "source": [
        "### Menambah Fitur"
      ]
    },
    {
      "cell_type": "code",
      "execution_count": 67,
      "metadata": {
        "colab": {
          "base_uri": "https://localhost:8080/"
        },
        "id": "AgVki1DTKPDB",
        "outputId": "73c62e23-9c3d-41ba-d69f-61d022ef1572"
      },
      "outputs": [
        {
          "name": "stdout",
          "output_type": "stream",
          "text": [
            "Available columns in January data:\n",
            "Index(['created_at', 'actual_delivery_time', 'store_id',\n",
            "       'store_primary_category', 'order_protocol', 'total_items', 'subtotal',\n",
            "       'num_distinct_items', 'min_item_price', 'max_item_price',\n",
            "       'total_onshift_partners', 'total_busy_partners',\n",
            "       'total_outstanding_orders', 'market_1.0', 'market_2.0', 'market_3.0',\n",
            "       'market_4.0', 'market_5.0', 'market_6.0', 'delivery_duration',\n",
            "       'order_hour', 'order_day_of_week', 'is_outlier', 'month',\n",
            "       'order_month'],\n",
            "      dtype='object')\n",
            "Available columns in February data:\n",
            "Index(['created_at', 'actual_delivery_time', 'store_id',\n",
            "       'store_primary_category', 'order_protocol', 'total_items', 'subtotal',\n",
            "       'num_distinct_items', 'min_item_price', 'max_item_price',\n",
            "       'total_onshift_partners', 'total_busy_partners',\n",
            "       'total_outstanding_orders', 'market_1.0', 'market_2.0', 'market_3.0',\n",
            "       'market_4.0', 'market_5.0', 'market_6.0', 'delivery_duration',\n",
            "       'order_hour', 'order_day_of_week', 'is_outlier', 'month',\n",
            "       'order_month'],\n",
            "      dtype='object')\n",
            "Using features for January analysis:\n",
            "['subtotal', 'order_hour', 'min_item_price', 'max_item_price', 'total_onshift_partners', 'total_busy_partners', 'total_outstanding_orders', 'num_distinct_items', 'order_protocol', 'order_day_of_week', 'market_1.0', 'market_2.0', 'market_3.0', 'market_4.0', 'market_5.0', 'market_6.0']\n",
            "Using features for February analysis:\n",
            "['subtotal', 'order_hour', 'min_item_price', 'max_item_price', 'total_onshift_partners', 'total_busy_partners', 'total_outstanding_orders', 'num_distinct_items', 'order_protocol', 'order_day_of_week', 'market_1.0', 'market_2.0', 'market_3.0', 'market_4.0', 'market_5.0', 'market_6.0']\n"
          ]
        }
      ],
      "source": [
        "# Memeriksa kolom yang tersedia di January DataFrame\n",
        "print(\"Available columns in January data:\")\n",
        "print(df_january.columns)\n",
        "\n",
        "# Memeriksa kolom yang tersedia di February DataFrame\n",
        "print(\"Available columns in February data:\")\n",
        "print(df_february.columns)\n",
        "\n",
        "# Pastikan fitur yang akan digunakan ada di DataFrame\n",
        "features = [\n",
        "    'subtotal', 'order_hour', 'min_item_price', 'max_item_price',\n",
        "    'total_onshift_partners', 'total_busy_partners',\n",
        "    'total_outstanding_orders', 'num_distinct_items',\n",
        "    'order_protocol', 'order_day_of_week',\n",
        "    'market_1.0', 'market_2.0', 'market_3.0',\n",
        "    'market_4.0', 'market_5.0', 'market_6.0'\n",
        "]\n",
        "\n",
        "# Memeriksa fitur yang tersedia di January\n",
        "available_features_jan = [col for col in features if col in df_january.columns]\n",
        "print(\"Using features for January analysis:\")\n",
        "print(available_features_jan)\n",
        "\n",
        "# Memeriksa fitur yang tersedia di February\n",
        "available_features_feb = [col for col in features if col in df_february.columns]\n",
        "print(\"Using features for February analysis:\")\n",
        "print(available_features_feb)\n"
      ]
    },
    {
      "cell_type": "code",
      "execution_count": 68,
      "metadata": {
        "colab": {
          "base_uri": "https://localhost:8080/"
        },
        "id": "I7p1IEeuNc6G",
        "outputId": "222cdce0-7d48-461f-94e2-336f99743e8d"
      },
      "outputs": [
        {
          "name": "stderr",
          "output_type": "stream",
          "text": [
            "<ipython-input-68-e7ce17f3d19b>:17: SettingWithCopyWarning: \n",
            "A value is trying to be set on a copy of a slice from a DataFrame.\n",
            "Try using .loc[row_indexer,col_indexer] = value instead\n",
            "\n",
            "See the caveats in the documentation: https://pandas.pydata.org/pandas-docs/stable/user_guide/indexing.html#returning-a-view-versus-a-copy\n",
            "  df_january[col] = df_january[col].astype(int)\n",
            "<ipython-input-68-e7ce17f3d19b>:19: SettingWithCopyWarning: \n",
            "A value is trying to be set on a copy of a slice from a DataFrame.\n",
            "Try using .loc[row_indexer,col_indexer] = value instead\n",
            "\n",
            "See the caveats in the documentation: https://pandas.pydata.org/pandas-docs/stable/user_guide/indexing.html#returning-a-view-versus-a-copy\n",
            "  df_february[col] = df_february[col].astype(int)\n",
            "<ipython-input-68-e7ce17f3d19b>:17: SettingWithCopyWarning: \n",
            "A value is trying to be set on a copy of a slice from a DataFrame.\n",
            "Try using .loc[row_indexer,col_indexer] = value instead\n",
            "\n",
            "See the caveats in the documentation: https://pandas.pydata.org/pandas-docs/stable/user_guide/indexing.html#returning-a-view-versus-a-copy\n",
            "  df_january[col] = df_january[col].astype(int)\n",
            "<ipython-input-68-e7ce17f3d19b>:19: SettingWithCopyWarning: \n",
            "A value is trying to be set on a copy of a slice from a DataFrame.\n",
            "Try using .loc[row_indexer,col_indexer] = value instead\n",
            "\n",
            "See the caveats in the documentation: https://pandas.pydata.org/pandas-docs/stable/user_guide/indexing.html#returning-a-view-versus-a-copy\n",
            "  df_february[col] = df_february[col].astype(int)\n",
            "<ipython-input-68-e7ce17f3d19b>:17: SettingWithCopyWarning: \n",
            "A value is trying to be set on a copy of a slice from a DataFrame.\n",
            "Try using .loc[row_indexer,col_indexer] = value instead\n",
            "\n",
            "See the caveats in the documentation: https://pandas.pydata.org/pandas-docs/stable/user_guide/indexing.html#returning-a-view-versus-a-copy\n",
            "  df_january[col] = df_january[col].astype(int)\n",
            "<ipython-input-68-e7ce17f3d19b>:19: SettingWithCopyWarning: \n",
            "A value is trying to be set on a copy of a slice from a DataFrame.\n",
            "Try using .loc[row_indexer,col_indexer] = value instead\n",
            "\n",
            "See the caveats in the documentation: https://pandas.pydata.org/pandas-docs/stable/user_guide/indexing.html#returning-a-view-versus-a-copy\n",
            "  df_february[col] = df_february[col].astype(int)\n",
            "<ipython-input-68-e7ce17f3d19b>:17: SettingWithCopyWarning: \n",
            "A value is trying to be set on a copy of a slice from a DataFrame.\n",
            "Try using .loc[row_indexer,col_indexer] = value instead\n",
            "\n",
            "See the caveats in the documentation: https://pandas.pydata.org/pandas-docs/stable/user_guide/indexing.html#returning-a-view-versus-a-copy\n",
            "  df_january[col] = df_january[col].astype(int)\n",
            "<ipython-input-68-e7ce17f3d19b>:19: SettingWithCopyWarning: \n",
            "A value is trying to be set on a copy of a slice from a DataFrame.\n",
            "Try using .loc[row_indexer,col_indexer] = value instead\n",
            "\n",
            "See the caveats in the documentation: https://pandas.pydata.org/pandas-docs/stable/user_guide/indexing.html#returning-a-view-versus-a-copy\n",
            "  df_february[col] = df_february[col].astype(int)\n",
            "<ipython-input-68-e7ce17f3d19b>:17: SettingWithCopyWarning: \n",
            "A value is trying to be set on a copy of a slice from a DataFrame.\n",
            "Try using .loc[row_indexer,col_indexer] = value instead\n",
            "\n",
            "See the caveats in the documentation: https://pandas.pydata.org/pandas-docs/stable/user_guide/indexing.html#returning-a-view-versus-a-copy\n",
            "  df_january[col] = df_january[col].astype(int)\n",
            "<ipython-input-68-e7ce17f3d19b>:19: SettingWithCopyWarning: \n",
            "A value is trying to be set on a copy of a slice from a DataFrame.\n",
            "Try using .loc[row_indexer,col_indexer] = value instead\n",
            "\n",
            "See the caveats in the documentation: https://pandas.pydata.org/pandas-docs/stable/user_guide/indexing.html#returning-a-view-versus-a-copy\n",
            "  df_february[col] = df_february[col].astype(int)\n",
            "<ipython-input-68-e7ce17f3d19b>:17: SettingWithCopyWarning: \n",
            "A value is trying to be set on a copy of a slice from a DataFrame.\n",
            "Try using .loc[row_indexer,col_indexer] = value instead\n",
            "\n",
            "See the caveats in the documentation: https://pandas.pydata.org/pandas-docs/stable/user_guide/indexing.html#returning-a-view-versus-a-copy\n",
            "  df_january[col] = df_january[col].astype(int)\n",
            "<ipython-input-68-e7ce17f3d19b>:19: SettingWithCopyWarning: \n",
            "A value is trying to be set on a copy of a slice from a DataFrame.\n",
            "Try using .loc[row_indexer,col_indexer] = value instead\n",
            "\n",
            "See the caveats in the documentation: https://pandas.pydata.org/pandas-docs/stable/user_guide/indexing.html#returning-a-view-versus-a-copy\n",
            "  df_february[col] = df_february[col].astype(int)\n",
            "<ipython-input-68-e7ce17f3d19b>:29: SettingWithCopyWarning: \n",
            "A value is trying to be set on a copy of a slice from a DataFrame\n",
            "\n",
            "See the caveats in the documentation: https://pandas.pydata.org/pandas-docs/stable/user_guide/indexing.html#returning-a-view-versus-a-copy\n",
            "  df_january.dropna(subset=features + ['delivery_duration'], inplace=True)\n",
            "<ipython-input-68-e7ce17f3d19b>:30: SettingWithCopyWarning: \n",
            "A value is trying to be set on a copy of a slice from a DataFrame\n",
            "\n",
            "See the caveats in the documentation: https://pandas.pydata.org/pandas-docs/stable/user_guide/indexing.html#returning-a-view-versus-a-copy\n",
            "  df_february.dropna(subset=features + ['delivery_duration'], inplace=True)\n"
          ]
        },
        {
          "name": "stdout",
          "output_type": "stream",
          "text": [
            "\n",
            "Final data types after conversion for January:\n",
            "created_at                  datetime64[ns]\n",
            "actual_delivery_time        datetime64[ns]\n",
            "store_id                             int16\n",
            "store_primary_category              object\n",
            "order_protocol                     float64\n",
            "total_items                          int64\n",
            "subtotal                             int64\n",
            "num_distinct_items                   int64\n",
            "min_item_price                       int64\n",
            "max_item_price                       int64\n",
            "total_onshift_partners             float64\n",
            "total_busy_partners                float64\n",
            "total_outstanding_orders           float64\n",
            "market_1.0                           int64\n",
            "market_2.0                           int64\n",
            "market_3.0                           int64\n",
            "market_4.0                           int64\n",
            "market_5.0                           int64\n",
            "market_6.0                           int64\n",
            "delivery_duration                  float64\n",
            "order_hour                           int32\n",
            "order_day_of_week                    int32\n",
            "is_outlier                            bool\n",
            "month                                int32\n",
            "order_month                          int32\n",
            "dtype: object\n",
            "\n",
            "Final data types after conversion for February:\n",
            "created_at                  datetime64[ns]\n",
            "actual_delivery_time        datetime64[ns]\n",
            "store_id                             int16\n",
            "store_primary_category              object\n",
            "order_protocol                     float64\n",
            "total_items                          int64\n",
            "subtotal                             int64\n",
            "num_distinct_items                   int64\n",
            "min_item_price                       int64\n",
            "max_item_price                       int64\n",
            "total_onshift_partners             float64\n",
            "total_busy_partners                float64\n",
            "total_outstanding_orders           float64\n",
            "market_1.0                           int64\n",
            "market_2.0                           int64\n",
            "market_3.0                           int64\n",
            "market_4.0                           int64\n",
            "market_5.0                           int64\n",
            "market_6.0                           int64\n",
            "delivery_duration                  float64\n",
            "order_hour                           int32\n",
            "order_day_of_week                    int32\n",
            "is_outlier                            bool\n",
            "month                                int32\n",
            "order_month                          int32\n",
            "dtype: object\n",
            "Results for ['subtotal', 'order_hour', 'min_item_price', 'max_item_price', 'total_onshift_partners', 'total_busy_partners', 'total_outstanding_orders', 'num_distinct_items', 'order_protocol', 'order_day_of_week', 'market_1.0', 'market_2.0', 'market_3.0', 'market_4.0', 'market_5.0', 'market_6.0']:\n",
            "                            OLS Regression Results                            \n",
            "==============================================================================\n",
            "Dep. Variable:      delivery_duration   R-squared:                       0.191\n",
            "Model:                            OLS   Adj. R-squared:                  0.191\n",
            "Method:                 Least Squares   F-statistic:                     1076.\n",
            "Date:                Fri, 18 Oct 2024   Prob (F-statistic):               0.00\n",
            "Time:                        15:00:03   Log-Likelihood:            -2.8049e+05\n",
            "No. Observations:               68482   AIC:                         5.610e+05\n",
            "Df Residuals:                   68466   BIC:                         5.612e+05\n",
            "Df Model:                          15                                         \n",
            "Covariance Type:            nonrobust                                         \n",
            "============================================================================================\n",
            "                               coef    std err          t      P>|t|      [0.025      0.975]\n",
            "--------------------------------------------------------------------------------------------\n",
            "const                       35.7370      0.238    150.370      0.000      35.271      36.203\n",
            "subtotal                     0.0015   5.48e-05     27.823      0.000       0.001       0.002\n",
            "order_hour                  -0.1539      0.007    -21.618      0.000      -0.168      -0.140\n",
            "min_item_price               0.0003      0.000      1.625      0.104   -5.25e-05       0.001\n",
            "max_item_price               0.0004      0.000      2.490      0.013    7.86e-05       0.001\n",
            "total_onshift_partners      -0.3644      0.006    -58.285      0.000      -0.377      -0.352\n",
            "total_busy_partners         -0.0267      0.005     -5.834      0.000      -0.036      -0.018\n",
            "total_outstanding_orders     0.2958      0.003     87.118      0.000       0.289       0.302\n",
            "num_distinct_items           0.3812      0.061      6.235      0.000       0.261       0.501\n",
            "order_protocol              -0.5278      0.038    -13.944      0.000      -0.602      -0.454\n",
            "order_day_of_week            0.6829      0.032     21.032      0.000       0.619       0.747\n",
            "market_1.0                   7.0377      0.126     56.060      0.000       6.792       7.284\n",
            "market_2.0                   4.6250      0.129     35.808      0.000       4.372       4.878\n",
            "market_3.0                   5.5531      0.152     36.589      0.000       5.256       5.851\n",
            "market_4.0                   5.1511      0.140     36.888      0.000       4.877       5.425\n",
            "market_5.0                   5.8769      0.180     32.707      0.000       5.525       6.229\n",
            "market_6.0                   7.4932      0.210     35.601      0.000       7.081       7.906\n",
            "==============================================================================\n",
            "Omnibus:                    11384.444   Durbin-Watson:                   1.760\n",
            "Prob(Omnibus):                  0.000   Jarque-Bera (JB):            21955.247\n",
            "Skew:                           1.031   Prob(JB):                         0.00\n",
            "Kurtosis:                       4.856   Cond. No.                     1.46e+19\n",
            "==============================================================================\n",
            "\n",
            "Notes:\n",
            "[1] Standard Errors assume that the covariance matrix of the errors is correctly specified.\n",
            "[2] The smallest eigenvalue is 3.98e-27. This might indicate that there are\n",
            "strong multicollinearity problems or that the design matrix is singular.\n",
            "MSE: 211.38174240470715\n",
            "RMSE: 14.53897322388026\n",
            "\n",
            "Error during regression for January: cannot unpack non-iterable NoneType object\n",
            "Results for ['subtotal', 'order_hour', 'min_item_price', 'max_item_price', 'total_onshift_partners', 'total_busy_partners', 'total_outstanding_orders', 'num_distinct_items', 'order_protocol', 'order_day_of_week', 'market_1.0', 'market_2.0', 'market_3.0', 'market_4.0', 'market_5.0', 'market_6.0']:\n",
            "                            OLS Regression Results                            \n",
            "==============================================================================\n",
            "Dep. Variable:      delivery_duration   R-squared:                       0.196\n",
            "Model:                            OLS   Adj. R-squared:                  0.196\n",
            "Method:                 Least Squares   F-statistic:                     2100.\n",
            "Date:                Fri, 18 Oct 2024   Prob (F-statistic):               0.00\n",
            "Time:                        15:00:04   Log-Likelihood:            -5.3575e+05\n",
            "No. Observations:              128945   AIC:                         1.072e+06\n",
            "Df Residuals:                  128929   BIC:                         1.072e+06\n",
            "Df Model:                          15                                         \n",
            "Covariance Type:            nonrobust                                         \n",
            "============================================================================================\n",
            "                               coef    std err          t      P>|t|      [0.025      0.975]\n",
            "--------------------------------------------------------------------------------------------\n",
            "const                       40.6743      0.176    231.114      0.000      40.329      41.019\n",
            "subtotal                     0.0013   4.39e-05     30.504      0.000       0.001       0.001\n",
            "order_hour                  -0.2073      0.006    -36.863      0.000      -0.218      -0.196\n",
            "min_item_price               0.0001      0.000      0.967      0.334      -0.000       0.000\n",
            "max_item_price               0.0008      0.000      7.258      0.000       0.001       0.001\n",
            "total_onshift_partners      -0.2544      0.005    -51.432      0.000      -0.264      -0.245\n",
            "total_busy_partners         -0.2947      0.008    -38.029      0.000      -0.310      -0.280\n",
            "total_outstanding_orders     0.3858      0.003    115.672      0.000       0.379       0.392\n",
            "num_distinct_items           0.4082      0.048      8.497      0.000       0.314       0.502\n",
            "order_protocol              -0.6889      0.029    -23.577      0.000      -0.746      -0.632\n",
            "order_day_of_week           -0.1082      0.020     -5.392      0.000      -0.148      -0.069\n",
            "market_1.0                  10.5789      0.098    107.420      0.000      10.386      10.772\n",
            "market_2.0                   4.4764      0.101     44.279      0.000       4.278       4.675\n",
            "market_3.0                   8.1678      0.118     69.251      0.000       7.937       8.399\n",
            "market_4.0                   3.4495      0.103     33.612      0.000       3.248       3.651\n",
            "market_5.0                   5.9129      0.127     46.444      0.000       5.663       6.162\n",
            "market_6.0                   8.0889      0.138     58.427      0.000       7.818       8.360\n",
            "==============================================================================\n",
            "Omnibus:                    18954.843   Durbin-Watson:                   1.783\n",
            "Prob(Omnibus):                  0.000   Jarque-Bera (JB):            32491.270\n",
            "Skew:                           0.977   Prob(JB):                         0.00\n",
            "Kurtosis:                       4.492   Cond. No.                     9.91e+18\n",
            "==============================================================================\n",
            "\n",
            "Notes:\n",
            "[1] Standard Errors assume that the covariance matrix of the errors is correctly specified.\n",
            "[2] The smallest eigenvalue is 1.59e-26. This might indicate that there are\n",
            "strong multicollinearity problems or that the design matrix is singular.\n",
            "MSE: 237.92106383134703\n",
            "RMSE: 15.424690072456789\n",
            "\n",
            "Error during regression for February: cannot unpack non-iterable NoneType object\n"
          ]
        }
      ],
      "source": [
        "import statsmodels.api as sm\n",
        "from sklearn.metrics import mean_squared_error\n",
        "\n",
        "# Fitur yang telah dipilih\n",
        "features = [\n",
        "    'subtotal', 'order_hour', 'min_item_price', 'max_item_price',\n",
        "    'total_onshift_partners', 'total_busy_partners',\n",
        "    'total_outstanding_orders', 'num_distinct_items',\n",
        "    'order_protocol', 'order_day_of_week',\n",
        "    'market_1.0', 'market_2.0', 'market_3.0',\n",
        "    'market_4.0', 'market_5.0', 'market_6.0'\n",
        "]\n",
        "\n",
        "# Mengonversi kolom boolean menjadi numerik\n",
        "for col in features:\n",
        "    if df_january[col].dtype == 'bool':\n",
        "        df_january[col] = df_january[col].astype(int)\n",
        "    if df_february[col].dtype == 'bool':\n",
        "        df_february[col] = df_february[col].astype(int)\n",
        "\n",
        "# Memastikan semua kolom fitur adalah numerik\n",
        "print(\"\\nFinal data types after conversion for January:\")\n",
        "print(df_january.dtypes)\n",
        "\n",
        "print(\"\\nFinal data types after conversion for February:\")\n",
        "print(df_february.dtypes)\n",
        "\n",
        "# Menghapus baris dengan nilai NaN setelah konversi\n",
        "df_january.dropna(subset=features + ['delivery_duration'], inplace=True)\n",
        "df_february.dropna(subset=features + ['delivery_duration'], inplace=True)\n",
        "\n",
        "# Jalankan regresi lagi setelah memastikan tidak ada nilai NaN\n",
        "try:\n",
        "    rmse_jan, r_squared_jan = run_regression(df_january, features)\n",
        "    print(f\"Results for January:\\nRMSE: {rmse_jan}\\nR-squared: {r_squared_jan}\")\n",
        "except Exception as e:\n",
        "    print(f\"Error during regression for January: {e}\")\n",
        "\n",
        "try:\n",
        "    rmse_feb, r_squared_feb = run_regression(df_february, features)\n",
        "    print(f\"Results for February:\\nRMSE: {rmse_feb}\\nR-squared: {r_squared_feb}\")\n",
        "except Exception as e:\n",
        "    print(f\"Error during regression for February: {e}\")"
      ]
    },
    {
      "cell_type": "markdown",
      "metadata": {
        "id": "erzr7mFpHmiv"
      },
      "source": [
        "## (2).Model Gradient Boosting Regressor"
      ]
    },
    {
      "cell_type": "code",
      "execution_count": 69,
      "metadata": {
        "id": "DV921lCKsvla"
      },
      "outputs": [],
      "source": [
        "from sklearn.ensemble import GradientBoostingRegressor\n",
        "from sklearn.metrics import mean_squared_error, r2_score\n",
        "from sklearn.model_selection import train_test_split"
      ]
    },
    {
      "cell_type": "code",
      "execution_count": 70,
      "metadata": {
        "id": "h_m2X3TBs3OZ"
      },
      "outputs": [],
      "source": [
        "# Menentukan fitur dan target\n",
        "features = [\n",
        "    'subtotal', 'order_hour', 'min_item_price', 'max_item_price',\n",
        "    'total_onshift_partners', 'total_busy_partners',\n",
        "    'total_outstanding_orders', 'num_distinct_items',\n",
        "    'order_protocol', 'order_day_of_week',\n",
        "    'market_1.0', 'market_2.0', 'market_3.0',\n",
        "    'market_4.0', 'market_5.0', 'market_6.0'\n",
        "]\n",
        "\n",
        "target = 'delivery_duration'\n",
        "\n",
        "# Memisahkan fitur dan target untuk Januari\n",
        "X_jan = df_january[features]\n",
        "y_jan = df_january[target]\n",
        "\n",
        "# Memisahkan fitur dan target untuk Februari\n",
        "X_feb = df_february[features]\n",
        "y_feb = df_february[target]"
      ]
    },
    {
      "cell_type": "code",
      "execution_count": 71,
      "metadata": {
        "id": "PAm-bQFZyBoE"
      },
      "outputs": [],
      "source": [
        "# Membagi data untuk Januari\n",
        "X_train_jan, X_test_jan, y_train_jan, y_test_jan = train_test_split(X_jan, y_jan, test_size=0.2, random_state=42)\n",
        "\n",
        "# Membagi data untuk Februari\n",
        "X_train_feb, X_test_feb, y_train_feb, y_test_feb = train_test_split(X_feb, y_feb, test_size=0.2, random_state=42)"
      ]
    },
    {
      "cell_type": "code",
      "execution_count": 72,
      "metadata": {
        "colab": {
          "base_uri": "https://localhost:8080/",
          "height": 80
        },
        "id": "8jLZ6nfbyXvM",
        "outputId": "fd040ed1-ef23-417d-a51e-875f803abdf9"
      },
      "outputs": [
        {
          "data": {
            "text/html": [
              "<style>#sk-container-id-1 {\n",
              "  /* Definition of color scheme common for light and dark mode */\n",
              "  --sklearn-color-text: black;\n",
              "  --sklearn-color-line: gray;\n",
              "  /* Definition of color scheme for unfitted estimators */\n",
              "  --sklearn-color-unfitted-level-0: #fff5e6;\n",
              "  --sklearn-color-unfitted-level-1: #f6e4d2;\n",
              "  --sklearn-color-unfitted-level-2: #ffe0b3;\n",
              "  --sklearn-color-unfitted-level-3: chocolate;\n",
              "  /* Definition of color scheme for fitted estimators */\n",
              "  --sklearn-color-fitted-level-0: #f0f8ff;\n",
              "  --sklearn-color-fitted-level-1: #d4ebff;\n",
              "  --sklearn-color-fitted-level-2: #b3dbfd;\n",
              "  --sklearn-color-fitted-level-3: cornflowerblue;\n",
              "\n",
              "  /* Specific color for light theme */\n",
              "  --sklearn-color-text-on-default-background: var(--sg-text-color, var(--theme-code-foreground, var(--jp-content-font-color1, black)));\n",
              "  --sklearn-color-background: var(--sg-background-color, var(--theme-background, var(--jp-layout-color0, white)));\n",
              "  --sklearn-color-border-box: var(--sg-text-color, var(--theme-code-foreground, var(--jp-content-font-color1, black)));\n",
              "  --sklearn-color-icon: #696969;\n",
              "\n",
              "  @media (prefers-color-scheme: dark) {\n",
              "    /* Redefinition of color scheme for dark theme */\n",
              "    --sklearn-color-text-on-default-background: var(--sg-text-color, var(--theme-code-foreground, var(--jp-content-font-color1, white)));\n",
              "    --sklearn-color-background: var(--sg-background-color, var(--theme-background, var(--jp-layout-color0, #111)));\n",
              "    --sklearn-color-border-box: var(--sg-text-color, var(--theme-code-foreground, var(--jp-content-font-color1, white)));\n",
              "    --sklearn-color-icon: #878787;\n",
              "  }\n",
              "}\n",
              "\n",
              "#sk-container-id-1 {\n",
              "  color: var(--sklearn-color-text);\n",
              "}\n",
              "\n",
              "#sk-container-id-1 pre {\n",
              "  padding: 0;\n",
              "}\n",
              "\n",
              "#sk-container-id-1 input.sk-hidden--visually {\n",
              "  border: 0;\n",
              "  clip: rect(1px 1px 1px 1px);\n",
              "  clip: rect(1px, 1px, 1px, 1px);\n",
              "  height: 1px;\n",
              "  margin: -1px;\n",
              "  overflow: hidden;\n",
              "  padding: 0;\n",
              "  position: absolute;\n",
              "  width: 1px;\n",
              "}\n",
              "\n",
              "#sk-container-id-1 div.sk-dashed-wrapped {\n",
              "  border: 1px dashed var(--sklearn-color-line);\n",
              "  margin: 0 0.4em 0.5em 0.4em;\n",
              "  box-sizing: border-box;\n",
              "  padding-bottom: 0.4em;\n",
              "  background-color: var(--sklearn-color-background);\n",
              "}\n",
              "\n",
              "#sk-container-id-1 div.sk-container {\n",
              "  /* jupyter's `normalize.less` sets `[hidden] { display: none; }`\n",
              "     but bootstrap.min.css set `[hidden] { display: none !important; }`\n",
              "     so we also need the `!important` here to be able to override the\n",
              "     default hidden behavior on the sphinx rendered scikit-learn.org.\n",
              "     See: https://github.com/scikit-learn/scikit-learn/issues/21755 */\n",
              "  display: inline-block !important;\n",
              "  position: relative;\n",
              "}\n",
              "\n",
              "#sk-container-id-1 div.sk-text-repr-fallback {\n",
              "  display: none;\n",
              "}\n",
              "\n",
              "div.sk-parallel-item,\n",
              "div.sk-serial,\n",
              "div.sk-item {\n",
              "  /* draw centered vertical line to link estimators */\n",
              "  background-image: linear-gradient(var(--sklearn-color-text-on-default-background), var(--sklearn-color-text-on-default-background));\n",
              "  background-size: 2px 100%;\n",
              "  background-repeat: no-repeat;\n",
              "  background-position: center center;\n",
              "}\n",
              "\n",
              "/* Parallel-specific style estimator block */\n",
              "\n",
              "#sk-container-id-1 div.sk-parallel-item::after {\n",
              "  content: \"\";\n",
              "  width: 100%;\n",
              "  border-bottom: 2px solid var(--sklearn-color-text-on-default-background);\n",
              "  flex-grow: 1;\n",
              "}\n",
              "\n",
              "#sk-container-id-1 div.sk-parallel {\n",
              "  display: flex;\n",
              "  align-items: stretch;\n",
              "  justify-content: center;\n",
              "  background-color: var(--sklearn-color-background);\n",
              "  position: relative;\n",
              "}\n",
              "\n",
              "#sk-container-id-1 div.sk-parallel-item {\n",
              "  display: flex;\n",
              "  flex-direction: column;\n",
              "}\n",
              "\n",
              "#sk-container-id-1 div.sk-parallel-item:first-child::after {\n",
              "  align-self: flex-end;\n",
              "  width: 50%;\n",
              "}\n",
              "\n",
              "#sk-container-id-1 div.sk-parallel-item:last-child::after {\n",
              "  align-self: flex-start;\n",
              "  width: 50%;\n",
              "}\n",
              "\n",
              "#sk-container-id-1 div.sk-parallel-item:only-child::after {\n",
              "  width: 0;\n",
              "}\n",
              "\n",
              "/* Serial-specific style estimator block */\n",
              "\n",
              "#sk-container-id-1 div.sk-serial {\n",
              "  display: flex;\n",
              "  flex-direction: column;\n",
              "  align-items: center;\n",
              "  background-color: var(--sklearn-color-background);\n",
              "  padding-right: 1em;\n",
              "  padding-left: 1em;\n",
              "}\n",
              "\n",
              "\n",
              "/* Toggleable style: style used for estimator/Pipeline/ColumnTransformer box that is\n",
              "clickable and can be expanded/collapsed.\n",
              "- Pipeline and ColumnTransformer use this feature and define the default style\n",
              "- Estimators will overwrite some part of the style using the `sk-estimator` class\n",
              "*/\n",
              "\n",
              "/* Pipeline and ColumnTransformer style (default) */\n",
              "\n",
              "#sk-container-id-1 div.sk-toggleable {\n",
              "  /* Default theme specific background. It is overwritten whether we have a\n",
              "  specific estimator or a Pipeline/ColumnTransformer */\n",
              "  background-color: var(--sklearn-color-background);\n",
              "}\n",
              "\n",
              "/* Toggleable label */\n",
              "#sk-container-id-1 label.sk-toggleable__label {\n",
              "  cursor: pointer;\n",
              "  display: block;\n",
              "  width: 100%;\n",
              "  margin-bottom: 0;\n",
              "  padding: 0.5em;\n",
              "  box-sizing: border-box;\n",
              "  text-align: center;\n",
              "}\n",
              "\n",
              "#sk-container-id-1 label.sk-toggleable__label-arrow:before {\n",
              "  /* Arrow on the left of the label */\n",
              "  content: \"▸\";\n",
              "  float: left;\n",
              "  margin-right: 0.25em;\n",
              "  color: var(--sklearn-color-icon);\n",
              "}\n",
              "\n",
              "#sk-container-id-1 label.sk-toggleable__label-arrow:hover:before {\n",
              "  color: var(--sklearn-color-text);\n",
              "}\n",
              "\n",
              "/* Toggleable content - dropdown */\n",
              "\n",
              "#sk-container-id-1 div.sk-toggleable__content {\n",
              "  max-height: 0;\n",
              "  max-width: 0;\n",
              "  overflow: hidden;\n",
              "  text-align: left;\n",
              "  /* unfitted */\n",
              "  background-color: var(--sklearn-color-unfitted-level-0);\n",
              "}\n",
              "\n",
              "#sk-container-id-1 div.sk-toggleable__content.fitted {\n",
              "  /* fitted */\n",
              "  background-color: var(--sklearn-color-fitted-level-0);\n",
              "}\n",
              "\n",
              "#sk-container-id-1 div.sk-toggleable__content pre {\n",
              "  margin: 0.2em;\n",
              "  border-radius: 0.25em;\n",
              "  color: var(--sklearn-color-text);\n",
              "  /* unfitted */\n",
              "  background-color: var(--sklearn-color-unfitted-level-0);\n",
              "}\n",
              "\n",
              "#sk-container-id-1 div.sk-toggleable__content.fitted pre {\n",
              "  /* unfitted */\n",
              "  background-color: var(--sklearn-color-fitted-level-0);\n",
              "}\n",
              "\n",
              "#sk-container-id-1 input.sk-toggleable__control:checked~div.sk-toggleable__content {\n",
              "  /* Expand drop-down */\n",
              "  max-height: 200px;\n",
              "  max-width: 100%;\n",
              "  overflow: auto;\n",
              "}\n",
              "\n",
              "#sk-container-id-1 input.sk-toggleable__control:checked~label.sk-toggleable__label-arrow:before {\n",
              "  content: \"▾\";\n",
              "}\n",
              "\n",
              "/* Pipeline/ColumnTransformer-specific style */\n",
              "\n",
              "#sk-container-id-1 div.sk-label input.sk-toggleable__control:checked~label.sk-toggleable__label {\n",
              "  color: var(--sklearn-color-text);\n",
              "  background-color: var(--sklearn-color-unfitted-level-2);\n",
              "}\n",
              "\n",
              "#sk-container-id-1 div.sk-label.fitted input.sk-toggleable__control:checked~label.sk-toggleable__label {\n",
              "  background-color: var(--sklearn-color-fitted-level-2);\n",
              "}\n",
              "\n",
              "/* Estimator-specific style */\n",
              "\n",
              "/* Colorize estimator box */\n",
              "#sk-container-id-1 div.sk-estimator input.sk-toggleable__control:checked~label.sk-toggleable__label {\n",
              "  /* unfitted */\n",
              "  background-color: var(--sklearn-color-unfitted-level-2);\n",
              "}\n",
              "\n",
              "#sk-container-id-1 div.sk-estimator.fitted input.sk-toggleable__control:checked~label.sk-toggleable__label {\n",
              "  /* fitted */\n",
              "  background-color: var(--sklearn-color-fitted-level-2);\n",
              "}\n",
              "\n",
              "#sk-container-id-1 div.sk-label label.sk-toggleable__label,\n",
              "#sk-container-id-1 div.sk-label label {\n",
              "  /* The background is the default theme color */\n",
              "  color: var(--sklearn-color-text-on-default-background);\n",
              "}\n",
              "\n",
              "/* On hover, darken the color of the background */\n",
              "#sk-container-id-1 div.sk-label:hover label.sk-toggleable__label {\n",
              "  color: var(--sklearn-color-text);\n",
              "  background-color: var(--sklearn-color-unfitted-level-2);\n",
              "}\n",
              "\n",
              "/* Label box, darken color on hover, fitted */\n",
              "#sk-container-id-1 div.sk-label.fitted:hover label.sk-toggleable__label.fitted {\n",
              "  color: var(--sklearn-color-text);\n",
              "  background-color: var(--sklearn-color-fitted-level-2);\n",
              "}\n",
              "\n",
              "/* Estimator label */\n",
              "\n",
              "#sk-container-id-1 div.sk-label label {\n",
              "  font-family: monospace;\n",
              "  font-weight: bold;\n",
              "  display: inline-block;\n",
              "  line-height: 1.2em;\n",
              "}\n",
              "\n",
              "#sk-container-id-1 div.sk-label-container {\n",
              "  text-align: center;\n",
              "}\n",
              "\n",
              "/* Estimator-specific */\n",
              "#sk-container-id-1 div.sk-estimator {\n",
              "  font-family: monospace;\n",
              "  border: 1px dotted var(--sklearn-color-border-box);\n",
              "  border-radius: 0.25em;\n",
              "  box-sizing: border-box;\n",
              "  margin-bottom: 0.5em;\n",
              "  /* unfitted */\n",
              "  background-color: var(--sklearn-color-unfitted-level-0);\n",
              "}\n",
              "\n",
              "#sk-container-id-1 div.sk-estimator.fitted {\n",
              "  /* fitted */\n",
              "  background-color: var(--sklearn-color-fitted-level-0);\n",
              "}\n",
              "\n",
              "/* on hover */\n",
              "#sk-container-id-1 div.sk-estimator:hover {\n",
              "  /* unfitted */\n",
              "  background-color: var(--sklearn-color-unfitted-level-2);\n",
              "}\n",
              "\n",
              "#sk-container-id-1 div.sk-estimator.fitted:hover {\n",
              "  /* fitted */\n",
              "  background-color: var(--sklearn-color-fitted-level-2);\n",
              "}\n",
              "\n",
              "/* Specification for estimator info (e.g. \"i\" and \"?\") */\n",
              "\n",
              "/* Common style for \"i\" and \"?\" */\n",
              "\n",
              ".sk-estimator-doc-link,\n",
              "a:link.sk-estimator-doc-link,\n",
              "a:visited.sk-estimator-doc-link {\n",
              "  float: right;\n",
              "  font-size: smaller;\n",
              "  line-height: 1em;\n",
              "  font-family: monospace;\n",
              "  background-color: var(--sklearn-color-background);\n",
              "  border-radius: 1em;\n",
              "  height: 1em;\n",
              "  width: 1em;\n",
              "  text-decoration: none !important;\n",
              "  margin-left: 1ex;\n",
              "  /* unfitted */\n",
              "  border: var(--sklearn-color-unfitted-level-1) 1pt solid;\n",
              "  color: var(--sklearn-color-unfitted-level-1);\n",
              "}\n",
              "\n",
              ".sk-estimator-doc-link.fitted,\n",
              "a:link.sk-estimator-doc-link.fitted,\n",
              "a:visited.sk-estimator-doc-link.fitted {\n",
              "  /* fitted */\n",
              "  border: var(--sklearn-color-fitted-level-1) 1pt solid;\n",
              "  color: var(--sklearn-color-fitted-level-1);\n",
              "}\n",
              "\n",
              "/* On hover */\n",
              "div.sk-estimator:hover .sk-estimator-doc-link:hover,\n",
              ".sk-estimator-doc-link:hover,\n",
              "div.sk-label-container:hover .sk-estimator-doc-link:hover,\n",
              ".sk-estimator-doc-link:hover {\n",
              "  /* unfitted */\n",
              "  background-color: var(--sklearn-color-unfitted-level-3);\n",
              "  color: var(--sklearn-color-background);\n",
              "  text-decoration: none;\n",
              "}\n",
              "\n",
              "div.sk-estimator.fitted:hover .sk-estimator-doc-link.fitted:hover,\n",
              ".sk-estimator-doc-link.fitted:hover,\n",
              "div.sk-label-container:hover .sk-estimator-doc-link.fitted:hover,\n",
              ".sk-estimator-doc-link.fitted:hover {\n",
              "  /* fitted */\n",
              "  background-color: var(--sklearn-color-fitted-level-3);\n",
              "  color: var(--sklearn-color-background);\n",
              "  text-decoration: none;\n",
              "}\n",
              "\n",
              "/* Span, style for the box shown on hovering the info icon */\n",
              ".sk-estimator-doc-link span {\n",
              "  display: none;\n",
              "  z-index: 9999;\n",
              "  position: relative;\n",
              "  font-weight: normal;\n",
              "  right: .2ex;\n",
              "  padding: .5ex;\n",
              "  margin: .5ex;\n",
              "  width: min-content;\n",
              "  min-width: 20ex;\n",
              "  max-width: 50ex;\n",
              "  color: var(--sklearn-color-text);\n",
              "  box-shadow: 2pt 2pt 4pt #999;\n",
              "  /* unfitted */\n",
              "  background: var(--sklearn-color-unfitted-level-0);\n",
              "  border: .5pt solid var(--sklearn-color-unfitted-level-3);\n",
              "}\n",
              "\n",
              ".sk-estimator-doc-link.fitted span {\n",
              "  /* fitted */\n",
              "  background: var(--sklearn-color-fitted-level-0);\n",
              "  border: var(--sklearn-color-fitted-level-3);\n",
              "}\n",
              "\n",
              ".sk-estimator-doc-link:hover span {\n",
              "  display: block;\n",
              "}\n",
              "\n",
              "/* \"?\"-specific style due to the `<a>` HTML tag */\n",
              "\n",
              "#sk-container-id-1 a.estimator_doc_link {\n",
              "  float: right;\n",
              "  font-size: 1rem;\n",
              "  line-height: 1em;\n",
              "  font-family: monospace;\n",
              "  background-color: var(--sklearn-color-background);\n",
              "  border-radius: 1rem;\n",
              "  height: 1rem;\n",
              "  width: 1rem;\n",
              "  text-decoration: none;\n",
              "  /* unfitted */\n",
              "  color: var(--sklearn-color-unfitted-level-1);\n",
              "  border: var(--sklearn-color-unfitted-level-1) 1pt solid;\n",
              "}\n",
              "\n",
              "#sk-container-id-1 a.estimator_doc_link.fitted {\n",
              "  /* fitted */\n",
              "  border: var(--sklearn-color-fitted-level-1) 1pt solid;\n",
              "  color: var(--sklearn-color-fitted-level-1);\n",
              "}\n",
              "\n",
              "/* On hover */\n",
              "#sk-container-id-1 a.estimator_doc_link:hover {\n",
              "  /* unfitted */\n",
              "  background-color: var(--sklearn-color-unfitted-level-3);\n",
              "  color: var(--sklearn-color-background);\n",
              "  text-decoration: none;\n",
              "}\n",
              "\n",
              "#sk-container-id-1 a.estimator_doc_link.fitted:hover {\n",
              "  /* fitted */\n",
              "  background-color: var(--sklearn-color-fitted-level-3);\n",
              "}\n",
              "</style><div id=\"sk-container-id-1\" class=\"sk-top-container\"><div class=\"sk-text-repr-fallback\"><pre>GradientBoostingRegressor(random_state=42)</pre><b>In a Jupyter environment, please rerun this cell to show the HTML representation or trust the notebook. <br />On GitHub, the HTML representation is unable to render, please try loading this page with nbviewer.org.</b></div><div class=\"sk-container\" hidden><div class=\"sk-item\"><div class=\"sk-estimator fitted sk-toggleable\"><input class=\"sk-toggleable__control sk-hidden--visually\" id=\"sk-estimator-id-1\" type=\"checkbox\" checked><label for=\"sk-estimator-id-1\" class=\"sk-toggleable__label fitted sk-toggleable__label-arrow fitted\">&nbsp;&nbsp;GradientBoostingRegressor<a class=\"sk-estimator-doc-link fitted\" rel=\"noreferrer\" target=\"_blank\" href=\"https://scikit-learn.org/1.5/modules/generated/sklearn.ensemble.GradientBoostingRegressor.html\">?<span>Documentation for GradientBoostingRegressor</span></a><span class=\"sk-estimator-doc-link fitted\">i<span>Fitted</span></span></label><div class=\"sk-toggleable__content fitted\"><pre>GradientBoostingRegressor(random_state=42)</pre></div> </div></div></div></div>"
            ],
            "text/plain": [
              "GradientBoostingRegressor(random_state=42)"
            ]
          },
          "execution_count": 72,
          "metadata": {},
          "output_type": "execute_result"
        }
      ],
      "source": [
        "# Membangun model untuk Januari\n",
        "gb_model_jan = GradientBoostingRegressor(random_state=42)\n",
        "gb_model_jan.fit(X_train_jan, y_train_jan)\n",
        "\n",
        "# Membangun model untuk Februari\n",
        "gb_model_feb = GradientBoostingRegressor(random_state=42)\n",
        "gb_model_feb.fit(X_train_feb, y_train_feb)"
      ]
    },
    {
      "cell_type": "code",
      "execution_count": 73,
      "metadata": {
        "colab": {
          "base_uri": "https://localhost:8080/"
        },
        "id": "dimVMu2W3g3g",
        "outputId": "5fb01ba8-5aa0-4fe9-af98-07f816d8f53d"
      },
      "outputs": [
        {
          "name": "stdout",
          "output_type": "stream",
          "text": [
            "Results for January:\n",
            "RMSE: 14.173101949921014\n",
            "R-squared: 0.23520430695546835\n",
            "Results for February:\n",
            "RMSE: 14.963927216776664\n",
            "R-squared: 0.24491816075591488\n"
          ]
        },
        {
          "name": "stderr",
          "output_type": "stream",
          "text": [
            "/usr/local/lib/python3.10/dist-packages/sklearn/metrics/_regression.py:492: FutureWarning: 'squared' is deprecated in version 1.4 and will be removed in 1.6. To calculate the root mean squared error, use the function'root_mean_squared_error'.\n",
            "  warnings.warn(\n",
            "/usr/local/lib/python3.10/dist-packages/sklearn/metrics/_regression.py:492: FutureWarning: 'squared' is deprecated in version 1.4 and will be removed in 1.6. To calculate the root mean squared error, use the function'root_mean_squared_error'.\n",
            "  warnings.warn(\n"
          ]
        }
      ],
      "source": [
        "# Prediksi untuk Januari\n",
        "y_pred_jan = gb_model_jan.predict(X_test_jan)\n",
        "rmse_jan = mean_squared_error(y_test_jan, y_pred_jan, squared=False)\n",
        "r_squared_jan = r2_score(y_test_jan, y_pred_jan)\n",
        "\n",
        "# Prediksi untuk Februari\n",
        "y_pred_feb = gb_model_feb.predict(X_test_feb)\n",
        "rmse_feb = mean_squared_error(y_test_feb, y_pred_feb, squared=False)\n",
        "r_squared_feb = r2_score(y_test_feb, y_pred_feb)\n",
        "\n",
        "print(f\"Results for January:\\nRMSE: {rmse_jan}\\nR-squared: {r_squared_jan}\")\n",
        "print(f\"Results for February:\\nRMSE: {rmse_feb}\\nR-squared: {r_squared_feb}\")"
      ]
    },
    {
      "cell_type": "markdown",
      "metadata": {
        "id": "n_kZQUmpRhFj"
      },
      "source": [
        "## (3). Hyperparameter tuning untuk model Gradient Boosting"
      ]
    },
    {
      "cell_type": "code",
      "execution_count": 74,
      "metadata": {
        "colab": {
          "base_uri": "https://localhost:8080/"
        },
        "id": "NoL7iHG8R1pS",
        "outputId": "59e70187-ae56-4e64-9ba9-1421950a9714"
      },
      "outputs": [
        {
          "name": "stdout",
          "output_type": "stream",
          "text": [
            "Best parameters: {'n_estimators': 50, 'max_depth': 3, 'learning_rate': 0.1}\n",
            "Best RMSE: 14.454616312288083\n"
          ]
        }
      ],
      "source": [
        "from sklearn.ensemble import GradientBoostingRegressor\n",
        "from sklearn.model_selection import RandomizedSearchCV\n",
        "\n",
        "# Menentukan fitur dan target\n",
        "features = [\n",
        "    'subtotal', 'order_hour', 'min_item_price', 'max_item_price',\n",
        "    'total_onshift_partners', 'total_busy_partners',\n",
        "    'total_outstanding_orders', 'num_distinct_items',\n",
        "    'order_protocol', 'order_day_of_week',\n",
        "    'market_1.0', 'market_2.0', 'market_3.0',\n",
        "    'market_4.0', 'market_5.0', 'market_6.0'\n",
        "]\n",
        "\n",
        "# 1. Siapkan data\n",
        "X_january = df_january[features]\n",
        "y_january = df_january['delivery_duration']\n",
        "\n",
        "# 2. Definisikan model\n",
        "model = GradientBoostingRegressor()\n",
        "\n",
        "# 3. Definisikan parameter distribusi\n",
        "param_dist = {\n",
        "    'n_estimators': [50, 100, 200],\n",
        "    'learning_rate': [0.01, 0.1, 0.2],\n",
        "    'max_depth': [3, 5, 7],\n",
        "}\n",
        "\n",
        "# Menggunakan subset dari data\n",
        "df_january_sample = df_january.sample(frac=0.1, random_state=42)  # Menggunakan 10% dari data\n",
        "X_january = df_january_sample[features]\n",
        "y_january = df_january_sample['delivery_duration']\n",
        "\n",
        "# Lanjutkan dengan model dan pencarian parameter\n",
        "random_search = RandomizedSearchCV(\n",
        "    estimator=model,\n",
        "    param_distributions=param_dist,\n",
        "    n_iter=5,  # Kurangi jumlah iterasi\n",
        "    scoring='neg_root_mean_squared_error',\n",
        "    cv=2,  # Kurangi jumlah K-Folds\n",
        "    n_jobs=-1,\n",
        "    random_state=42\n",
        ")\n",
        "\n",
        "# Fit model pada data yang sudah diambil sample\n",
        "random_search.fit(X_january, y_january)\n",
        "\n",
        "# Ambil hasil terbaik\n",
        "best_params = random_search.best_params_\n",
        "best_score = -random_search.best_score_  # Mengubah kembali dari negatif\n",
        "print(f\"Best parameters: {best_params}\")\n",
        "print(f\"Best RMSE: {best_score}\")\n",
        "\n"
      ]
    },
    {
      "cell_type": "code",
      "execution_count": 75,
      "metadata": {
        "colab": {
          "base_uri": "https://localhost:8080/"
        },
        "id": "spZpjCREysP-",
        "outputId": "57080175-94cf-4747-fc03-be8c50d9a448"
      },
      "outputs": [
        {
          "name": "stdout",
          "output_type": "stream",
          "text": [
            "February Results:\n",
            "RMSE: 16.107548988107094\n",
            "R-squared: 0.12363614505218978\n"
          ]
        },
        {
          "name": "stderr",
          "output_type": "stream",
          "text": [
            "/usr/local/lib/python3.10/dist-packages/sklearn/metrics/_regression.py:492: FutureWarning: 'squared' is deprecated in version 1.4 and will be removed in 1.6. To calculate the root mean squared error, use the function'root_mean_squared_error'.\n",
            "  warnings.warn(\n"
          ]
        }
      ],
      "source": [
        "# Inisialisasi model dengan parameter terbaik\n",
        "best_model = GradientBoostingRegressor(\n",
        "    n_estimators=50,\n",
        "    max_depth=3,\n",
        "    learning_rate=0.1,\n",
        "    random_state=42\n",
        ")\n",
        "\n",
        "# Fit model pada data Januari\n",
        "best_model.fit(X_january, y_january)\n",
        "\n",
        "# Evaluasi pada data Februari\n",
        "X_february = df_february[features]\n",
        "y_february = df_february['delivery_duration']\n",
        "y_pred_february = best_model.predict(X_february)\n",
        "\n",
        "# Hitung RMSE dan R-squared untuk Februari\n",
        "rmse_february = mean_squared_error(y_february, y_pred_february, squared=False)\n",
        "r_squared_february = r2_score(y_february, y_pred_february)\n",
        "\n",
        "print(f\"February Results:\\nRMSE: {rmse_february}\\nR-squared: {r_squared_february}\")"
      ]
    },
    {
      "cell_type": "markdown",
      "metadata": {
        "id": "yRxJi9kKaqF1"
      },
      "source": [
        "## (4). Evaluasi fitur"
      ]
    },
    {
      "cell_type": "code",
      "execution_count": 76,
      "metadata": {
        "id": "OhXFdphsbANg"
      },
      "outputs": [],
      "source": [
        "from sklearn.ensemble import GradientBoostingRegressor\n",
        "from sklearn.model_selection import GridSearchCV\n",
        "\n",
        "# Misalnya, Anda sudah memiliki X_january dan y_january\n",
        "model = GradientBoostingRegressor()\n",
        "\n",
        "# Lakukan pencarian grid jika diperlukan\n",
        "param_grid = {\n",
        "    'n_estimators': [50, 100],\n",
        "    'max_depth': [3, 5],\n",
        "    'learning_rate': [0.01, 0.1]\n",
        "}\n",
        "\n",
        "grid_search = GridSearchCV(model, param_grid, scoring='neg_mean_squared_error', cv=5)\n",
        "grid_search.fit(X_january, y_january)\n",
        "\n",
        "# Ambil model terbaik\n",
        "best_model = grid_search.best_estimator_"
      ]
    },
    {
      "cell_type": "code",
      "execution_count": null,
      "metadata": {
        "colab": {
          "base_uri": "https://localhost:8080/",
          "height": 874
        },
        "id": "j2e8b8tL4ZSV",
        "outputId": "dc8b2219-9899-448b-e324-24f9d7220455"
      },
      "outputs": [
        {
          "name": "stdout",
          "output_type": "stream",
          "text": [
            "Feature ranking:\n",
            "1. total_outstanding_orders (0.2227526827730128)\n",
            "2. order_hour (0.1817527725733445)\n",
            "3. subtotal (0.1808822918206432)\n",
            "4. total_onshift_partners (0.16624379742160492)\n",
            "5. order_day_of_week (0.10708963191574133)\n",
            "6. order_protocol (0.03400846536982743)\n",
            "7. max_item_price (0.02402756603158231)\n",
            "8. total_busy_partners (0.023091621840239156)\n",
            "9. market_1.0 (0.0211919851731018)\n",
            "10. min_item_price (0.016340580754987434)\n",
            "11. num_distinct_items (0.011789146989886378)\n",
            "12. market_3.0 (0.0032838486110918176)\n",
            "13. market_2.0 (0.0029868918281825514)\n",
            "14. market_4.0 (0.0025577387316255045)\n",
            "15. market_5.0 (0.0020009781651289665)\n",
            "16. market_6.0 (0.0)\n"
          ]
        },
        {
          "data": {
            "image/png": "[encoded data removed]",
            "text/plain": [
              "<Figure size 1000x600 with 1 Axes>"
            ]
          },
          "metadata": {},
          "output_type": "display_data"
        }
      ],
      "source": [
        "# Dapatkan feature importances dari model terbaik\n",
        "importances = best_model.feature_importances_\n",
        "indices = np.argsort(importances)[::-1]\n",
        "\n",
        "# Tampilkan fitur yang paling penting\n",
        "print(\"Feature ranking:\")\n",
        "for f in range(len(features)):\n",
        "    print(f\"{f + 1}. {features[indices[f]]} ({importances[indices[f]]})\")\n",
        "\n",
        "# Buat DataFrame untuk visualisasi\n",
        "importance_df = pd.DataFrame({\n",
        "    'Feature': features,\n",
        "    'Importance': importances\n",
        "}).sort_values(by='Importance', ascending=False)\n",
        "\n",
        "# Visualisasi\n",
        "import matplotlib.pyplot as plt\n",
        "plt.figure(figsize=(10, 6))\n",
        "plt.barh(importance_df['Feature'], importance_df['Importance'])\n",
        "plt.xlabel('Importance')\n",
        "plt.title('Feature Importance')\n",
        "plt.show()"
      ]
    },
    {
      "cell_type": "code",
      "execution_count": null,
      "metadata": {
        "colab": {
          "base_uri": "https://localhost:8080/"
        },
        "id": "y9q2LFnycoga",
        "outputId": "903a9a68-d6de-49c3-e600-16b652a91915"
      },
      "outputs": [
        {
          "name": "stderr",
          "output_type": "stream",
          "text": [
            "/usr/local/lib/python3.10/dist-packages/sklearn/metrics/_regression.py:492: FutureWarning: 'squared' is deprecated in version 1.4 and will be removed in 1.6. To calculate the root mean squared error, use the function'root_mean_squared_error'.\n",
            "  warnings.warn(\n"
          ]
        },
        {
          "name": "stdout",
          "output_type": "stream",
          "text": [
            "Results for January (Reduced Features):\n",
            "RMSE: 13.942175732876985\n",
            "R-squared: 0.24974837428046937\n",
            "Results for February (Reduced Features):\n",
            "RMSE: 16.079708842146754\n",
            "R-squared: 0.12666292621243436\n"
          ]
        },
        {
          "name": "stderr",
          "output_type": "stream",
          "text": [
            "/usr/local/lib/python3.10/dist-packages/sklearn/metrics/_regression.py:492: FutureWarning: 'squared' is deprecated in version 1.4 and will be removed in 1.6. To calculate the root mean squared error, use the function'root_mean_squared_error'.\n",
            "  warnings.warn(\n"
          ]
        }
      ],
      "source": [
        "# Tentukan fitur yang akan dihapus berdasarkan kontribusi rendah\n",
        "low_importance_features = ['market_2.0', 'market_3.0', 'market_4.0', 'market_5.0', 'market_6.0']\n",
        "remaining_features = [feature for feature in X_january.columns if feature not in low_importance_features]\n",
        "# Melatih ulang model dengan fitur yang tersisa\n",
        "X_january_reduced = X_january[remaining_features]\n",
        "X_february_reduced = X_february[remaining_features]\n",
        "\n",
        "# Fit model pada data January dengan fitur yang sudah direduksi\n",
        "model_reduced = GradientBoostingRegressor(n_estimators=50, max_depth=3, learning_rate=0.1)\n",
        "model_reduced.fit(X_january_reduced, y_january)\n",
        "\n",
        "# Evaluasi performa model pada data January\n",
        "y_pred_january_reduced = model_reduced.predict(X_january_reduced)\n",
        "rmse_jan_reduced = mean_squared_error(y_january, y_pred_january_reduced, squared=False)\n",
        "r_squared_jan_reduced = r2_score(y_january, y_pred_january_reduced)\n",
        "\n",
        "# Evaluasi performa model pada data February\n",
        "y_pred_february_reduced = model_reduced.predict(X_february_reduced)\n",
        "rmse_feb_reduced = mean_squared_error(y_february, y_pred_february_reduced, squared=False)\n",
        "r_squared_feb_reduced = r2_score(y_february, y_pred_february_reduced)\n",
        "\n",
        "# Tampilkan hasil evaluasi\n",
        "print(f\"Results for January (Reduced Features):\\nRMSE: {rmse_jan_reduced}\\nR-squared: {r_squared_jan_reduced}\")\n",
        "print(f\"Results for February (Reduced Features):\\nRMSE: {rmse_feb_reduced}\\nR-squared: {r_squared_feb_reduced}\")"
      ]
    },
    {
      "cell_type": "markdown",
      "metadata": {
        "id": "R2u1XKGGWZwL"
      },
      "source": [
        "## ( 5). LightGBM"
      ]
    },
    {
      "cell_type": "code",
      "execution_count": null,
      "metadata": {
        "colab": {
          "base_uri": "https://localhost:8080/"
        },
        "id": "QETla5Vry6iq",
        "outputId": "061b084b-15d5-4b38-acaf-108cf85a0124"
      },
      "outputs": [
        {
          "name": "stderr",
          "output_type": "stream",
          "text": [
            "/usr/local/lib/python3.10/dist-packages/dask/dataframe/__init__.py:42: FutureWarning: \n",
            "Dask dataframe query planning is disabled because dask-expr is not installed.\n",
            "\n",
            "You can install it with `pip install dask[dataframe]` or `conda install dask`.\n",
            "This will raise in a future version.\n",
            "\n",
            "  warnings.warn(msg, FutureWarning)\n"
          ]
        },
        {
          "name": "stdout",
          "output_type": "stream",
          "text": [
            "Results for January:\n",
            "RMSE: 13.640817371395602\n",
            "R-squared: 0.28770179915468597\n",
            "Results for February:\n",
            "RMSE: 15.714356799798868\n",
            "R-squared: 0.16589878306090222\n"
          ]
        },
        {
          "name": "stderr",
          "output_type": "stream",
          "text": [
            "/usr/local/lib/python3.10/dist-packages/sklearn/metrics/_regression.py:492: FutureWarning: 'squared' is deprecated in version 1.4 and will be removed in 1.6. To calculate the root mean squared error, use the function'root_mean_squared_error'.\n",
            "  warnings.warn(\n",
            "/usr/local/lib/python3.10/dist-packages/sklearn/metrics/_regression.py:492: FutureWarning: 'squared' is deprecated in version 1.4 and will be removed in 1.6. To calculate the root mean squared error, use the function'root_mean_squared_error'.\n",
            "  warnings.warn(\n"
          ]
        }
      ],
      "source": [
        "import lightgbm as lgb\n",
        "from sklearn.metrics import mean_squared_error, r2_score\n",
        "\n",
        "# Definisikan fitur yang akan digunakan\n",
        "reduced_features = [\n",
        "    'total_outstanding_orders',\n",
        "    'order_hour',\n",
        "    'subtotal',\n",
        "    'total_onshift_partners',\n",
        "    'order_day_of_week'\n",
        "]\n",
        "\n",
        "# Persiapkan fitur dan target untuk January\n",
        "X_january = df_january[reduced_features]\n",
        "y_january = df_january['delivery_duration']\n",
        "\n",
        "# Persiapkan fitur dan target untuk February\n",
        "X_february = df_february[reduced_features]\n",
        "y_february = df_february['delivery_duration']\n",
        "\n",
        "# Buat dataset LightGBM\n",
        "train_data = lgb.Dataset(X_january, label=y_january)\n",
        "\n",
        "# Set parameters\n",
        "params = {\n",
        "    'objective': 'regression',\n",
        "    'metric': 'rmse',\n",
        "    'boosting_type': 'gbdt',\n",
        "    'learning_rate': 0.1,\n",
        "    'num_leaves': 31,\n",
        "    'verbose': -1\n",
        "}\n",
        "\n",
        "# Fit model\n",
        "lgb_model = lgb.train(params, train_data, num_boost_round=100)\n",
        "\n",
        "# Prediksi\n",
        "y_pred_january = lgb_model.predict(X_january)\n",
        "y_pred_february = lgb_model.predict(X_february)\n",
        "\n",
        "# Evaluasi\n",
        "rmse_jan = mean_squared_error(y_january, y_pred_january, squared=False)\n",
        "r_squared_jan = r2_score(y_january, y_pred_january)\n",
        "\n",
        "rmse_feb = mean_squared_error(y_february, y_pred_february, squared=False)\n",
        "r_squared_feb = r2_score(y_february, y_pred_february)\n",
        "\n",
        "print(f\"Results for January:\\nRMSE: {rmse_jan}\\nR-squared: {r_squared_jan}\")\n",
        "print(f\"Results for February:\\nRMSE: {rmse_feb}\\nR-squared: {r_squared_feb}\")"
      ]
    },
    {
      "cell_type": "markdown",
      "metadata": {
        "id": "LWzgU7GG4_T-"
      },
      "source": [
        "## (6). Linear Regression"
      ]
    },
    {
      "cell_type": "code",
      "execution_count": null,
      "metadata": {
        "colab": {
          "base_uri": "https://localhost:8080/"
        },
        "id": "n40yS71845L0",
        "outputId": "ad5d36ce-44c5-4ee7-ca28-c0a3fb30f51a"
      },
      "outputs": [
        {
          "name": "stderr",
          "output_type": "stream",
          "text": [
            "/usr/local/lib/python3.10/dist-packages/sklearn/metrics/_regression.py:492: FutureWarning: 'squared' is deprecated in version 1.4 and will be removed in 1.6. To calculate the root mean squared error, use the function'root_mean_squared_error'.\n",
            "  warnings.warn(\n"
          ]
        },
        {
          "name": "stdout",
          "output_type": "stream",
          "text": [
            "Results for January:\n",
            "RMSE: 14.63211232751793\n",
            "R-squared: 0.18486476888632675\n",
            "Results for February:\n",
            "RMSE: 15.49310199079351\n",
            "R-squared: 0.19056941531704918\n"
          ]
        },
        {
          "name": "stderr",
          "output_type": "stream",
          "text": [
            "/usr/local/lib/python3.10/dist-packages/sklearn/metrics/_regression.py:492: FutureWarning: 'squared' is deprecated in version 1.4 and will be removed in 1.6. To calculate the root mean squared error, use the function'root_mean_squared_error'.\n",
            "  warnings.warn(\n"
          ]
        }
      ],
      "source": [
        "from sklearn.linear_model import LinearRegression\n",
        "from sklearn.metrics import mean_squared_error, r2_score\n",
        "from sklearn.model_selection import train_test_split\n",
        "\n",
        "# Fitur yang akan digunakan\n",
        "features = [\n",
        "    'subtotal',\n",
        "    'order_hour',\n",
        "    'min_item_price',\n",
        "    'max_item_price',\n",
        "    'total_onshift_partners',\n",
        "    'total_busy_partners',\n",
        "    'total_outstanding_orders',\n",
        "    'num_distinct_items',\n",
        "    'order_protocol',\n",
        "    'order_day_of_week',\n",
        "    'market_1.0',\n",
        "    'market_2.0',\n",
        "    'market_3.0',\n",
        "    'market_4.0',\n",
        "    'market_5.0',\n",
        "    'market_6.0'\n",
        "]\n",
        "\n",
        "# Persiapkan fitur dan target untuk January\n",
        "X_january = df_january[features]\n",
        "y_january = df_january['delivery_duration']\n",
        "\n",
        "# Pisahkan data menjadi set pelatihan dan pengujian\n",
        "X_train_jan, X_test_jan, y_train_jan, y_test_jan = train_test_split(X_january, y_january, test_size=0.2, random_state=42)\n",
        "\n",
        "# Fit model Linear Regression\n",
        "linear_model_jan = LinearRegression()\n",
        "linear_model_jan.fit(X_train_jan, y_train_jan)\n",
        "\n",
        "# Prediksi dan evaluasi untuk January\n",
        "y_pred_jan = linear_model_jan.predict(X_test_jan)\n",
        "rmse_jan = mean_squared_error(y_test_jan, y_pred_jan, squared=False)\n",
        "r_squared_jan = r2_score(y_test_jan, y_pred_jan)\n",
        "\n",
        "# Tampilkan hasil\n",
        "print(f\"Results for January:\\nRMSE: {rmse_jan}\\nR-squared: {r_squared_jan}\")\n",
        "\n",
        "# Persiapkan fitur dan target untuk February\n",
        "X_february = df_february[features]\n",
        "y_february = df_february['delivery_duration']\n",
        "\n",
        "# Pisahkan data untuk February\n",
        "X_train_feb, X_test_feb, y_train_feb, y_test_feb = train_test_split(X_february, y_february, test_size=0.2, random_state=42)\n",
        "\n",
        "# Fit model Linear Regression untuk February\n",
        "linear_model_feb = LinearRegression()\n",
        "linear_model_feb.fit(X_train_feb, y_train_feb)\n",
        "\n",
        "# Prediksi dan evaluasi untuk February\n",
        "y_pred_feb = linear_model_feb.predict(X_test_feb)\n",
        "rmse_feb = mean_squared_error(y_test_feb, y_pred_feb, squared=False)\n",
        "r_squared_feb = r2_score(y_test_feb, y_pred_feb)\n",
        "\n",
        "# Tampilkan hasil\n",
        "print(f\"Results for February:\\nRMSE: {rmse_feb}\\nR-squared: {r_squared_feb}\")"
      ]
    },
    {
      "cell_type": "markdown",
      "metadata": {
        "id": "ouuPlIlggvUn"
      },
      "source": [
        "## (7). Ridge"
      ]
    },
    {
      "cell_type": "code",
      "execution_count": null,
      "metadata": {
        "colab": {
          "base_uri": "https://localhost:8080/"
        },
        "id": "Y37rivafVqqa",
        "outputId": "d368f405-a794-4677-8fa2-a2354d390a13"
      },
      "outputs": [
        {
          "name": "stderr",
          "output_type": "stream",
          "text": [
            "/usr/local/lib/python3.10/dist-packages/sklearn/metrics/_regression.py:492: FutureWarning: 'squared' is deprecated in version 1.4 and will be removed in 1.6. To calculate the root mean squared error, use the function'root_mean_squared_error'.\n",
            "  warnings.warn(\n"
          ]
        },
        {
          "name": "stdout",
          "output_type": "stream",
          "text": [
            "Results for January:\n",
            "RMSE: 14.538973224349794\n",
            "R-squared: 0.19081368018727363\n",
            "Results for February:\n",
            "RMSE: 15.424690072945513\n",
            "R-squared: 0.19636576692555607\n"
          ]
        },
        {
          "name": "stderr",
          "output_type": "stream",
          "text": [
            "/usr/local/lib/python3.10/dist-packages/sklearn/metrics/_regression.py:492: FutureWarning: 'squared' is deprecated in version 1.4 and will be removed in 1.6. To calculate the root mean squared error, use the function'root_mean_squared_error'.\n",
            "  warnings.warn(\n"
          ]
        }
      ],
      "source": [
        "from sklearn.linear_model import Ridge\n",
        "from sklearn.metrics import mean_squared_error, r2_score\n",
        "\n",
        "# Fitur yang akan digunakan\n",
        "features = ['subtotal', 'order_hour', 'min_item_price', 'max_item_price',\n",
        "            'total_onshift_partners', 'total_busy_partners', 'total_outstanding_orders',\n",
        "            'num_distinct_items', 'order_protocol', 'order_day_of_week',\n",
        "            'market_1.0', 'market_2.0', 'market_3.0', 'market_4.0',\n",
        "            'market_5.0', 'market_6.0']\n",
        "\n",
        "# Persiapkan fitur dan target untuk January\n",
        "X_january = df_january[features]\n",
        "y_january = df_january['delivery_duration']\n",
        "\n",
        "# Persiapkan fitur dan target untuk February\n",
        "X_february = df_february[features]\n",
        "y_february = df_february['delivery_duration']\n",
        "\n",
        "# Inisialisasi model Ridge Regression\n",
        "ridge_model = Ridge()\n",
        "\n",
        "# Fit model pada data January\n",
        "ridge_model.fit(X_january, y_january)\n",
        "\n",
        "# Prediksi pada data January\n",
        "y_pred_january = ridge_model.predict(X_january)\n",
        "\n",
        "# Evaluasi model untuk January\n",
        "rmse_january = mean_squared_error(y_january, y_pred_january, squared=False)\n",
        "r_squared_january = r2_score(y_january, y_pred_january)\n",
        "\n",
        "# Fit model pada data February\n",
        "ridge_model.fit(X_february, y_february)\n",
        "\n",
        "# Prediksi pada data February\n",
        "y_pred_february = ridge_model.predict(X_february)\n",
        "\n",
        "# Evaluasi model untuk February\n",
        "rmse_february = mean_squared_error(y_february, y_pred_february, squared=False)\n",
        "r_squared_february = r2_score(y_february, y_pred_february)\n",
        "\n",
        "# Tampilkan hasil\n",
        "print(f\"Results for January:\\nRMSE: {rmse_january}\\nR-squared: {r_squared_january}\")\n",
        "print(f\"Results for February:\\nRMSE: {rmse_february}\\nR-squared: {r_squared_february}\")"
      ]
    },
    {
      "cell_type": "markdown",
      "metadata": {
        "id": "mH_NHyMSazSA"
      },
      "source": [
        "## (8). Lasso"
      ]
    },
    {
      "cell_type": "code",
      "execution_count": null,
      "metadata": {
        "colab": {
          "base_uri": "https://localhost:8080/"
        },
        "id": "I378XQ8xcxsG",
        "outputId": "78315685-b5c5-46c0-d139-dd0cf565ffab"
      },
      "outputs": [
        {
          "name": "stderr",
          "output_type": "stream",
          "text": [
            "/usr/local/lib/python3.10/dist-packages/sklearn/metrics/_regression.py:492: FutureWarning: 'squared' is deprecated in version 1.4 and will be removed in 1.6. To calculate the root mean squared error, use the function'root_mean_squared_error'.\n",
            "  warnings.warn(\n",
            "/usr/local/lib/python3.10/dist-packages/sklearn/metrics/_regression.py:492: FutureWarning: 'squared' is deprecated in version 1.4 and will be removed in 1.6. To calculate the root mean squared error, use the function'root_mean_squared_error'.\n",
            "  warnings.warn(\n"
          ]
        },
        {
          "data": {
            "text/plain": [
              "(14.59607729948826,\n",
              " 0.18444478742988357,\n",
              " 15.61122239127383,\n",
              " 0.17681138282788578)"
            ]
          },
          "execution_count": 85,
          "metadata": {},
          "output_type": "execute_result"
        }
      ],
      "source": [
        "from sklearn.linear_model import Lasso\n",
        "from sklearn.metrics import mean_squared_error, r2_score\n",
        "\n",
        "# Fitur yang akan digunakan\n",
        "features = ['subtotal', 'order_hour', 'min_item_price', 'max_item_price',\n",
        "            'total_onshift_partners', 'total_busy_partners',\n",
        "            'total_outstanding_orders', 'num_distinct_items',\n",
        "            'order_protocol', 'order_day_of_week',\n",
        "            'market_1.0', 'market_2.0',\n",
        "            'market_3.0', 'market_4.0',\n",
        "            'market_5.0', 'market_6.0']\n",
        "\n",
        "# Fungsi untuk melatih dan mengevaluasi model Lasso\n",
        "def evaluate_lasso_model(df, features):\n",
        "    X = df[features]\n",
        "    y = df['delivery_duration']\n",
        "\n",
        "    lasso = Lasso(alpha=1.0)\n",
        "    lasso.fit(X, y)\n",
        "\n",
        "    y_pred = lasso.predict(X)\n",
        "    rmse = mean_squared_error(y, y_pred, squared=False)\n",
        "    r_squared = r2_score(y, y_pred)\n",
        "\n",
        "    return rmse, r_squared\n",
        "\n",
        "# Evaluasi untuk bulan Januari dan Februari\n",
        "rmse_jan_lasso, r_squared_jan_lasso = evaluate_lasso_model(df_january, features)\n",
        "rmse_feb_lasso, r_squared_feb_lasso = evaluate_lasso_model(df_february, features)\n",
        "\n",
        "rmse_jan_lasso, r_squared_jan_lasso, rmse_feb_lasso, r_squared_feb_lasso"
      ]
    },
    {
      "cell_type": "markdown",
      "metadata": {
        "id": "IDSrecVtiu_l"
      },
      "source": [
        "## (9).DecisionTreeRegressor"
      ]
    },
    {
      "cell_type": "code",
      "execution_count": null,
      "metadata": {
        "colab": {
          "base_uri": "https://localhost:8080/"
        },
        "id": "huRx2Rg_5SPT",
        "outputId": "42ff439d-f23f-4253-ac7f-e9bbeb142279"
      },
      "outputs": [
        {
          "name": "stderr",
          "output_type": "stream",
          "text": [
            "/usr/local/lib/python3.10/dist-packages/sklearn/metrics/_regression.py:492: FutureWarning: 'squared' is deprecated in version 1.4 and will be removed in 1.6. To calculate the root mean squared error, use the function'root_mean_squared_error'.\n",
            "  warnings.warn(\n",
            "/usr/local/lib/python3.10/dist-packages/sklearn/metrics/_regression.py:492: FutureWarning: 'squared' is deprecated in version 1.4 and will be removed in 1.6. To calculate the root mean squared error, use the function'root_mean_squared_error'.\n",
            "  warnings.warn(\n"
          ]
        },
        {
          "data": {
            "text/plain": [
              "(0.2472531837949636, 0.9997659736045108, 0.549718653118208, 0.9989792803326982)"
            ]
          },
          "execution_count": 86,
          "metadata": {},
          "output_type": "execute_result"
        }
      ],
      "source": [
        "from sklearn.tree import DecisionTreeRegressor\n",
        "from sklearn.metrics import mean_squared_error, r2_score\n",
        "\n",
        "# Model Decision Tree Regressor\n",
        "decision_tree = DecisionTreeRegressor(random_state=42)\n",
        "\n",
        "# Fitting model untuk data January\n",
        "decision_tree.fit(X_january, y_january)\n",
        "y_pred_january = decision_tree.predict(X_january)\n",
        "\n",
        "# Evaluasi model untuk January\n",
        "rmse_january = mean_squared_error(y_january, y_pred_january, squared=False)\n",
        "r_squared_january = r2_score(y_january, y_pred_january)\n",
        "\n",
        "# Fitting model untuk data February\n",
        "decision_tree.fit(X_february, y_february)\n",
        "y_pred_february = decision_tree.predict(X_february)\n",
        "\n",
        "# Evaluasi model untuk February\n",
        "rmse_february = mean_squared_error(y_february, y_pred_february, squared=False)\n",
        "r_squared_february = r2_score(y_february, y_pred_february)\n",
        "\n",
        "(rmse_january, r_squared_january, rmse_february, r_squared_february)"
      ]
    },
    {
      "cell_type": "markdown",
      "metadata": {
        "id": "5dU1nk3wjRPy"
      },
      "source": [
        "Hasil menunjukkan metrik evaluasi untuk model Decision Tree. Berikut adalah interpretasi dari hasil tersebut:\n",
        "\n",
        "RMSE (Root Mean Squared Error):\n",
        "\n",
        "Untuk data January: 0.247\n",
        "Untuk data February: 0.550\n",
        "\n",
        "RMSE yang lebih rendah menunjukkan bahwa model lebih baik dalam memprediksi nilai aktual.\n",
        "\n",
        "R-squared:\n",
        "\n",
        "Untuk data January: 0.9998\n",
        "Untuk data February: 0.9990\n",
        "\n",
        "Nilai R-squared mendekati 1 menunjukkan bahwa model sangat baik dalam menjelaskan variansi dalam data.\n",
        "Dari hasil ini, model Decision Tree tampaknya berkinerja sangat baik, terutama untuk data January."
      ]
    },
    {
      "cell_type": "markdown",
      "metadata": {
        "id": "KuRcUuE7j9vl"
      },
      "source": [
        "## (10). RandomForestRegressor"
      ]
    },
    {
      "cell_type": "code",
      "execution_count": null,
      "metadata": {
        "id": "yB-iPfgtd29d"
      },
      "outputs": [],
      "source": [
        "from sklearn.ensemble import RandomForestRegressor\n",
        "from sklearn.metrics import mean_squared_error, r2_score\n",
        "import numpy as np"
      ]
    },
    {
      "cell_type": "code",
      "execution_count": null,
      "metadata": {
        "id": "OE89V9Vbg0D6"
      },
      "outputs": [],
      "source": [
        "# Fitur yang digunakan\n",
        "features = ['subtotal', 'order_hour', 'min_item_price', 'max_item_price',\n",
        "            'total_onshift_partners', 'total_busy_partners',\n",
        "            'total_outstanding_orders', 'num_distinct_items',\n",
        "            'order_protocol', 'order_day_of_week',\n",
        "            'market_1.0', 'market_2.0', 'market_3.0',\n",
        "            'market_4.0', 'market_5.0', 'market_6.0']\n",
        "\n",
        "# Memisahkan fitur dan target untuk Januari dan Februari\n",
        "X_january = df_january[features]\n",
        "y_january = df_january['delivery_duration']\n",
        "\n",
        "X_february = df_february[features]\n",
        "y_february = df_february['delivery_duration']"
      ]
    },
    {
      "cell_type": "code",
      "execution_count": null,
      "metadata": {
        "colab": {
          "base_uri": "https://localhost:8080/",
          "height": 80
        },
        "id": "0mcIWwFqg1Nt",
        "outputId": "785d400b-94f0-496f-dbad-e8b82709f13c"
      },
      "outputs": [
        {
          "data": {
            "text/html": [
              "<style>#sk-container-id-2 {\n",
              "  /* Definition of color scheme common for light and dark mode */\n",
              "  --sklearn-color-text: black;\n",
              "  --sklearn-color-line: gray;\n",
              "  /* Definition of color scheme for unfitted estimators */\n",
              "  --sklearn-color-unfitted-level-0: #fff5e6;\n",
              "  --sklearn-color-unfitted-level-1: #f6e4d2;\n",
              "  --sklearn-color-unfitted-level-2: #ffe0b3;\n",
              "  --sklearn-color-unfitted-level-3: chocolate;\n",
              "  /* Definition of color scheme for fitted estimators */\n",
              "  --sklearn-color-fitted-level-0: #f0f8ff;\n",
              "  --sklearn-color-fitted-level-1: #d4ebff;\n",
              "  --sklearn-color-fitted-level-2: #b3dbfd;\n",
              "  --sklearn-color-fitted-level-3: cornflowerblue;\n",
              "\n",
              "  /* Specific color for light theme */\n",
              "  --sklearn-color-text-on-default-background: var(--sg-text-color, var(--theme-code-foreground, var(--jp-content-font-color1, black)));\n",
              "  --sklearn-color-background: var(--sg-background-color, var(--theme-background, var(--jp-layout-color0, white)));\n",
              "  --sklearn-color-border-box: var(--sg-text-color, var(--theme-code-foreground, var(--jp-content-font-color1, black)));\n",
              "  --sklearn-color-icon: #696969;\n",
              "\n",
              "  @media (prefers-color-scheme: dark) {\n",
              "    /* Redefinition of color scheme for dark theme */\n",
              "    --sklearn-color-text-on-default-background: var(--sg-text-color, var(--theme-code-foreground, var(--jp-content-font-color1, white)));\n",
              "    --sklearn-color-background: var(--sg-background-color, var(--theme-background, var(--jp-layout-color0, #111)));\n",
              "    --sklearn-color-border-box: var(--sg-text-color, var(--theme-code-foreground, var(--jp-content-font-color1, white)));\n",
              "    --sklearn-color-icon: #878787;\n",
              "  }\n",
              "}\n",
              "\n",
              "#sk-container-id-2 {\n",
              "  color: var(--sklearn-color-text);\n",
              "}\n",
              "\n",
              "#sk-container-id-2 pre {\n",
              "  padding: 0;\n",
              "}\n",
              "\n",
              "#sk-container-id-2 input.sk-hidden--visually {\n",
              "  border: 0;\n",
              "  clip: rect(1px 1px 1px 1px);\n",
              "  clip: rect(1px, 1px, 1px, 1px);\n",
              "  height: 1px;\n",
              "  margin: -1px;\n",
              "  overflow: hidden;\n",
              "  padding: 0;\n",
              "  position: absolute;\n",
              "  width: 1px;\n",
              "}\n",
              "\n",
              "#sk-container-id-2 div.sk-dashed-wrapped {\n",
              "  border: 1px dashed var(--sklearn-color-line);\n",
              "  margin: 0 0.4em 0.5em 0.4em;\n",
              "  box-sizing: border-box;\n",
              "  padding-bottom: 0.4em;\n",
              "  background-color: var(--sklearn-color-background);\n",
              "}\n",
              "\n",
              "#sk-container-id-2 div.sk-container {\n",
              "  /* jupyter's `normalize.less` sets `[hidden] { display: none; }`\n",
              "     but bootstrap.min.css set `[hidden] { display: none !important; }`\n",
              "     so we also need the `!important` here to be able to override the\n",
              "     default hidden behavior on the sphinx rendered scikit-learn.org.\n",
              "     See: https://github.com/scikit-learn/scikit-learn/issues/21755 */\n",
              "  display: inline-block !important;\n",
              "  position: relative;\n",
              "}\n",
              "\n",
              "#sk-container-id-2 div.sk-text-repr-fallback {\n",
              "  display: none;\n",
              "}\n",
              "\n",
              "div.sk-parallel-item,\n",
              "div.sk-serial,\n",
              "div.sk-item {\n",
              "  /* draw centered vertical line to link estimators */\n",
              "  background-image: linear-gradient(var(--sklearn-color-text-on-default-background), var(--sklearn-color-text-on-default-background));\n",
              "  background-size: 2px 100%;\n",
              "  background-repeat: no-repeat;\n",
              "  background-position: center center;\n",
              "}\n",
              "\n",
              "/* Parallel-specific style estimator block */\n",
              "\n",
              "#sk-container-id-2 div.sk-parallel-item::after {\n",
              "  content: \"\";\n",
              "  width: 100%;\n",
              "  border-bottom: 2px solid var(--sklearn-color-text-on-default-background);\n",
              "  flex-grow: 1;\n",
              "}\n",
              "\n",
              "#sk-container-id-2 div.sk-parallel {\n",
              "  display: flex;\n",
              "  align-items: stretch;\n",
              "  justify-content: center;\n",
              "  background-color: var(--sklearn-color-background);\n",
              "  position: relative;\n",
              "}\n",
              "\n",
              "#sk-container-id-2 div.sk-parallel-item {\n",
              "  display: flex;\n",
              "  flex-direction: column;\n",
              "}\n",
              "\n",
              "#sk-container-id-2 div.sk-parallel-item:first-child::after {\n",
              "  align-self: flex-end;\n",
              "  width: 50%;\n",
              "}\n",
              "\n",
              "#sk-container-id-2 div.sk-parallel-item:last-child::after {\n",
              "  align-self: flex-start;\n",
              "  width: 50%;\n",
              "}\n",
              "\n",
              "#sk-container-id-2 div.sk-parallel-item:only-child::after {\n",
              "  width: 0;\n",
              "}\n",
              "\n",
              "/* Serial-specific style estimator block */\n",
              "\n",
              "#sk-container-id-2 div.sk-serial {\n",
              "  display: flex;\n",
              "  flex-direction: column;\n",
              "  align-items: center;\n",
              "  background-color: var(--sklearn-color-background);\n",
              "  padding-right: 1em;\n",
              "  padding-left: 1em;\n",
              "}\n",
              "\n",
              "\n",
              "/* Toggleable style: style used for estimator/Pipeline/ColumnTransformer box that is\n",
              "clickable and can be expanded/collapsed.\n",
              "- Pipeline and ColumnTransformer use this feature and define the default style\n",
              "- Estimators will overwrite some part of the style using the `sk-estimator` class\n",
              "*/\n",
              "\n",
              "/* Pipeline and ColumnTransformer style (default) */\n",
              "\n",
              "#sk-container-id-2 div.sk-toggleable {\n",
              "  /* Default theme specific background. It is overwritten whether we have a\n",
              "  specific estimator or a Pipeline/ColumnTransformer */\n",
              "  background-color: var(--sklearn-color-background);\n",
              "}\n",
              "\n",
              "/* Toggleable label */\n",
              "#sk-container-id-2 label.sk-toggleable__label {\n",
              "  cursor: pointer;\n",
              "  display: block;\n",
              "  width: 100%;\n",
              "  margin-bottom: 0;\n",
              "  padding: 0.5em;\n",
              "  box-sizing: border-box;\n",
              "  text-align: center;\n",
              "}\n",
              "\n",
              "#sk-container-id-2 label.sk-toggleable__label-arrow:before {\n",
              "  /* Arrow on the left of the label */\n",
              "  content: \"▸\";\n",
              "  float: left;\n",
              "  margin-right: 0.25em;\n",
              "  color: var(--sklearn-color-icon);\n",
              "}\n",
              "\n",
              "#sk-container-id-2 label.sk-toggleable__label-arrow:hover:before {\n",
              "  color: var(--sklearn-color-text);\n",
              "}\n",
              "\n",
              "/* Toggleable content - dropdown */\n",
              "\n",
              "#sk-container-id-2 div.sk-toggleable__content {\n",
              "  max-height: 0;\n",
              "  max-width: 0;\n",
              "  overflow: hidden;\n",
              "  text-align: left;\n",
              "  /* unfitted */\n",
              "  background-color: var(--sklearn-color-unfitted-level-0);\n",
              "}\n",
              "\n",
              "#sk-container-id-2 div.sk-toggleable__content.fitted {\n",
              "  /* fitted */\n",
              "  background-color: var(--sklearn-color-fitted-level-0);\n",
              "}\n",
              "\n",
              "#sk-container-id-2 div.sk-toggleable__content pre {\n",
              "  margin: 0.2em;\n",
              "  border-radius: 0.25em;\n",
              "  color: var(--sklearn-color-text);\n",
              "  /* unfitted */\n",
              "  background-color: var(--sklearn-color-unfitted-level-0);\n",
              "}\n",
              "\n",
              "#sk-container-id-2 div.sk-toggleable__content.fitted pre {\n",
              "  /* unfitted */\n",
              "  background-color: var(--sklearn-color-fitted-level-0);\n",
              "}\n",
              "\n",
              "#sk-container-id-2 input.sk-toggleable__control:checked~div.sk-toggleable__content {\n",
              "  /* Expand drop-down */\n",
              "  max-height: 200px;\n",
              "  max-width: 100%;\n",
              "  overflow: auto;\n",
              "}\n",
              "\n",
              "#sk-container-id-2 input.sk-toggleable__control:checked~label.sk-toggleable__label-arrow:before {\n",
              "  content: \"▾\";\n",
              "}\n",
              "\n",
              "/* Pipeline/ColumnTransformer-specific style */\n",
              "\n",
              "#sk-container-id-2 div.sk-label input.sk-toggleable__control:checked~label.sk-toggleable__label {\n",
              "  color: var(--sklearn-color-text);\n",
              "  background-color: var(--sklearn-color-unfitted-level-2);\n",
              "}\n",
              "\n",
              "#sk-container-id-2 div.sk-label.fitted input.sk-toggleable__control:checked~label.sk-toggleable__label {\n",
              "  background-color: var(--sklearn-color-fitted-level-2);\n",
              "}\n",
              "\n",
              "/* Estimator-specific style */\n",
              "\n",
              "/* Colorize estimator box */\n",
              "#sk-container-id-2 div.sk-estimator input.sk-toggleable__control:checked~label.sk-toggleable__label {\n",
              "  /* unfitted */\n",
              "  background-color: var(--sklearn-color-unfitted-level-2);\n",
              "}\n",
              "\n",
              "#sk-container-id-2 div.sk-estimator.fitted input.sk-toggleable__control:checked~label.sk-toggleable__label {\n",
              "  /* fitted */\n",
              "  background-color: var(--sklearn-color-fitted-level-2);\n",
              "}\n",
              "\n",
              "#sk-container-id-2 div.sk-label label.sk-toggleable__label,\n",
              "#sk-container-id-2 div.sk-label label {\n",
              "  /* The background is the default theme color */\n",
              "  color: var(--sklearn-color-text-on-default-background);\n",
              "}\n",
              "\n",
              "/* On hover, darken the color of the background */\n",
              "#sk-container-id-2 div.sk-label:hover label.sk-toggleable__label {\n",
              "  color: var(--sklearn-color-text);\n",
              "  background-color: var(--sklearn-color-unfitted-level-2);\n",
              "}\n",
              "\n",
              "/* Label box, darken color on hover, fitted */\n",
              "#sk-container-id-2 div.sk-label.fitted:hover label.sk-toggleable__label.fitted {\n",
              "  color: var(--sklearn-color-text);\n",
              "  background-color: var(--sklearn-color-fitted-level-2);\n",
              "}\n",
              "\n",
              "/* Estimator label */\n",
              "\n",
              "#sk-container-id-2 div.sk-label label {\n",
              "  font-family: monospace;\n",
              "  font-weight: bold;\n",
              "  display: inline-block;\n",
              "  line-height: 1.2em;\n",
              "}\n",
              "\n",
              "#sk-container-id-2 div.sk-label-container {\n",
              "  text-align: center;\n",
              "}\n",
              "\n",
              "/* Estimator-specific */\n",
              "#sk-container-id-2 div.sk-estimator {\n",
              "  font-family: monospace;\n",
              "  border: 1px dotted var(--sklearn-color-border-box);\n",
              "  border-radius: 0.25em;\n",
              "  box-sizing: border-box;\n",
              "  margin-bottom: 0.5em;\n",
              "  /* unfitted */\n",
              "  background-color: var(--sklearn-color-unfitted-level-0);\n",
              "}\n",
              "\n",
              "#sk-container-id-2 div.sk-estimator.fitted {\n",
              "  /* fitted */\n",
              "  background-color: var(--sklearn-color-fitted-level-0);\n",
              "}\n",
              "\n",
              "/* on hover */\n",
              "#sk-container-id-2 div.sk-estimator:hover {\n",
              "  /* unfitted */\n",
              "  background-color: var(--sklearn-color-unfitted-level-2);\n",
              "}\n",
              "\n",
              "#sk-container-id-2 div.sk-estimator.fitted:hover {\n",
              "  /* fitted */\n",
              "  background-color: var(--sklearn-color-fitted-level-2);\n",
              "}\n",
              "\n",
              "/* Specification for estimator info (e.g. \"i\" and \"?\") */\n",
              "\n",
              "/* Common style for \"i\" and \"?\" */\n",
              "\n",
              ".sk-estimator-doc-link,\n",
              "a:link.sk-estimator-doc-link,\n",
              "a:visited.sk-estimator-doc-link {\n",
              "  float: right;\n",
              "  font-size: smaller;\n",
              "  line-height: 1em;\n",
              "  font-family: monospace;\n",
              "  background-color: var(--sklearn-color-background);\n",
              "  border-radius: 1em;\n",
              "  height: 1em;\n",
              "  width: 1em;\n",
              "  text-decoration: none !important;\n",
              "  margin-left: 1ex;\n",
              "  /* unfitted */\n",
              "  border: var(--sklearn-color-unfitted-level-1) 1pt solid;\n",
              "  color: var(--sklearn-color-unfitted-level-1);\n",
              "}\n",
              "\n",
              ".sk-estimator-doc-link.fitted,\n",
              "a:link.sk-estimator-doc-link.fitted,\n",
              "a:visited.sk-estimator-doc-link.fitted {\n",
              "  /* fitted */\n",
              "  border: var(--sklearn-color-fitted-level-1) 1pt solid;\n",
              "  color: var(--sklearn-color-fitted-level-1);\n",
              "}\n",
              "\n",
              "/* On hover */\n",
              "div.sk-estimator:hover .sk-estimator-doc-link:hover,\n",
              ".sk-estimator-doc-link:hover,\n",
              "div.sk-label-container:hover .sk-estimator-doc-link:hover,\n",
              ".sk-estimator-doc-link:hover {\n",
              "  /* unfitted */\n",
              "  background-color: var(--sklearn-color-unfitted-level-3);\n",
              "  color: var(--sklearn-color-background);\n",
              "  text-decoration: none;\n",
              "}\n",
              "\n",
              "div.sk-estimator.fitted:hover .sk-estimator-doc-link.fitted:hover,\n",
              ".sk-estimator-doc-link.fitted:hover,\n",
              "div.sk-label-container:hover .sk-estimator-doc-link.fitted:hover,\n",
              ".sk-estimator-doc-link.fitted:hover {\n",
              "  /* fitted */\n",
              "  background-color: var(--sklearn-color-fitted-level-3);\n",
              "  color: var(--sklearn-color-background);\n",
              "  text-decoration: none;\n",
              "}\n",
              "\n",
              "/* Span, style for the box shown on hovering the info icon */\n",
              ".sk-estimator-doc-link span {\n",
              "  display: none;\n",
              "  z-index: 9999;\n",
              "  position: relative;\n",
              "  font-weight: normal;\n",
              "  right: .2ex;\n",
              "  padding: .5ex;\n",
              "  margin: .5ex;\n",
              "  width: min-content;\n",
              "  min-width: 20ex;\n",
              "  max-width: 50ex;\n",
              "  color: var(--sklearn-color-text);\n",
              "  box-shadow: 2pt 2pt 4pt #999;\n",
              "  /* unfitted */\n",
              "  background: var(--sklearn-color-unfitted-level-0);\n",
              "  border: .5pt solid var(--sklearn-color-unfitted-level-3);\n",
              "}\n",
              "\n",
              ".sk-estimator-doc-link.fitted span {\n",
              "  /* fitted */\n",
              "  background: var(--sklearn-color-fitted-level-0);\n",
              "  border: var(--sklearn-color-fitted-level-3);\n",
              "}\n",
              "\n",
              ".sk-estimator-doc-link:hover span {\n",
              "  display: block;\n",
              "}\n",
              "\n",
              "/* \"?\"-specific style due to the `<a>` HTML tag */\n",
              "\n",
              "#sk-container-id-2 a.estimator_doc_link {\n",
              "  float: right;\n",
              "  font-size: 1rem;\n",
              "  line-height: 1em;\n",
              "  font-family: monospace;\n",
              "  background-color: var(--sklearn-color-background);\n",
              "  border-radius: 1rem;\n",
              "  height: 1rem;\n",
              "  width: 1rem;\n",
              "  text-decoration: none;\n",
              "  /* unfitted */\n",
              "  color: var(--sklearn-color-unfitted-level-1);\n",
              "  border: var(--sklearn-color-unfitted-level-1) 1pt solid;\n",
              "}\n",
              "\n",
              "#sk-container-id-2 a.estimator_doc_link.fitted {\n",
              "  /* fitted */\n",
              "  border: var(--sklearn-color-fitted-level-1) 1pt solid;\n",
              "  color: var(--sklearn-color-fitted-level-1);\n",
              "}\n",
              "\n",
              "/* On hover */\n",
              "#sk-container-id-2 a.estimator_doc_link:hover {\n",
              "  /* unfitted */\n",
              "  background-color: var(--sklearn-color-unfitted-level-3);\n",
              "  color: var(--sklearn-color-background);\n",
              "  text-decoration: none;\n",
              "}\n",
              "\n",
              "#sk-container-id-2 a.estimator_doc_link.fitted:hover {\n",
              "  /* fitted */\n",
              "  background-color: var(--sklearn-color-fitted-level-3);\n",
              "}\n",
              "</style><div id=\"sk-container-id-2\" class=\"sk-top-container\"><div class=\"sk-text-repr-fallback\"><pre>RandomForestRegressor(random_state=42)</pre><b>In a Jupyter environment, please rerun this cell to show the HTML representation or trust the notebook. <br />On GitHub, the HTML representation is unable to render, please try loading this page with nbviewer.org.</b></div><div class=\"sk-container\" hidden><div class=\"sk-item\"><div class=\"sk-estimator fitted sk-toggleable\"><input class=\"sk-toggleable__control sk-hidden--visually\" id=\"sk-estimator-id-2\" type=\"checkbox\" checked><label for=\"sk-estimator-id-2\" class=\"sk-toggleable__label fitted sk-toggleable__label-arrow fitted\">&nbsp;&nbsp;RandomForestRegressor<a class=\"sk-estimator-doc-link fitted\" rel=\"noreferrer\" target=\"_blank\" href=\"https://scikit-learn.org/1.5/modules/generated/sklearn.ensemble.RandomForestRegressor.html\">?<span>Documentation for RandomForestRegressor</span></a><span class=\"sk-estimator-doc-link fitted\">i<span>Fitted</span></span></label><div class=\"sk-toggleable__content fitted\"><pre>RandomForestRegressor(random_state=42)</pre></div> </div></div></div></div>"
            ],
            "text/plain": [
              "RandomForestRegressor(random_state=42)"
            ]
          },
          "execution_count": 89,
          "metadata": {},
          "output_type": "execute_result"
        }
      ],
      "source": [
        "# Inisialisasi model Random Forest\n",
        "rf_model = RandomForestRegressor(n_estimators=100, random_state=42)\n",
        "\n",
        "# Melatih model dengan data Januari\n",
        "rf_model.fit(X_january, y_january)"
      ]
    },
    {
      "cell_type": "code",
      "execution_count": null,
      "metadata": {
        "colab": {
          "base_uri": "https://localhost:8080/"
        },
        "id": "JTvAl_pZktFR",
        "outputId": "20a9a657-1b03-43ec-c5d0-7b2046976ff5"
      },
      "outputs": [
        {
          "data": {
            "text/plain": [
              "(5.256586057336088, 0.8942236404518731, 16.14076060946385, 0.12001852820197023)"
            ]
          },
          "execution_count": 90,
          "metadata": {},
          "output_type": "execute_result"
        }
      ],
      "source": [
        "# Memprediksi nilai delivery duration untuk Januari\n",
        "y_pred_january = rf_model.predict(X_january)\n",
        "rmse_jan = np.sqrt(mean_squared_error(y_january, y_pred_january))\n",
        "r_squared_jan = r2_score(y_january, y_pred_january)\n",
        "\n",
        "# Memprediksi nilai delivery duration untuk Februari\n",
        "y_pred_february = rf_model.predict(X_february)\n",
        "rmse_feb = np.sqrt(mean_squared_error(y_february, y_pred_february))\n",
        "r_squared_feb = r2_score(y_february, y_pred_february)\n",
        "\n",
        "(rmse_jan, r_squared_jan, rmse_feb, r_squared_feb)"
      ]
    },
    {
      "cell_type": "markdown",
      "metadata": {
        "id": "bc_lLMclslze"
      },
      "source": [
        "## (11). XGBoost"
      ]
    },
    {
      "cell_type": "code",
      "execution_count": null,
      "metadata": {
        "colab": {
          "base_uri": "https://localhost:8080/"
        },
        "id": "5Ei_Sy7_lfXb",
        "outputId": "e35808d9-d0f3-4289-c3b4-f2040b3aea08"
      },
      "outputs": [
        {
          "name": "stdout",
          "output_type": "stream",
          "text": [
            "Results for January:\n",
            "RMSE: 13.085520595022055\n",
            "R-squared: 0.3445145301957223\n",
            "Results for February:\n",
            "RMSE: 15.933065842833702\n",
            "R-squared: 0.14251953049461907\n"
          ]
        }
      ],
      "source": [
        "import xgboost as xgb\n",
        "\n",
        "# Persiapkan fitur dan target untuk January\n",
        "X_january = df_january[reduced_features]\n",
        "y_january = df_january['delivery_duration']\n",
        "\n",
        "# Persiapkan fitur dan target untuk February\n",
        "X_february = df_february[reduced_features]\n",
        "y_february = df_february['delivery_duration']\n",
        "\n",
        "# Inisialisasi model XGBoost\n",
        "xgb_model = xgb.XGBRegressor(objective='reg:squarederror')\n",
        "\n",
        "# Latih model pada data January\n",
        "xgb_model.fit(X_january, y_january)\n",
        "\n",
        "# Prediksi pada data January\n",
        "y_pred_january = xgb_model.predict(X_january)\n",
        "\n",
        "# Hitung RMSE dan R-squared untuk January\n",
        "rmse_january = np.sqrt(mean_squared_error(y_january, y_pred_january))\n",
        "r_squared_january = r2_score(y_january, y_pred_january)\n",
        "\n",
        "# Prediksi pada data February\n",
        "y_pred_february = xgb_model.predict(X_february)\n",
        "\n",
        "# Hitung RMSE dan R-squared untuk February\n",
        "rmse_february = np.sqrt(mean_squared_error(y_february, y_pred_february))\n",
        "r_squared_february = r2_score(y_february, y_pred_february)\n",
        "\n",
        "# Tampilkan hasil\n",
        "print(f\"Results for January:\\nRMSE: {rmse_january}\\nR-squared: {r_squared_january}\")\n",
        "print(f\"Results for February:\\nRMSE: {rmse_february}\\nR-squared: {r_squared_february}\")"
      ]
    },
    {
      "cell_type": "markdown",
      "metadata": {
        "id": "WlxaS7P-ssAk"
      },
      "source": [
        "## (12).Neural Networks"
      ]
    },
    {
      "cell_type": "code",
      "execution_count": null,
      "metadata": {
        "colab": {
          "base_uri": "https://localhost:8080/"
        },
        "id": "qQtqAcnus2z1",
        "outputId": "6c83ef47-c0b9-44ad-e89a-c75b557d12ea"
      },
      "outputs": [
        {
          "name": "stderr",
          "output_type": "stream",
          "text": [
            "/usr/local/lib/python3.10/dist-packages/keras/src/layers/core/dense.py:87: UserWarning: Do not pass an `input_shape`/`input_dim` argument to a layer. When using Sequential models, prefer using an `Input(shape)` object as the first layer in the model instead.\n",
            "  super().__init__(activity_regularizer=activity_regularizer, **kwargs)\n"
          ]
        },
        {
          "name": "stdout",
          "output_type": "stream",
          "text": [
            "\u001b[1m2141/2141\u001b[0m \u001b[32m━━━━━━━━━━━━━━━━━━━━\u001b[0m\u001b[37m\u001b[0m \u001b[1m3s\u001b[0m 1ms/step\n",
            "\u001b[1m4030/4030\u001b[0m \u001b[32m━━━━━━━━━━━━━━━━━━━━\u001b[0m\u001b[37m\u001b[0m \u001b[1m6s\u001b[0m 2ms/step\n",
            "Results for January:\n",
            "RMSE: 14.227906545461938\n",
            "R-squared: 0.22506894341869133\n",
            "Results for February:\n",
            "RMSE: 15.66839261271674\n",
            "R-squared: 0.170771106474497\n"
          ]
        }
      ],
      "source": [
        "import tensorflow as tf\n",
        "from tensorflow import keras\n",
        "from sklearn.metrics import mean_squared_error, r2_score\n",
        "\n",
        "# Persiapkan fitur dan target untuk January\n",
        "X_january = df_january[reduced_features].values\n",
        "y_january = df_january['delivery_duration'].values\n",
        "\n",
        "# Persiapkan fitur dan target untuk February\n",
        "X_february = df_february[reduced_features].values\n",
        "y_february = df_february['delivery_duration'].values\n",
        "\n",
        "# Membangun model neural network\n",
        "model = keras.Sequential([\n",
        "    keras.layers.Dense(64, activation='relu', input_shape=(X_january.shape[1],)),\n",
        "    keras.layers.Dense(32, activation='relu'),\n",
        "    keras.layers.Dense(1)  # Output layer for regression\n",
        "])\n",
        "\n",
        "# Kompilasi model\n",
        "model.compile(optimizer='adam', loss='mean_squared_error')\n",
        "\n",
        "# Latih model pada data January\n",
        "model.fit(X_january, y_january, epochs=100, batch_size=32, verbose=0)\n",
        "\n",
        "# Prediksi pada data January\n",
        "y_pred_january = model.predict(X_january)\n",
        "\n",
        "# Hitung RMSE dan R-squared untuk January\n",
        "rmse_january = np.sqrt(mean_squared_error(y_january, y_pred_january))\n",
        "r_squared_january = r2_score(y_january, y_pred_january)\n",
        "\n",
        "# Prediksi pada data February\n",
        "y_pred_february = model.predict(X_february)\n",
        "\n",
        "# Hitung RMSE dan R-squared untuk February\n",
        "rmse_february = np.sqrt(mean_squared_error(y_february, y_pred_february))\n",
        "r_squared_february = r2_score(y_february, y_pred_february)\n",
        "\n",
        "# Tampilkan hasil\n",
        "print(f\"Results for January:\\nRMSE: {rmse_january}\\nR-squared: {r_squared_january}\")\n",
        "print(f\"Results for February:\\nRMSE: {rmse_february}\\nR-squared: {r_squared_february}\")"
      ]
    },
    {
      "cell_type": "markdown",
      "metadata": {
        "id": "YJujRPxbvVxr"
      },
      "source": [
        "## (13). KNeighborsRegressor"
      ]
    },
    {
      "cell_type": "code",
      "execution_count": null,
      "metadata": {
        "colab": {
          "base_uri": "https://localhost:8080/"
        },
        "id": "b8oCWowevQf0",
        "outputId": "b79ac07e-1550-490b-b0e6-b827fa007c32"
      },
      "outputs": [
        {
          "data": {
            "text/plain": [
              "(13.464430927132433,\n",
              " 0.306003845634065,\n",
              " 17.80968757590865,\n",
              " -0.07136668454057205)"
            ]
          },
          "execution_count": 93,
          "metadata": {},
          "output_type": "execute_result"
        }
      ],
      "source": [
        "from sklearn.neighbors import KNeighborsRegressor\n",
        "from sklearn.metrics import mean_squared_error, r2_score\n",
        "import numpy as np\n",
        "\n",
        "# Persiapkan fitur dan target untuk January dan February\n",
        "features = ['subtotal', 'order_hour', 'min_item_price', 'max_item_price',\n",
        "            'total_onshift_partners', 'total_busy_partners',\n",
        "            'total_outstanding_orders', 'num_distinct_items',\n",
        "            'order_protocol', 'order_day_of_week',\n",
        "            'market_1.0', 'market_2.0', 'market_3.0',\n",
        "            'market_4.0', 'market_5.0', 'market_6.0']\n",
        "\n",
        "X_january = df_january[features]\n",
        "y_january = df_january['delivery_duration']\n",
        "X_february = df_february[features]\n",
        "y_february = df_february['delivery_duration']\n",
        "\n",
        "# Inisialisasi KNN regressor\n",
        "knn_model = KNeighborsRegressor(n_neighbors=5)\n",
        "\n",
        "# Fit model pada data January\n",
        "knn_model.fit(X_january, y_january)\n",
        "\n",
        "# Prediksi untuk January dan February\n",
        "y_pred_january = knn_model.predict(X_january)\n",
        "y_pred_february = knn_model.predict(X_february)\n",
        "\n",
        "# Hitung RMSE dan R-squared untuk January\n",
        "rmse_jan = np.sqrt(mean_squared_error(y_january, y_pred_january))\n",
        "r_squared_jan = r2_score(y_january, y_pred_january)\n",
        "\n",
        "# Hitung RMSE dan R-squared untuk February\n",
        "rmse_feb = np.sqrt(mean_squared_error(y_february, y_pred_february))\n",
        "r_squared_feb = r2_score(y_february, y_pred_february)\n",
        "\n",
        "(rmse_jan, r_squared_jan, rmse_feb, r_squared_feb)"
      ]
    },
    {
      "cell_type": "markdown",
      "metadata": {
        "id": "tbsPHORwmDge"
      },
      "source": [
        "# **IV. Deployment**"
      ]
    },
    {
      "cell_type": "code",
      "execution_count": null,
      "metadata": {
        "colab": {
          "base_uri": "https://localhost:8080/"
        },
        "id": "jAi1GOzbkKNX",
        "outputId": "8977b219-20fa-41ae-c54c-b9cfc792fb92"
      },
      "outputs": [
        {
          "name": "stdout",
          "output_type": "stream",
          "text": [
            "Collecting streamlit\n",
            "  Downloading streamlit-1.39.0-py2.py3-none-any.whl.metadata (8.5 kB)\n",
            "Collecting pyngrok\n",
            "  Downloading pyngrok-7.2.0-py3-none-any.whl.metadata (7.4 kB)\n",
            "Requirement already satisfied: altair<6,>=4.0 in /usr/local/lib/python3.10/dist-packages (from streamlit) (4.2.2)\n",
            "Requirement already satisfied: blinker<2,>=1.0.0 in /usr/lib/python3/dist-packages (from streamlit) (1.4)\n",
            "Requirement already satisfied: cachetools<6,>=4.0 in /usr/local/lib/python3.10/dist-packages (from streamlit) (5.5.0)\n",
            "Requirement already satisfied: click<9,>=7.0 in /usr/local/lib/python3.10/dist-packages (from streamlit) (8.1.7)\n",
            "Requirement already satisfied: numpy<3,>=1.20 in /usr/local/lib/python3.10/dist-packages (from streamlit) (1.26.4)\n",
            "Requirement already satisfied: packaging<25,>=20 in /usr/local/lib/python3.10/dist-packages (from streamlit) (24.1)\n",
            "Requirement already satisfied: pandas<3,>=1.4.0 in /usr/local/lib/python3.10/dist-packages (from streamlit) (2.2.2)\n",
            "Requirement already satisfied: pillow<11,>=7.1.0 in /usr/local/lib/python3.10/dist-packages (from streamlit) (10.4.0)\n",
            "Requirement already satisfied: protobuf<6,>=3.20 in /usr/local/lib/python3.10/dist-packages (from streamlit) (3.20.3)\n",
            "Requirement already satisfied: pyarrow>=7.0 in /usr/local/lib/python3.10/dist-packages (from streamlit) (16.1.0)\n",
            "Requirement already satisfied: requests<3,>=2.27 in /usr/local/lib/python3.10/dist-packages (from streamlit) (2.32.3)\n",
            "Requirement already satisfied: rich<14,>=10.14.0 in /usr/local/lib/python3.10/dist-packages (from streamlit) (13.9.2)\n",
            "Requirement already satisfied: tenacity<10,>=8.1.0 in /usr/local/lib/python3.10/dist-packages (from streamlit) (9.0.0)\n",
            "Requirement already satisfied: toml<2,>=0.10.1 in /usr/local/lib/python3.10/dist-packages (from streamlit) (0.10.2)\n",
            "Requirement already satisfied: typing-extensions<5,>=4.3.0 in /usr/local/lib/python3.10/dist-packages (from streamlit) (4.12.2)\n",
            "Collecting gitpython!=3.1.19,<4,>=3.0.7 (from streamlit)\n",
            "  Downloading GitPython-3.1.43-py3-none-any.whl.metadata (13 kB)\n",
            "Collecting pydeck<1,>=0.8.0b4 (from streamlit)\n",
            "  Downloading pydeck-0.9.1-py2.py3-none-any.whl.metadata (4.1 kB)\n",
            "Requirement already satisfied: tornado<7,>=6.0.3 in /usr/local/lib/python3.10/dist-packages (from streamlit) (6.3.3)\n",
            "Collecting watchdog<6,>=2.1.5 (from streamlit)\n",
            "  Downloading watchdog-5.0.3-py3-none-manylinux2014_x86_64.whl.metadata (41 kB)\n",
            "\u001b[2K     \u001b[90m━━━━━━━━━━━━━━━━━━━━━━━━━━━━━━━━━━━━━━━━\u001b[0m \u001b[32m41.9/41.9 kB\u001b[0m \u001b[31m2.7 MB/s\u001b[0m eta \u001b[36m0:00:00\u001b[0m\n",
            "\u001b[?25hRequirement already satisfied: PyYAML>=5.1 in /usr/local/lib/python3.10/dist-packages (from pyngrok) (6.0.2)\n",
            "Requirement already satisfied: entrypoints in /usr/local/lib/python3.10/dist-packages (from altair<6,>=4.0->streamlit) (0.4)\n",
            "Requirement already satisfied: jinja2 in /usr/local/lib/python3.10/dist-packages (from altair<6,>=4.0->streamlit) (3.1.4)\n",
            "Requirement already satisfied: jsonschema>=3.0 in /usr/local/lib/python3.10/dist-packages (from altair<6,>=4.0->streamlit) (4.23.0)\n",
            "Requirement already satisfied: toolz in /usr/local/lib/python3.10/dist-packages (from altair<6,>=4.0->streamlit) (0.12.1)\n",
            "Collecting gitdb<5,>=4.0.1 (from gitpython!=3.1.19,<4,>=3.0.7->streamlit)\n",
            "  Downloading gitdb-4.0.11-py3-none-any.whl.metadata (1.2 kB)\n",
            "Requirement already satisfied: python-dateutil>=2.8.2 in /usr/local/lib/python3.10/dist-packages (from pandas<3,>=1.4.0->streamlit) (2.8.2)\n",
            "Requirement already satisfied: pytz>=2020.1 in /usr/local/lib/python3.10/dist-packages (from pandas<3,>=1.4.0->streamlit) (2024.2)\n",
            "Requirement already satisfied: tzdata>=2022.7 in /usr/local/lib/python3.10/dist-packages (from pandas<3,>=1.4.0->streamlit) (2024.2)\n",
            "Requirement already satisfied: charset-normalizer<4,>=2 in /usr/local/lib/python3.10/dist-packages (from requests<3,>=2.27->streamlit) (3.4.0)\n",
            "Requirement already satisfied: idna<4,>=2.5 in /usr/local/lib/python3.10/dist-packages (from requests<3,>=2.27->streamlit) (3.10)\n",
            "Requirement already satisfied: urllib3<3,>=1.21.1 in /usr/local/lib/python3.10/dist-packages (from requests<3,>=2.27->streamlit) (2.2.3)\n",
            "Requirement already satisfied: certifi>=2017.4.17 in /usr/local/lib/python3.10/dist-packages (from requests<3,>=2.27->streamlit) (2024.8.30)\n",
            "Requirement already satisfied: markdown-it-py>=2.2.0 in /usr/local/lib/python3.10/dist-packages (from rich<14,>=10.14.0->streamlit) (3.0.0)\n",
            "Requirement already satisfied: pygments<3.0.0,>=2.13.0 in /usr/local/lib/python3.10/dist-packages (from rich<14,>=10.14.0->streamlit) (2.18.0)\n",
            "Collecting smmap<6,>=3.0.1 (from gitdb<5,>=4.0.1->gitpython!=3.1.19,<4,>=3.0.7->streamlit)\n",
            "  Downloading smmap-5.0.1-py3-none-any.whl.metadata (4.3 kB)\n",
            "Requirement already satisfied: MarkupSafe>=2.0 in /usr/local/lib/python3.10/dist-packages (from jinja2->altair<6,>=4.0->streamlit) (3.0.1)\n",
            "Requirement already satisfied: attrs>=22.2.0 in /usr/local/lib/python3.10/dist-packages (from jsonschema>=3.0->altair<6,>=4.0->streamlit) (24.2.0)\n",
            "Requirement already satisfied: jsonschema-specifications>=2023.03.6 in /usr/local/lib/python3.10/dist-packages (from jsonschema>=3.0->altair<6,>=4.0->streamlit) (2024.10.1)\n",
            "Requirement already satisfied: referencing>=0.28.4 in /usr/local/lib/python3.10/dist-packages (from jsonschema>=3.0->altair<6,>=4.0->streamlit) (0.35.1)\n",
            "Requirement already satisfied: rpds-py>=0.7.1 in /usr/local/lib/python3.10/dist-packages (from jsonschema>=3.0->altair<6,>=4.0->streamlit) (0.20.0)\n",
            "Requirement already satisfied: mdurl~=0.1 in /usr/local/lib/python3.10/dist-packages (from markdown-it-py>=2.2.0->rich<14,>=10.14.0->streamlit) (0.1.2)\n",
            "Requirement already satisfied: six>=1.5 in /usr/local/lib/python3.10/dist-packages (from python-dateutil>=2.8.2->pandas<3,>=1.4.0->streamlit) (1.16.0)\n",
            "Downloading streamlit-1.39.0-py2.py3-none-any.whl (8.7 MB)\n",
            "\u001b[2K   \u001b[90m━━━━━━━━━━━━━━━━━━━━━━━━━━━━━━━━━━━━━━━━\u001b[0m \u001b[32m8.7/8.7 MB\u001b[0m \u001b[31m25.4 MB/s\u001b[0m eta \u001b[36m0:00:00\u001b[0m\n",
            "\u001b[?25hDownloading pyngrok-7.2.0-py3-none-any.whl (22 kB)\n",
            "Downloading GitPython-3.1.43-py3-none-any.whl (207 kB)\n",
            "\u001b[2K   \u001b[90m━━━━━━━━━━━━━━━━━━━━━━━━━━━━━━━━━━━━━━━━\u001b[0m \u001b[32m207.3/207.3 kB\u001b[0m \u001b[31m10.7 MB/s\u001b[0m eta \u001b[36m0:00:00\u001b[0m\n",
            "\u001b[?25hDownloading pydeck-0.9.1-py2.py3-none-any.whl (6.9 MB)\n",
            "\u001b[2K   \u001b[90m━━━━━━━━━━━━━━━━━━━━━━━━━━━━━━━━━━━━━━━━\u001b[0m \u001b[32m6.9/6.9 MB\u001b[0m \u001b[31m34.8 MB/s\u001b[0m eta \u001b[36m0:00:00\u001b[0m\n",
            "\u001b[?25hDownloading watchdog-5.0.3-py3-none-manylinux2014_x86_64.whl (79 kB)\n",
            "\u001b[2K   \u001b[90m━━━━━━━━━━━━━━━━━━━━━━━━━━━━━━━━━━━━━━━━\u001b[0m \u001b[32m79.3/79.3 kB\u001b[0m \u001b[31m5.9 MB/s\u001b[0m eta \u001b[36m0:00:00\u001b[0m\n",
            "\u001b[?25hDownloading gitdb-4.0.11-py3-none-any.whl (62 kB)\n",
            "\u001b[2K   \u001b[90m━━━━━━━━━━━━━━━━━━━━━━━━━━━━━━━━━━━━━━━━\u001b[0m \u001b[32m62.7/62.7 kB\u001b[0m \u001b[31m4.7 MB/s\u001b[0m eta \u001b[36m0:00:00\u001b[0m\n",
            "\u001b[?25hDownloading smmap-5.0.1-py3-none-any.whl (24 kB)\n",
            "Installing collected packages: watchdog, smmap, pyngrok, pydeck, gitdb, gitpython, streamlit\n",
            "Successfully installed gitdb-4.0.11 gitpython-3.1.43 pydeck-0.9.1 pyngrok-7.2.0 smmap-5.0.1 streamlit-1.39.0 watchdog-5.0.3\n"
          ]
        }
      ],
      "source": [
        "!pip install streamlit pyngrok"
      ]
    },
    {
      "cell_type": "code",
      "execution_count": null,
      "metadata": {
        "colab": {
          "base_uri": "https://localhost:8080/"
        },
        "id": "0BweksntkQRn",
        "outputId": "f6e1b1fd-3808-4d3e-ffda-509846521120"
      },
      "outputs": [
        {
          "name": "stdout",
          "output_type": "stream",
          "text": [
            "Overwriting app.py\n"
          ]
        }
      ],
      "source": [
        "%%writefile app.py\n",
        "\n",
        "import streamlit as st\n",
        "import pandas as pd\n",
        "from sklearn.ensemble import RandomForestRegressor\n",
        "from sklearn.metrics import mean_squared_error, r2_score\n",
        "import numpy as np\n",
        "\n",
        "# Fungsi untuk melatih model dan menghasilkan prediksi\n",
        "def train_and_predict(df_january, df_february, features):\n",
        "    X_january = df_january[features]\n",
        "    y_january = df_january['delivery_duration']\n",
        "\n",
        "    X_february = df_february[features]\n",
        "    y_february = df_february['delivery_duration']\n",
        "\n",
        "    rf_model = RandomForestRegressor(n_estimators=100, random_state=42)\n",
        "    rf_model.fit(X_january, y_january)\n",
        "\n",
        "    y_pred_january = rf_model.predict(X_january)\n",
        "    rmse_jan = np.sqrt(mean_squared_error(y_january, y_pred_january))\n",
        "    r_squared_jan = r2_score(y_january, y_pred_january)\n",
        "\n",
        "    y_pred_february = rf_model.predict(X_february)\n",
        "    rmse_feb = np.sqrt(mean_squared_error(y_february, y_pred_february))\n",
        "    r_squared_feb = r2_score(y_february, y_pred_february)\n",
        "\n",
        "    return rmse_jan, r_squared_jan, rmse_feb, r_squared_feb\n",
        "\n",
        "# Bagian Streamlit\n",
        "st.title(\"Penentuan R2 dan RMSE dalam Kasus Prediksi Durasi Pengantaran\")\n",
        "\n",
        "uploaded_file_jan = st.file_uploader(\"Unggah file data Januari\", type=[\"csv\"])\n",
        "uploaded_file_feb = st.file_uploader(\"Unggah file data Februari\", type=[\"csv\"])\n",
        "\n",
        "if uploaded_file_jan is not None and uploaded_file_feb is not None:\n",
        "    df_january = pd.read_csv(uploaded_file_jan)\n",
        "    df_february = pd.read_csv(uploaded_file_feb)\n",
        "\n",
        "    features = ['subtotal', 'order_hour', 'min_item_price', 'max_item_price',\n",
        "                'total_onshift_partners', 'total_busy_partners', 'total_outstanding_orders',\n",
        "                'num_distinct_items', 'order_protocol', 'order_day_of_week',\n",
        "                'market_1.0', 'market_2.0', 'market_3.0',\n",
        "                'market_4.0', 'market_5.0', 'market_6.0']\n",
        "\n",
        "    rmse_jan, r_squared_jan, rmse_feb, r_squared_feb = train_and_predict(df_january, df_february, features)\n",
        "\n",
        "    st.write(\"Januari RMSE:\", rmse_jan)\n",
        "    st.write(\"Januari R^2:\", r_squared_jan)\n",
        "    st.write(\"Februari RMSE:\", rmse_feb)\n",
        "    st.write(\"Februari R^2:\", r_squared_feb)"
      ]
    },
    {
      "cell_type": "code",
      "execution_count": null,
      "metadata": {
        "colab": {
          "base_uri": "https://localhost:8080/"
        },
        "id": "2r1dEhe-kTle",
        "outputId": "abf9d0de-1ff7-445d-88e7-52c32a52a5f6"
      },
      "outputs": [
        {
          "name": "stdout",
          "output_type": "stream",
          "text": [
            "Aplikasi Anda dapat diakses melalui URL berikut: NgrokTunnel: \"https://4b16-34-19-5-1.ngrok-free.app\" -> \"http://localhost:8501\"\n"
          ]
        }
      ],
      "source": [
        "import os\n",
        "from pyngrok import ngrok\n",
        "\n",
        "# Get your authtoken from https://dashboard.ngrok.com/get-started/your-authtoken\n",
        "NGROK_AUTHTOKEN = \"2nbDptioX1zvmGkbf2ehzjuZdcf_5X8hXUqYdf9vWyhD7Tspk\"  # Replace with your actual authtoken\n",
        "ngrok.set_auth_token(NGROK_AUTHTOKEN)\n",
        "\n",
        "# **Kill any existing ngrok processes. This ensures no prior sessions are running.**\n",
        "os.system(\"pkill ngrok\") # This command kills all running ngrok processes.\n",
        "\n",
        "# Jalankan Streamlit dalam background\n",
        "os.system('streamlit run app.py &')\n",
        "\n",
        "# Create a new ngrok tunnel. The 'connect' function requires 'addr' for HTTP tunnels.\n",
        "public_url = ngrok.connect(addr='8501')\n",
        "print(f\"Aplikasi Anda dapat diakses melalui URL berikut: {public_url}\")"
      ]
    },
    {
      "cell_type": "markdown",
      "metadata": {
        "id": "iNVkdB43RFSn"
      },
      "source": [
        "---\n",
        "---\n",
        "---"
      ]
    }
  ],
  "metadata": {
    "colab": {
      "provenance": [],
      "toc_visible": true
    },
    "kernelspec": {
      "display_name": "Python 3",
      "name": "python3"
    },
    "language_info": {
      "name": "python"
    }
  },
  "nbformat": 4,
  "nbformat_minor": 0
}
